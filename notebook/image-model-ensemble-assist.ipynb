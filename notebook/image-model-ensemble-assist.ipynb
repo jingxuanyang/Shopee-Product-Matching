{
 "metadata": {
  "language_info": {
   "codemirror_mode": {
    "name": "ipython",
    "version": 3
   },
   "file_extension": ".py",
   "mimetype": "text/x-python",
   "name": "python",
   "nbconvert_exporter": "python",
   "pygments_lexer": "ipython3",
   "version": "3.8.3"
  },
  "orig_nbformat": 2,
  "kernelspec": {
   "name": "python383jvsc74a57bd00b64f3f517ef2f38123c9b9d844dc7ba7aeffcc4559b7061ceea5f8a66fe5b86",
   "display_name": "Python 3.8.3 64-bit ('base': conda)"
  }
 },
 "nbformat": 4,
 "nbformat_minor": 2,
 "cells": [
  {
   "cell_type": "code",
   "execution_count": null,
   "metadata": {},
   "outputs": [],
   "source": [
    "import sys\n",
    "sys.path.insert(0,'../input/shopee-competition-utils')\n",
    "\n",
    "from sklearn.externals import joblib\n",
    "from config import CFG\n",
    "from run_image_ensemble import run_ensemble"
   ]
  },
  {
   "cell_type": "code",
   "execution_count": null,
   "metadata": {},
   "outputs": [],
   "source": [
    "test_result_dict = joblib.load(CFG.RESULTS_SAVE_PATH + 'test_result_dict.pkl')\n"
   ]
  },
  {
   "cell_type": "code",
   "execution_count": 11,
   "metadata": {},
   "outputs": [
    {
     "output_type": "execute_result",
     "data": {
      "text/plain": [
       "{'resnet50_f1':     arcface  arcface_min2  arcface_inb   curface  curface_min2  curface_inb\n",
       " 0  0.754504      0.759015     0.763479  0.745349      0.754114     0.757634\n",
       " 1  0.757385      0.762153     0.766813  0.748712      0.751089     0.755284\n",
       " 2  0.756016      0.760688     0.763971  0.727715      0.735701     0.738750\n",
       " 3  0.754748      0.761924     0.766721  0.745469      0.751560     0.755471\n",
       " 4  0.750931      0.759248     0.762747  0.747953      0.755956     0.757896,\n",
       " 'resnet50_recall':     arcface  arcface_min2  arcface_inb   curface  curface_min2  curface_inb\n",
       " 0  0.726135      0.737980     0.735445  0.700187      0.720058     0.717326\n",
       " 1  0.719897      0.729491     0.731456  0.719728      0.732217     0.733465\n",
       " 2  0.719139      0.729739     0.724357  0.679837      0.701474     0.696361\n",
       " 3  0.711140      0.728862     0.732482  0.707077      0.722055     0.723288\n",
       " 4  0.708940      0.729409     0.720646  0.704176      0.722531     0.720256,\n",
       " 'resnet50_precision':     arcface  arcface_min2  arcface_inb   curface  curface_min2  curface_inb\n",
       " 0  0.903717      0.886275     0.909203  0.922990      0.895257     0.922072\n",
       " 1  0.916971      0.908140     0.919759  0.901706      0.872659     0.896272\n",
       " 2  0.915644      0.901486     0.924949  0.918415      0.882507     0.909569\n",
       " 3  0.925569      0.899222     0.919427  0.912194      0.890665     0.908556\n",
       " 4  0.921425      0.892086     0.927010  0.922249      0.896997     0.918419,\n",
       " 'resnext50_32x4d_f1':     arcface  arcface_min2  arcface_inb   curface  curface_min2  curface_inb\n",
       " 0  0.758100      0.762757     0.767442  0.748604      0.754094     0.756514\n",
       " 1  0.758061      0.768830     0.774971  0.750406      0.754917     0.758001\n",
       " 2  0.755512      0.765205     0.770115  0.750959      0.755761     0.759365\n",
       " 3  0.760473      0.766220     0.769829  0.749053      0.754980     0.759859\n",
       " 4  0.760304      0.765025     0.769453  0.751419      0.754943     0.760430,\n",
       " 'resnext50_32x4d_recall':     arcface  arcface_min2  arcface_inb   curface  curface_min2  curface_inb\n",
       " 0  0.722231      0.731581     0.732828  0.709426      0.726938     0.722001\n",
       " 1  0.714512      0.737509     0.750737  0.721941      0.738529     0.747169\n",
       " 2  0.710143      0.730468     0.739865  0.714287      0.727848     0.730477\n",
       " 3  0.731729      0.750740     0.737928  0.710697      0.730563     0.726254\n",
       " 4  0.729586      0.741870     0.744825  0.725628      0.741104     0.741022,\n",
       " 'resnext50_32x4d_precision':     arcface  arcface_min2  arcface_inb   curface  curface_min2  curface_inb\n",
       " 0  0.916539      0.905592     0.920490  0.917312      0.886294     0.911178\n",
       " 1  0.928729      0.902310     0.912349  0.904924      0.871644     0.883976\n",
       " 2  0.928756      0.905402     0.915639  0.915738      0.893041     0.908566\n",
       " 3  0.910224      0.876288     0.920155  0.916441      0.879074     0.912683\n",
       " 4  0.911656      0.892681     0.909406  0.900707      0.868084     0.893239,\n",
       " 'densenet121_f1':     arcface  arcface_min2  arcface_inb   curface  curface_min2  curface_inb\n",
       " 0  0.760751      0.765368     0.769475  0.751954      0.760916     0.768167\n",
       " 1  0.754631      0.761486     0.764829  0.746426      0.753263     0.757684\n",
       " 2  0.760364      0.765664     0.773745  0.747276      0.755566     0.760693\n",
       " 3  0.760973      0.766886     0.770870  0.753099      0.757926     0.764922\n",
       " 4  0.762457      0.766837     0.774231  0.752115      0.759137     0.762900,\n",
       " 'densenet121_recall':     arcface  arcface_min2  arcface_inb   curface  curface_min2  curface_inb\n",
       " 0  0.724906      0.735078     0.733511  0.711163      0.735773     0.739816\n",
       " 1  0.714749      0.729419     0.730594  0.716050      0.735117     0.754049\n",
       " 2  0.736673      0.752253     0.743857  0.702504      0.721637     0.725079\n",
       " 3  0.719247      0.730658     0.733596  0.722143      0.741018     0.743939\n",
       " 4  0.739039      0.748214     0.744963  0.715691      0.736306     0.735570,\n",
       " 'densenet121_precision':     arcface  arcface_min2  arcface_inb   curface  curface_min2  curface_inb\n",
       " 0  0.919453      0.906024     0.923068  0.922425      0.883526     0.912677\n",
       " 1  0.922519      0.904055     0.920279  0.904701      0.874486     0.872443\n",
       " 2  0.904725      0.877429     0.917051  0.923014      0.898200     0.915747\n",
       " 3  0.928803      0.917053     0.928287  0.908521      0.871154     0.900721\n",
       " 4  0.904256      0.894696     0.916536  0.913441      0.879285     0.905425,\n",
       " 'efficientnet_b3_f1':     arcface  arcface_min2  arcface_inb   curface  curface_min2  curface_inb\n",
       " 0  0.771322      0.772242     0.776091  0.777180      0.781816     0.786734\n",
       " 1  0.770600      0.776107     0.780758  0.764622      0.774650     0.777486\n",
       " 2  0.771648      0.779711     0.782682  0.762334      0.774678     0.778232\n",
       " 3  0.770033      0.778074     0.780944  0.771006      0.780545     0.784129\n",
       " 4  0.774103      0.780399     0.784428  0.770161      0.776968     0.779055,\n",
       " 'efficientnet_b3_recall':     arcface  arcface_min2  arcface_inb   curface  curface_min2  curface_inb\n",
       " 0  0.758434      0.760086     0.760039  0.763746      0.777752     0.771454\n",
       " 1  0.764059      0.777227     0.771501  0.738881      0.760893     0.760597\n",
       " 2  0.747363      0.764323     0.765467  0.725346      0.750146     0.755007\n",
       " 3  0.751042      0.769103     0.761347  0.742574      0.765335     0.765997\n",
       " 4  0.758495      0.774724     0.770221  0.742454      0.757309     0.761339,\n",
       " 'efficientnet_b3_precision':     arcface  arcface_min2  arcface_inb   curface  curface_min2  curface_inb\n",
       " 0  0.897510      0.895831     0.904069  0.900115      0.878366     0.906318\n",
       " 1  0.889318      0.872678     0.897084  0.910981      0.885073     0.907514\n",
       " 2  0.912719      0.893087     0.909671  0.925027      0.899264     0.909036\n",
       " 3  0.905486      0.882861     0.911205  0.917921      0.887122     0.905983\n",
       " 4  0.902920      0.878982     0.905547  0.916254      0.898520     0.909596,\n",
       " 'eca_nfnet_l0_f1':     arcface  arcface_min2  arcface_inb   curface  curface_min2  curface_inb\n",
       " 0  0.778099      0.786771     0.792967  0.777439      0.785427     0.789872\n",
       " 1  0.781083      0.790105     0.796495  0.778386      0.785534     0.789425\n",
       " 2  0.781168      0.789638     0.795453  0.777702      0.784869     0.790731\n",
       " 3  0.780730      0.788540     0.793992  0.779186      0.785028     0.788155\n",
       " 4  0.788663      0.798483     0.802978  0.778731      0.786050     0.790093,\n",
       " 'eca_nfnet_l0_recall':     arcface  arcface_min2  arcface_inb   curface  curface_min2  curface_inb\n",
       " 0  0.760411      0.778293     0.773199  0.755358      0.778518     0.778665\n",
       " 1  0.769113      0.790960     0.778460  0.755153      0.775631     0.775419\n",
       " 2  0.769050      0.787566     0.782896  0.747418      0.769772     0.776784\n",
       " 3  0.769754      0.786799     0.787350  0.751721      0.766054     0.766943\n",
       " 4  0.771427      0.794252     0.791718  0.744829      0.763949     0.766623,\n",
       " 'eca_nfnet_l0_precision':     arcface  arcface_min2  arcface_inb   curface  curface_min2  curface_inb\n",
       " 0  0.906291      0.888775     0.915095  0.911029      0.873808     0.903580\n",
       " 1  0.900302      0.871912     0.911158  0.913138      0.879639     0.905964\n",
       " 2  0.902243      0.881589     0.908400  0.920800      0.882193     0.904348\n",
       " 3  0.900319      0.880979     0.901259  0.917939      0.898453     0.913811\n",
       " 4  0.911394      0.882347     0.911369  0.926952      0.897978     0.917820}"
      ]
     },
     "metadata": {},
     "execution_count": 11
    }
   ],
   "source": [
    "test_result_dict"
   ]
  },
  {
   "cell_type": "code",
   "execution_count": 20,
   "metadata": {},
   "outputs": [
    {
     "output_type": "execute_result",
     "data": {
      "text/plain": [
       "    arcface  arcface_min2  arcface_inb   curface  curface_min2  curface_inb\n",
       "0  0.754504      0.759015     0.763479  0.745349      0.754114     0.757634\n",
       "1  0.757385      0.762153     0.766813  0.748712      0.751089     0.755284\n",
       "2  0.756016      0.760688     0.763971  0.727715      0.735701     0.738750\n",
       "3  0.754748      0.761924     0.766721  0.745469      0.751560     0.755471\n",
       "4  0.750931      0.759248     0.762747  0.747953      0.755956     0.757896"
      ],
      "text/html": "<div>\n<style scoped>\n    .dataframe tbody tr th:only-of-type {\n        vertical-align: middle;\n    }\n\n    .dataframe tbody tr th {\n        vertical-align: top;\n    }\n\n    .dataframe thead th {\n        text-align: right;\n    }\n</style>\n<table border=\"1\" class=\"dataframe\">\n  <thead>\n    <tr style=\"text-align: right;\">\n      <th></th>\n      <th>arcface</th>\n      <th>arcface_min2</th>\n      <th>arcface_inb</th>\n      <th>curface</th>\n      <th>curface_min2</th>\n      <th>curface_inb</th>\n    </tr>\n  </thead>\n  <tbody>\n    <tr>\n      <th>0</th>\n      <td>0.754504</td>\n      <td>0.759015</td>\n      <td>0.763479</td>\n      <td>0.745349</td>\n      <td>0.754114</td>\n      <td>0.757634</td>\n    </tr>\n    <tr>\n      <th>1</th>\n      <td>0.757385</td>\n      <td>0.762153</td>\n      <td>0.766813</td>\n      <td>0.748712</td>\n      <td>0.751089</td>\n      <td>0.755284</td>\n    </tr>\n    <tr>\n      <th>2</th>\n      <td>0.756016</td>\n      <td>0.760688</td>\n      <td>0.763971</td>\n      <td>0.727715</td>\n      <td>0.735701</td>\n      <td>0.738750</td>\n    </tr>\n    <tr>\n      <th>3</th>\n      <td>0.754748</td>\n      <td>0.761924</td>\n      <td>0.766721</td>\n      <td>0.745469</td>\n      <td>0.751560</td>\n      <td>0.755471</td>\n    </tr>\n    <tr>\n      <th>4</th>\n      <td>0.750931</td>\n      <td>0.759248</td>\n      <td>0.762747</td>\n      <td>0.747953</td>\n      <td>0.755956</td>\n      <td>0.757896</td>\n    </tr>\n  </tbody>\n</table>\n</div>"
     },
     "metadata": {},
     "execution_count": 20
    }
   ],
   "source": [
    "test_result_dict['resnet50_f1']"
   ]
  },
  {
   "cell_type": "code",
   "execution_count": 21,
   "metadata": {},
   "outputs": [
    {
     "output_type": "execute_result",
     "data": {
      "text/plain": [
       "arcface         1\n",
       "arcface_min2    1\n",
       "arcface_inb     1\n",
       "curface         1\n",
       "curface_min2    4\n",
       "curface_inb     4\n",
       "dtype: int64"
      ]
     },
     "metadata": {},
     "execution_count": 21
    }
   ],
   "source": [
    "test_result_dict['resnet50_f1'].idxmax()"
   ]
  },
  {
   "cell_type": "code",
   "execution_count": 22,
   "metadata": {},
   "outputs": [
    {
     "output_type": "execute_result",
     "data": {
      "text/plain": [
       "    arcface  arcface_min2  arcface_inb   curface  curface_min2  curface_inb\n",
       "0  0.758100      0.762757     0.767442  0.748604      0.754094     0.756514\n",
       "1  0.758061      0.768830     0.774971  0.750406      0.754917     0.758001\n",
       "2  0.755512      0.765205     0.770115  0.750959      0.755761     0.759365\n",
       "3  0.760473      0.766220     0.769829  0.749053      0.754980     0.759859\n",
       "4  0.760304      0.765025     0.769453  0.751419      0.754943     0.760430"
      ],
      "text/html": "<div>\n<style scoped>\n    .dataframe tbody tr th:only-of-type {\n        vertical-align: middle;\n    }\n\n    .dataframe tbody tr th {\n        vertical-align: top;\n    }\n\n    .dataframe thead th {\n        text-align: right;\n    }\n</style>\n<table border=\"1\" class=\"dataframe\">\n  <thead>\n    <tr style=\"text-align: right;\">\n      <th></th>\n      <th>arcface</th>\n      <th>arcface_min2</th>\n      <th>arcface_inb</th>\n      <th>curface</th>\n      <th>curface_min2</th>\n      <th>curface_inb</th>\n    </tr>\n  </thead>\n  <tbody>\n    <tr>\n      <th>0</th>\n      <td>0.758100</td>\n      <td>0.762757</td>\n      <td>0.767442</td>\n      <td>0.748604</td>\n      <td>0.754094</td>\n      <td>0.756514</td>\n    </tr>\n    <tr>\n      <th>1</th>\n      <td>0.758061</td>\n      <td>0.768830</td>\n      <td>0.774971</td>\n      <td>0.750406</td>\n      <td>0.754917</td>\n      <td>0.758001</td>\n    </tr>\n    <tr>\n      <th>2</th>\n      <td>0.755512</td>\n      <td>0.765205</td>\n      <td>0.770115</td>\n      <td>0.750959</td>\n      <td>0.755761</td>\n      <td>0.759365</td>\n    </tr>\n    <tr>\n      <th>3</th>\n      <td>0.760473</td>\n      <td>0.766220</td>\n      <td>0.769829</td>\n      <td>0.749053</td>\n      <td>0.754980</td>\n      <td>0.759859</td>\n    </tr>\n    <tr>\n      <th>4</th>\n      <td>0.760304</td>\n      <td>0.765025</td>\n      <td>0.769453</td>\n      <td>0.751419</td>\n      <td>0.754943</td>\n      <td>0.760430</td>\n    </tr>\n  </tbody>\n</table>\n</div>"
     },
     "metadata": {},
     "execution_count": 22
    }
   ],
   "source": [
    "test_result_dict['resnext50_32x4d_f1']"
   ]
  },
  {
   "cell_type": "code",
   "execution_count": 23,
   "metadata": {},
   "outputs": [
    {
     "output_type": "execute_result",
     "data": {
      "text/plain": [
       "arcface         3\n",
       "arcface_min2    1\n",
       "arcface_inb     1\n",
       "curface         4\n",
       "curface_min2    2\n",
       "curface_inb     4\n",
       "dtype: int64"
      ]
     },
     "metadata": {},
     "execution_count": 23
    }
   ],
   "source": [
    "test_result_dict['resnext50_32x4d_f1'].idxmax()"
   ]
  },
  {
   "cell_type": "code",
   "execution_count": 24,
   "metadata": {},
   "outputs": [
    {
     "output_type": "execute_result",
     "data": {
      "text/plain": [
       "    arcface  arcface_min2  arcface_inb   curface  curface_min2  curface_inb\n",
       "0  0.760751      0.765368     0.769475  0.751954      0.760916     0.768167\n",
       "1  0.754631      0.761486     0.764829  0.746426      0.753263     0.757684\n",
       "2  0.760364      0.765664     0.773745  0.747276      0.755566     0.760693\n",
       "3  0.760973      0.766886     0.770870  0.753099      0.757926     0.764922\n",
       "4  0.762457      0.766837     0.774231  0.752115      0.759137     0.762900"
      ],
      "text/html": "<div>\n<style scoped>\n    .dataframe tbody tr th:only-of-type {\n        vertical-align: middle;\n    }\n\n    .dataframe tbody tr th {\n        vertical-align: top;\n    }\n\n    .dataframe thead th {\n        text-align: right;\n    }\n</style>\n<table border=\"1\" class=\"dataframe\">\n  <thead>\n    <tr style=\"text-align: right;\">\n      <th></th>\n      <th>arcface</th>\n      <th>arcface_min2</th>\n      <th>arcface_inb</th>\n      <th>curface</th>\n      <th>curface_min2</th>\n      <th>curface_inb</th>\n    </tr>\n  </thead>\n  <tbody>\n    <tr>\n      <th>0</th>\n      <td>0.760751</td>\n      <td>0.765368</td>\n      <td>0.769475</td>\n      <td>0.751954</td>\n      <td>0.760916</td>\n      <td>0.768167</td>\n    </tr>\n    <tr>\n      <th>1</th>\n      <td>0.754631</td>\n      <td>0.761486</td>\n      <td>0.764829</td>\n      <td>0.746426</td>\n      <td>0.753263</td>\n      <td>0.757684</td>\n    </tr>\n    <tr>\n      <th>2</th>\n      <td>0.760364</td>\n      <td>0.765664</td>\n      <td>0.773745</td>\n      <td>0.747276</td>\n      <td>0.755566</td>\n      <td>0.760693</td>\n    </tr>\n    <tr>\n      <th>3</th>\n      <td>0.760973</td>\n      <td>0.766886</td>\n      <td>0.770870</td>\n      <td>0.753099</td>\n      <td>0.757926</td>\n      <td>0.764922</td>\n    </tr>\n    <tr>\n      <th>4</th>\n      <td>0.762457</td>\n      <td>0.766837</td>\n      <td>0.774231</td>\n      <td>0.752115</td>\n      <td>0.759137</td>\n      <td>0.762900</td>\n    </tr>\n  </tbody>\n</table>\n</div>"
     },
     "metadata": {},
     "execution_count": 24
    }
   ],
   "source": [
    "test_result_dict['densenet121_f1']"
   ]
  },
  {
   "cell_type": "code",
   "execution_count": 25,
   "metadata": {},
   "outputs": [
    {
     "output_type": "execute_result",
     "data": {
      "text/plain": [
       "arcface         4\n",
       "arcface_min2    3\n",
       "arcface_inb     4\n",
       "curface         3\n",
       "curface_min2    0\n",
       "curface_inb     0\n",
       "dtype: int64"
      ]
     },
     "metadata": {},
     "execution_count": 25
    }
   ],
   "source": [
    "test_result_dict['densenet121_f1'].idxmax()"
   ]
  },
  {
   "cell_type": "code",
   "execution_count": 26,
   "metadata": {},
   "outputs": [
    {
     "output_type": "execute_result",
     "data": {
      "text/plain": [
       "    arcface  arcface_min2  arcface_inb   curface  curface_min2  curface_inb\n",
       "0  0.771322      0.772242     0.776091  0.777180      0.781816     0.786734\n",
       "1  0.770600      0.776107     0.780758  0.764622      0.774650     0.777486\n",
       "2  0.771648      0.779711     0.782682  0.762334      0.774678     0.778232\n",
       "3  0.770033      0.778074     0.780944  0.771006      0.780545     0.784129\n",
       "4  0.774103      0.780399     0.784428  0.770161      0.776968     0.779055"
      ],
      "text/html": "<div>\n<style scoped>\n    .dataframe tbody tr th:only-of-type {\n        vertical-align: middle;\n    }\n\n    .dataframe tbody tr th {\n        vertical-align: top;\n    }\n\n    .dataframe thead th {\n        text-align: right;\n    }\n</style>\n<table border=\"1\" class=\"dataframe\">\n  <thead>\n    <tr style=\"text-align: right;\">\n      <th></th>\n      <th>arcface</th>\n      <th>arcface_min2</th>\n      <th>arcface_inb</th>\n      <th>curface</th>\n      <th>curface_min2</th>\n      <th>curface_inb</th>\n    </tr>\n  </thead>\n  <tbody>\n    <tr>\n      <th>0</th>\n      <td>0.771322</td>\n      <td>0.772242</td>\n      <td>0.776091</td>\n      <td>0.777180</td>\n      <td>0.781816</td>\n      <td>0.786734</td>\n    </tr>\n    <tr>\n      <th>1</th>\n      <td>0.770600</td>\n      <td>0.776107</td>\n      <td>0.780758</td>\n      <td>0.764622</td>\n      <td>0.774650</td>\n      <td>0.777486</td>\n    </tr>\n    <tr>\n      <th>2</th>\n      <td>0.771648</td>\n      <td>0.779711</td>\n      <td>0.782682</td>\n      <td>0.762334</td>\n      <td>0.774678</td>\n      <td>0.778232</td>\n    </tr>\n    <tr>\n      <th>3</th>\n      <td>0.770033</td>\n      <td>0.778074</td>\n      <td>0.780944</td>\n      <td>0.771006</td>\n      <td>0.780545</td>\n      <td>0.784129</td>\n    </tr>\n    <tr>\n      <th>4</th>\n      <td>0.774103</td>\n      <td>0.780399</td>\n      <td>0.784428</td>\n      <td>0.770161</td>\n      <td>0.776968</td>\n      <td>0.779055</td>\n    </tr>\n  </tbody>\n</table>\n</div>"
     },
     "metadata": {},
     "execution_count": 26
    }
   ],
   "source": [
    "test_result_dict['efficientnet_b3_f1']"
   ]
  },
  {
   "cell_type": "code",
   "execution_count": 27,
   "metadata": {},
   "outputs": [
    {
     "output_type": "execute_result",
     "data": {
      "text/plain": [
       "arcface         4\n",
       "arcface_min2    4\n",
       "arcface_inb     4\n",
       "curface         0\n",
       "curface_min2    0\n",
       "curface_inb     0\n",
       "dtype: int64"
      ]
     },
     "metadata": {},
     "execution_count": 27
    }
   ],
   "source": [
    "test_result_dict['efficientnet_b3_f1'].idxmax()"
   ]
  },
  {
   "cell_type": "code",
   "execution_count": 28,
   "metadata": {},
   "outputs": [
    {
     "output_type": "execute_result",
     "data": {
      "text/plain": [
       "    arcface  arcface_min2  arcface_inb   curface  curface_min2  curface_inb\n",
       "0  0.778099      0.786771     0.792967  0.777439      0.785427     0.789872\n",
       "1  0.781083      0.790105     0.796495  0.778386      0.785534     0.789425\n",
       "2  0.781168      0.789638     0.795453  0.777702      0.784869     0.790731\n",
       "3  0.780730      0.788540     0.793992  0.779186      0.785028     0.788155\n",
       "4  0.788663      0.798483     0.802978  0.778731      0.786050     0.790093"
      ],
      "text/html": "<div>\n<style scoped>\n    .dataframe tbody tr th:only-of-type {\n        vertical-align: middle;\n    }\n\n    .dataframe tbody tr th {\n        vertical-align: top;\n    }\n\n    .dataframe thead th {\n        text-align: right;\n    }\n</style>\n<table border=\"1\" class=\"dataframe\">\n  <thead>\n    <tr style=\"text-align: right;\">\n      <th></th>\n      <th>arcface</th>\n      <th>arcface_min2</th>\n      <th>arcface_inb</th>\n      <th>curface</th>\n      <th>curface_min2</th>\n      <th>curface_inb</th>\n    </tr>\n  </thead>\n  <tbody>\n    <tr>\n      <th>0</th>\n      <td>0.778099</td>\n      <td>0.786771</td>\n      <td>0.792967</td>\n      <td>0.777439</td>\n      <td>0.785427</td>\n      <td>0.789872</td>\n    </tr>\n    <tr>\n      <th>1</th>\n      <td>0.781083</td>\n      <td>0.790105</td>\n      <td>0.796495</td>\n      <td>0.778386</td>\n      <td>0.785534</td>\n      <td>0.789425</td>\n    </tr>\n    <tr>\n      <th>2</th>\n      <td>0.781168</td>\n      <td>0.789638</td>\n      <td>0.795453</td>\n      <td>0.777702</td>\n      <td>0.784869</td>\n      <td>0.790731</td>\n    </tr>\n    <tr>\n      <th>3</th>\n      <td>0.780730</td>\n      <td>0.788540</td>\n      <td>0.793992</td>\n      <td>0.779186</td>\n      <td>0.785028</td>\n      <td>0.788155</td>\n    </tr>\n    <tr>\n      <th>4</th>\n      <td>0.788663</td>\n      <td>0.798483</td>\n      <td>0.802978</td>\n      <td>0.778731</td>\n      <td>0.786050</td>\n      <td>0.790093</td>\n    </tr>\n  </tbody>\n</table>\n</div>"
     },
     "metadata": {},
     "execution_count": 28
    }
   ],
   "source": [
    "test_result_dict['eca_nfnet_l0_f1']"
   ]
  },
  {
   "cell_type": "code",
   "execution_count": 29,
   "metadata": {},
   "outputs": [
    {
     "output_type": "execute_result",
     "data": {
      "text/plain": [
       "arcface         4\n",
       "arcface_min2    4\n",
       "arcface_inb     4\n",
       "curface         3\n",
       "curface_min2    4\n",
       "curface_inb     2\n",
       "dtype: int64"
      ]
     },
     "metadata": {},
     "execution_count": 29
    }
   ],
   "source": [
    "test_result_dict['eca_nfnet_l0_f1'].idxmax()"
   ]
  },
  {
   "cell_type": "code",
   "execution_count": null,
   "metadata": {},
   "outputs": [],
   "source": []
  }
 ]
}
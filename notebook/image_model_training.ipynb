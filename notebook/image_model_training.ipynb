{
 "metadata": {
  "language_info": {
   "codemirror_mode": {
    "name": "ipython",
    "version": 3
   },
   "file_extension": ".py",
   "mimetype": "text/x-python",
   "name": "python",
   "nbconvert_exporter": "python",
   "pygments_lexer": "ipython3",
   "version": "3.8.3"
  },
  "orig_nbformat": 2,
  "kernelspec": {
   "name": "python383jvsc74a57bd00b64f3f517ef2f38123c9b9d844dc7ba7aeffcc4559b7061ceea5f8a66fe5b86",
   "display_name": "Python 3.8.3 64-bit ('base': conda)"
  }
 },
 "nbformat": 4,
 "nbformat_minor": 2,
 "cells": [
  {
   "source": [
    "# Train image model"
   ],
   "cell_type": "markdown",
   "metadata": {}
  },
  {
   "source": [
    "## Import packages and utils"
   ],
   "cell_type": "markdown",
   "metadata": {}
  },
  {
   "cell_type": "code",
   "execution_count": null,
   "metadata": {},
   "outputs": [],
   "source": [
    "import sys\n",
    "sys.path.insert(0,'../input/shopee-competition-utils')\n",
    "\n",
    "from config import CFG\n",
    "from run_training import run_training\n",
    "from run_test import run_test"
   ]
  },
  {
   "source": [
    "## Train\n",
    "\n",
    "Parameters in `CFG`:\n",
    "\n",
    "+ `CFG.DEVICE` can be set to one of the availiable cuda, `['cuda:0','cuda:1','cuda:2','cuda:3']`\n",
    "+ `CFG.MARGINS = [0.5,0.6,0.7,0.8,0.9]`\n",
    "+ `CFG.MODEL_NAMES = ['resnet50','resnext50_32x4d','densenet121','efficientnet_b3','eca_nfnet_l0']`\n",
    "+ `CFG.LOSS_MODULES = ['arc','curricular']`"
   ],
   "cell_type": "markdown",
   "metadata": {}
  },
  {
   "cell_type": "code",
   "execution_count": null,
   "metadata": {},
   "outputs": [],
   "source": [
    "# choose which cuda to train model on\n",
    "CFG.DEVICE = 'cuda:0'\n",
    "\n",
    "# choose which model with what hyperparameters to train\n",
    "CFG.LOSS_MODULE = CFG.LOSS_MODULES[1]\n",
    "CFG.MODEL_NAME = CFG.MODEL_NAMES[4]\n",
    "CFG.MARGIN = CFG.MARGINS[4]\n",
    "CFG.MODEL_PATH = f'{CFG.MODEL_NAME}_{CFG.LOSS_MODULE}_face_epoch_8_bs_8_margin_{CFG.MARGIN}.pt'\n",
    "\n",
    "# start training\n",
    "run_training()"
   ]
  },
  {
   "source": [
    "## Test"
   ],
   "cell_type": "markdown",
   "metadata": {}
  },
  {
   "cell_type": "code",
   "execution_count": null,
   "metadata": {},
   "outputs": [],
   "source": [
    "CFG.USE_AMP = False\n",
    "CFG.USE_EMBEDDING = False # set `False` if use model to compute the embeddings\n",
    "run_test()"
   ]
  }
 ]
}
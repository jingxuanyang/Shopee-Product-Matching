{
 "metadata": {
  "language_info": {
   "codemirror_mode": {
    "name": "ipython",
    "version": 3
   },
   "file_extension": ".py",
   "mimetype": "text/x-python",
   "name": "python",
   "nbconvert_exporter": "python",
   "pygments_lexer": "ipython3",
   "version": "3.8.3"
  },
  "orig_nbformat": 2,
  "kernelspec": {
   "name": "python383jvsc74a57bd00b64f3f517ef2f38123c9b9d844dc7ba7aeffcc4559b7061ceea5f8a66fe5b86",
   "display_name": "Python 3.8.3 64-bit ('base': conda)"
  }
 },
 "nbformat": 4,
 "nbformat_minor": 2,
 "cells": [
  {
   "source": [
    "# Image model ensemble"
   ],
   "cell_type": "markdown",
   "metadata": {}
  },
  {
   "cell_type": "code",
   "execution_count": 1,
   "metadata": {},
   "outputs": [],
   "source": [
    "import sys\n",
    "sys.path.insert(0,'../input/shopee-competition-utils')\n",
    "\n",
    "import pandas as pd\n",
    "from run_ensemble import run_image_ensemble"
   ]
  },
  {
   "source": [
    "## Obtain ensemble results\n",
    "+ `result_df[0]` are scores after voting\n",
    "+ `result_df[1]` are scores after voting and min2"
   ],
   "cell_type": "markdown",
   "metadata": {}
  },
  {
   "cell_type": "code",
   "execution_count": 2,
   "metadata": {},
   "outputs": [
    {
     "output_type": "stream",
     "name": "stdout",
     "text": [
      "Loading ../input/image-embeddings/resnet50_arc_face_epoch_8_bs_8_margin_0.6_test_embed.csv ...\n",
      "Loading ../input/image-embeddings/resnet50_arc_face_epoch_8_bs_8_margin_0.6_valid_embed.csv ...\n",
      "Loading ../input/image-embeddings/resnext50_32x4d_arc_face_epoch_8_bs_8_margin_0.8_test_embed.csv ...\n",
      "Loading ../input/image-embeddings/resnext50_32x4d_arc_face_epoch_8_bs_8_margin_0.8_valid_embed.csv ...\n",
      "Loading ../input/image-embeddings/densenet121_arc_face_epoch_8_bs_8_margin_0.9_test_embed.csv ...\n",
      "Loading ../input/image-embeddings/densenet121_arc_face_epoch_8_bs_8_margin_0.9_valid_embed.csv ...\n",
      "Loading ../input/image-embeddings/efficientnet_b3_curricular_face_epoch_8_bs_8_margin_0.5_test_embed.csv ...\n",
      "Loading ../input/image-embeddings/efficientnet_b3_curricular_face_epoch_8_bs_8_margin_0.5_valid_embed.csv ...\n",
      "Loading ../input/image-embeddings/eca_nfnet_l0_arc_face_epoch_8_bs_8_margin_0.9_test_embed.csv ...\n",
      "Loading ../input/image-embeddings/eca_nfnet_l0_arc_face_epoch_8_bs_8_margin_0.9_valid_embed.csv ...\n",
      "Searching best threshold...\n",
      "threshold = 0.01 -> f1 score = 0.5380800667716699, recall = 0.4015533672190366, precision = 0.9995133109456369\n",
      "threshold = 0.02 -> f1 score = 0.568206909065184, recall = 0.43731462358706286, precision = 0.9993916386820462\n",
      "threshold = 0.03 -> f1 score = 0.5885811298777189, recall = 0.46167031257658697, precision = 0.9992091302866599\n",
      "threshold = 0.04 -> f1 score = 0.6036586404121806, recall = 0.4795033273902448, precision = 0.9990996252494282\n",
      "threshold = 0.05 -> f1 score = 0.616727958507195, recall = 0.49492024854550337, precision = 0.9990996252494282\n",
      "threshold = 0.06 -> f1 score = 0.6258102976516738, recall = 0.5058990090744823, precision = 0.9987390329046048\n",
      "threshold = 0.07 -> f1 score = 0.6338403230805176, recall = 0.5158126843003152, precision = 0.998709831561343\n",
      "threshold = 0.08 -> f1 score = 0.6411855921325981, recall = 0.524636399715482, precision = 0.9987124862289122\n",
      "threshold = 0.09 -> f1 score = 0.647441603872836, recall = 0.5325399407435222, precision = 0.9983474694381399\n",
      "threshold = 0.1 -> f1 score = 0.6546573092495823, recall = 0.5416343686084021, precision = 0.998225797174549\n",
      "threshold = 0.11 -> f1 score = 0.6596608795999552, recall = 0.5477361915624065, precision = 0.9977634425729042\n",
      "threshold = 0.12 -> f1 score = 0.6642813338063447, recall = 0.5534825683427678, precision = 0.9974227602348499\n",
      "threshold = 0.13 -> f1 score = 0.6709592376658701, recall = 0.5618919413171246, precision = 0.9971224035613\n",
      "threshold = 0.14 -> f1 score = 0.6759026690428809, recall = 0.5680982942098838, precision = 0.9968352570192257\n",
      "threshold = 0.15 -> f1 score = 0.6804735263190922, recall = 0.5739115151961809, precision = 0.996725751981994\n",
      "threshold = 0.16 -> f1 score = 0.6846741685373545, recall = 0.5795194859698369, precision = 0.9960939727036969\n",
      "threshold = 0.17 -> f1 score = 0.6894440348774882, recall = 0.5857053624447596, precision = 0.9955552858750407\n",
      "threshold = 0.18 -> f1 score = 0.6944822014358997, recall = 0.5924956907268888, precision = 0.9947470291425614\n",
      "threshold = 0.19 -> f1 score = 0.6998963579481275, recall = 0.599986995149141, precision = 0.9932761927293123\n",
      "threshold = 0.2 -> f1 score = 0.7039798633708687, recall = 0.605646704984213, precision = 0.9920652437165162\n",
      "threshold = 0.21 -> f1 score = 0.7091353080030678, recall = 0.6128657102061957, precision = 0.9912038543952288\n",
      "threshold = 0.22 -> f1 score = 0.7148692181563749, recall = 0.6204345044535198, precision = 0.9906501442540806\n",
      "threshold = 0.23 -> f1 score = 0.7199482142443183, recall = 0.6276177124766965, precision = 0.9892206842171681\n",
      "threshold = 0.24 -> f1 score = 0.7246865063817636, recall = 0.6347723671531849, precision = 0.9875541968390086\n",
      "threshold = 0.25 -> f1 score = 0.7287697015325284, recall = 0.6410916436308849, precision = 0.9857870750208005\n",
      "threshold = 0.26 -> f1 score = 0.732554056695205, recall = 0.6465986426687895, precision = 0.9842924224511185\n",
      "threshold = 0.27 -> f1 score = 0.7369927252677627, recall = 0.6529710112172068, precision = 0.9830694749741947\n",
      "threshold = 0.28 -> f1 score = 0.7419799019152654, recall = 0.6604091119918999, precision = 0.9812917323277456\n",
      "threshold = 0.29 -> f1 score = 0.7453878289061012, recall = 0.6658016460894917, precision = 0.9796859590133131\n",
      "threshold = 0.3 -> f1 score = 0.749690791508019, recall = 0.673047157377182, precision = 0.9770062228250354\n",
      "threshold = 0.31 -> f1 score = 0.7537408322205001, recall = 0.6796123318484518, precision = 0.9748644376784313\n",
      "threshold = 0.32 -> f1 score = 0.758265980012166, recall = 0.6871944848578077, precision = 0.9728977155408814\n",
      "threshold = 0.33 -> f1 score = 0.7630788454069044, recall = 0.6947637494148524, precision = 0.9706819214065594\n",
      "threshold = 0.34 -> f1 score = 0.7672492337589142, recall = 0.702368693657649, precision = 0.9675198845171479\n",
      "threshold = 0.35 -> f1 score = 0.7717167314129694, recall = 0.710699385992627, precision = 0.9638411515155263\n",
      "threshold = 0.36 -> f1 score = 0.7759023625242564, recall = 0.718745521326344, precision = 0.9604379146561206\n",
      "threshold = 0.37 -> f1 score = 0.7784787856553038, recall = 0.7257378730734111, precision = 0.9552418534999754\n",
      "threshold = 0.38 -> f1 score = 0.7828889774599189, recall = 0.7348407353264625, precision = 0.9507384864846908\n",
      "threshold = 0.39 -> f1 score = 0.7867862909304697, recall = 0.7432676881717235, precision = 0.9470606258931579\n",
      "threshold = 0.4 -> f1 score = 0.7902933825417146, recall = 0.7519213295280615, precision = 0.9416927229366133\n",
      "threshold = 0.41 -> f1 score = 0.7906941978800546, recall = 0.7580478581334882, precision = 0.9345686466876991\n",
      "threshold = 0.42 -> f1 score = 0.7914036612041689, recall = 0.7652349852563289, precision = 0.92691685859732\n",
      "threshold = 0.43 -> f1 score = 0.7918878620045616, recall = 0.773966729849292, precision = 0.9164888746737869\n",
      "threshold = 0.44 -> f1 score = 0.7923425261590913, recall = 0.7822702463241258, precision = 0.9069203819403977\n",
      "threshold = 0.45 -> f1 score = 0.7907876757457531, recall = 0.789535667278271, precision = 0.8952807395544543\n",
      "threshold = 0.46 -> f1 score = 0.7887070745991442, recall = 0.7966196400005034, precision = 0.8833593798157766\n",
      "threshold = 0.47 -> f1 score = 0.7850368818278063, recall = 0.8027802496752849, precision = 0.869526055475938\n",
      "threshold = 0.48 -> f1 score = 0.7803502948007445, recall = 0.8105820061352954, precision = 0.8525797133993923\n",
      "threshold = 0.49 -> f1 score = 0.7738246748059054, recall = 0.8184440065216727, precision = 0.8334456016334506\n",
      "Best threshold = 0.44\n",
      "Best f1 score = 0.7923425261590913\n",
      "________________________________\n",
      "Searching best min2 threshold...\n",
      "min2 threshold = 0.44 -> f1 score = 0.7923425261590913, recall = 0.7822702463241258, precision = 0.9069203819403977\n",
      "min2 threshold = 0.445 -> f1 score = 0.7929899952034062, recall = 0.7835518608339489, precision = 0.9058253315680805\n",
      "min2 threshold = 0.45 -> f1 score = 0.7935383148068905, recall = 0.7846795599303296, precision = 0.9042922610468366\n",
      "min2 threshold = 0.455 -> f1 score = 0.7943359998610571, recall = 0.7859275356378658, precision = 0.9035622274652919\n",
      "min2 threshold = 0.46 -> f1 score = 0.7955625706347008, recall = 0.7877912232250801, precision = 0.9027591905255926\n",
      "min2 threshold = 0.465 -> f1 score = 0.7958147097184786, recall = 0.7886028487951505, precision = 0.9012991233625032\n",
      "min2 threshold = 0.47 -> f1 score = 0.7963219369903898, recall = 0.7896540971525751, precision = 0.8999850629157226\n",
      "min2 threshold = 0.475 -> f1 score = 0.796815709043127, recall = 0.7909766746578067, precision = 0.8980869756037063\n",
      "min2 threshold = 0.48 -> f1 score = 0.797131968256337, recall = 0.7920413069642261, precision = 0.8962618916498445\n",
      "min2 threshold = 0.485 -> f1 score = 0.7978309642685174, recall = 0.7933967359806273, precision = 0.895239844635682\n",
      "min2 threshold = 0.49 -> f1 score = 0.7982842571834834, recall = 0.7945275927619441, precision = 0.8936337707562835\n",
      "min2 threshold = 0.495 -> f1 score = 0.7987711779945389, recall = 0.7955218289730004, precision = 0.8923197103095029\n",
      "min2 threshold = 0.5 -> f1 score = 0.7995453298929421, recall = 0.7971578529480519, precision = 0.8908596431464133\n",
      "min2 threshold = 0.505 -> f1 score = 0.799979104396308, recall = 0.7984775290377674, precision = 0.8886695424017792\n",
      "min2 threshold = 0.51 -> f1 score = 0.8001927417044883, recall = 0.7995216202032158, precision = 0.8864064382989905\n",
      "min2 threshold = 0.515 -> f1 score = 0.800142208481229, recall = 0.8002195510259825, precision = 0.8842893409125105\n",
      "min2 threshold = 0.52 -> f1 score = 0.8004968035138793, recall = 0.8014035959682401, precision = 0.8823182502423398\n",
      "min2 threshold = 0.525 -> f1 score = 0.8004701301976743, recall = 0.8020711459301969, precision = 0.8804201629303234\n",
      "min2 threshold = 0.53 -> f1 score = 0.8006524068363681, recall = 0.8026673400217917, precision = 0.8793251125580063\n",
      "min2 threshold = 0.535 -> f1 score = 0.8004589978197943, recall = 0.8031436869337497, precision = 0.8771350118133718\n",
      "min2 threshold = 0.54 -> f1 score = 0.8005054650366511, recall = 0.8036656609445543, precision = 0.8757479480084368\n",
      "min2 threshold = 0.545 -> f1 score = 0.8004591136981403, recall = 0.804224136634436, precision = 0.874360884203502\n",
      "min2 threshold = 0.55 -> f1 score = 0.800538276436085, recall = 0.804776528711138, precision = 0.8731928304730303\n",
      "min2 threshold = 0.555 -> f1 score = 0.8005241086041587, recall = 0.8054822278399647, precision = 0.8712947431610139\n",
      "min2 threshold = 0.56 -> f1 score = 0.8003971866733552, recall = 0.805935401716266, precision = 0.8696156659234611\n",
      "min2 threshold = 0.565 -> f1 score = 0.800287359055862, recall = 0.8063045901275044, precision = 0.8683016054766803\n",
      "min2 threshold = 0.57 -> f1 score = 0.8001367839235376, recall = 0.806759644393334, precision = 0.8663305148065096\n",
      "min2 threshold = 0.575 -> f1 score = 0.7998134513214257, recall = 0.8070545207027423, precision = 0.8645054308526479\n",
      "min2 threshold = 0.58 -> f1 score = 0.7995960609102115, recall = 0.8076189230093344, precision = 0.8622423267498591\n",
      "min2 threshold = 0.585 -> f1 score = 0.799202226066092, recall = 0.8077892641783615, precision = 0.8601982327215336\n",
      "min2 threshold = 0.59 -> f1 score = 0.7991675533200744, recall = 0.8081529536353492, precision = 0.859030178991062\n",
      "min2 threshold = 0.595 -> f1 score = 0.7988605113573162, recall = 0.8083719637098126, precision = 0.8574241051116636\n",
      "min2 threshold = 0.6 -> f1 score = 0.7986220337206781, recall = 0.8087004788215078, precision = 0.8558910345904195\n",
      "min2 threshold = 0.605 -> f1 score = 0.7983982831684125, recall = 0.8087734821796623, precision = 0.854868987576257\n",
      "min2 threshold = 0.61 -> f1 score = 0.7980726650153743, recall = 0.8088464855378167, precision = 0.8534819237713219\n",
      "min2 threshold = 0.615 -> f1 score = 0.7978549652575957, recall = 0.8089924922541256, precision = 0.8522408666826958\n",
      "min2 threshold = 0.62 -> f1 score = 0.7977016555718724, recall = 0.8090702055063546, precision = 0.851364826384842\n",
      "min2 threshold = 0.625 -> f1 score = 0.7973581440617038, recall = 0.8090771582071312, precision = 0.8501237692962159\n",
      "min2 threshold = 0.63 -> f1 score = 0.7972218711264822, recall = 0.809186663244363, precision = 0.8493937357146712\n",
      "min2 threshold = 0.635 -> f1 score = 0.7971343935094383, recall = 0.809186663244363, precision = 0.8489557155657443\n",
      "Best min2 threshold = 0.53\n",
      "Best f1 score after min2 = 0.8006524068363681\n",
      "f1 score after voting = 0.7894457065591676, recall = 0.7818567854938566, precision = 0.9013315575790423\n",
      "f1 score after min2 and voting = 0.7989192497233356, recall = 0.8033120596832327, precision = 0.8746931106369901\n"
     ]
    },
    {
     "output_type": "execute_result",
     "data": {
      "text/plain": [
       "         f1    recall  precision\n",
       "0  0.789446  0.781857   0.901332\n",
       "1  0.798919  0.803312   0.874693"
      ],
      "text/html": "<div>\n<style scoped>\n    .dataframe tbody tr th:only-of-type {\n        vertical-align: middle;\n    }\n\n    .dataframe tbody tr th {\n        vertical-align: top;\n    }\n\n    .dataframe thead th {\n        text-align: right;\n    }\n</style>\n<table border=\"1\" class=\"dataframe\">\n  <thead>\n    <tr style=\"text-align: right;\">\n      <th></th>\n      <th>f1</th>\n      <th>recall</th>\n      <th>precision</th>\n    </tr>\n  </thead>\n  <tbody>\n    <tr>\n      <th>0</th>\n      <td>0.789446</td>\n      <td>0.781857</td>\n      <td>0.901332</td>\n    </tr>\n    <tr>\n      <th>1</th>\n      <td>0.798919</td>\n      <td>0.803312</td>\n      <td>0.874693</td>\n    </tr>\n  </tbody>\n</table>\n</div>"
     },
     "metadata": {},
     "execution_count": 2
    }
   ],
   "source": [
    "result_df = run_image_ensemble()"
   ]
  },
  {
   "cell_type": "code",
   "execution_count": null,
   "metadata": {},
   "outputs": [],
   "source": [
    "result_df"
   ]
  },
  {
   "cell_type": "code",
   "execution_count": 5,
   "metadata": {},
   "outputs": [],
   "source": [
    "result_df.to_csv('../input/shopee-competition-results/image_ensemble_df.csv', index = False)"
   ]
  }
 ]
}
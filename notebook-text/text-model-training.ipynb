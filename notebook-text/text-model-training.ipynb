{
 "metadata": {
  "language_info": {
   "codemirror_mode": {
    "name": "ipython",
    "version": 3
   },
   "file_extension": ".py",
   "mimetype": "text/x-python",
   "name": "python",
   "nbconvert_exporter": "python",
   "pygments_lexer": "ipython3",
   "version": "3.8.3"
  },
  "orig_nbformat": 2,
  "kernelspec": {
   "name": "python383jvsc74a57bd00b64f3f517ef2f38123c9b9d844dc7ba7aeffcc4559b7061ceea5f8a66fe5b86",
   "display_name": "Python 3.8.3 64-bit ('base': conda)"
  }
 },
 "nbformat": 4,
 "nbformat_minor": 2,
 "cells": [
  {
   "source": [
    "# Train text model"
   ],
   "cell_type": "markdown",
   "metadata": {}
  },
  {
   "cell_type": "code",
   "execution_count": 1,
   "metadata": {},
   "outputs": [],
   "source": [
    "import sys\n",
    "sys.path.insert(0,'../input/shopee-competition-utils')\n",
    "\n",
    "from config import CFG\n",
    "from run_training import run_bert_training\n",
    "from run_test import run_bert_test"
   ]
  },
  {
   "source": [
    "## Train\n",
    "\n",
    "Parameters in `CFG`:\n",
    "\n",
    "+ `CFG.DEVICE` can be set to one of the availiable cuda, `['cuda:0','cuda:1','cuda:2','cuda:3']`\n",
    "+ `CFG.BERT_MARGINS = [0.5,0.6,0.7,0.8]`\n",
    "+ `CFG.BERT_MODEL_NAMES = ['bert-base-multilingual-uncased',\n",
    "                           'cahya/bert-base-indonesian-1.5G',\n",
    "                           'cahya/distilbert-base-indonesian',\n",
    "                           'sentence-transformers/paraphrase-xlm-r-multilingual-v1',\n",
    "                           'sentence-transformers/paraphrase-distilroberta-base-v1']`"
   ],
   "cell_type": "markdown",
   "metadata": {}
  },
  {
   "cell_type": "code",
   "execution_count": 2,
   "metadata": {},
   "outputs": [],
   "source": [
    "# choose which cuda to train model on\n",
    "CFG.DEVICE = 'cuda:0'\n",
    "CFG.BATCH_SIZE = 16\n",
    "# choose which model with what hyperparameters to train\n",
    "CFG.BERT_MODEL_NAME = CFG.BERT_MODEL_NAMES[3]\n",
    "CFG.MARGIN = CFG.BERT_MARGINS[3]\n",
    "CFG.MODEL_PATH_BERT = f\"{CFG.BERT_MODEL_NAME.rsplit('/', 1)[-1]}_epoch8-bs16x1_margin_{CFG.MARGIN}.pt\"\n",
    "\n",
    "# start training\n",
    "run_bert_training()"
   ]
  },
  {
   "cell_type": "code",
   "execution_count": 3,
   "metadata": {},
   "outputs": [
    {
     "output_type": "stream",
     "name": "stdout",
     "text": [
      "Building Model Backbone for sentence-transformers/paraphrase-xlm-r-multilingual-v1 model, margin = 0.8\n",
      "paraphrase-xlm-r-multilingual-v1_epoch8-bs16x1_margin_0.8.pt\n",
      "get_bert_embeddings: 100%|████████████████████| 216/216 [00:04<00:00, 53.00it/s]\n",
      "Searching best threshold...\n",
      "threshold = 0.01 -> f1 score = 0.5043079609507127, recall = 0.3705569079686218, precision = 0.9982965883097289\n",
      "threshold = 0.02 -> f1 score = 0.5221985775132593, recall = 0.3904053620942551, precision = 0.9972015379374117\n",
      "threshold = 0.03 -> f1 score = 0.5364176878539656, recall = 0.40718974835347266, precision = 0.9969971285345792\n",
      "threshold = 0.04 -> f1 score = 0.5493804316529174, recall = 0.4226959014617234, precision = 0.996058861564775\n",
      "threshold = 0.05 -> f1 score = 0.5609129187284428, recall = 0.43637580972483175, precision = 0.9953818423266519\n",
      "threshold = 0.06 -> f1 score = 0.5727563397591395, recall = 0.45070187858379923, precision = 0.9945953180512972\n",
      "threshold = 0.07 -> f1 score = 0.5820083336170618, recall = 0.4624230014706396, precision = 0.9928733078864487\n",
      "threshold = 0.08 -> f1 score = 0.5916922390552221, recall = 0.47410497314395905, precision = 0.9920445459538759\n",
      "threshold = 0.09 -> f1 score = 0.6022357735461649, recall = 0.48763079088541306, precision = 0.9904438604175794\n",
      "threshold = 0.1 -> f1 score = 0.6124120252212493, recall = 0.5005465370617883, precision = 0.9884465233019769\n",
      "threshold = 0.11 -> f1 score = 0.6231588881640823, recall = 0.5143493402509101, precision = 0.9865425261943004\n",
      "threshold = 0.12 -> f1 score = 0.6336594753551716, recall = 0.5281084862479718, precision = 0.9843840022990266\n",
      "threshold = 0.13 -> f1 score = 0.6426363311261152, recall = 0.5398187543124265, precision = 0.9828290307703363\n",
      "threshold = 0.14 -> f1 score = 0.6534660638953793, recall = 0.554239174004033, precision = 0.9806672043421936\n",
      "threshold = 0.15 -> f1 score = 0.6639607838424737, recall = 0.5676431778811059, precision = 0.9794790720546306\n",
      "threshold = 0.16 -> f1 score = 0.6732320318701077, recall = 0.5795398288137259, precision = 0.9785039241675251\n",
      "threshold = 0.17 -> f1 score = 0.6810263701756396, recall = 0.5904352516419196, precision = 0.9761298454793862\n",
      "threshold = 0.18 -> f1 score = 0.6892768611981998, recall = 0.6019404241923151, precision = 0.9736607400645956\n",
      "threshold = 0.19 -> f1 score = 0.6976703529051563, recall = 0.6138881131119898, precision = 0.9706894855602701\n",
      "threshold = 0.2 -> f1 score = 0.7049023330398471, recall = 0.6244831141401432, precision = 0.9684964562537932\n",
      "threshold = 0.21 -> f1 score = 0.71276444874634, recall = 0.6354349611351146, precision = 0.9664451173978115\n",
      "threshold = 0.22 -> f1 score = 0.7202495644223977, recall = 0.6458292708566001, precision = 0.9647179465948633\n",
      "threshold = 0.23 -> f1 score = 0.7284873854456603, recall = 0.6580212071847319, precision = 0.9613606597892631\n",
      "threshold = 0.24 -> f1 score = 0.7366641586807888, recall = 0.6698340289404494, precision = 0.9585522311759724\n",
      "threshold = 0.25 -> f1 score = 0.7437515410468231, recall = 0.6802764546861325, precision = 0.9558234408975835\n",
      "threshold = 0.26 -> f1 score = 0.7524234712150489, recall = 0.6944326372819082, precision = 0.951819260945287\n",
      "threshold = 0.27 -> f1 score = 0.7587974194604834, recall = 0.705136109338109, precision = 0.9484797099648409\n",
      "threshold = 0.28 -> f1 score = 0.7654833576174108, recall = 0.7161664600088992, precision = 0.9449067224528349\n",
      "threshold = 0.29 -> f1 score = 0.770356309637033, recall = 0.7253426875272491, precision = 0.9405189696250267\n",
      "threshold = 0.3 -> f1 score = 0.7755126119754442, recall = 0.7350741381511776, precision = 0.9361661698202384\n",
      "threshold = 0.31 -> f1 score = 0.7802535594129656, recall = 0.7454470781145516, precision = 0.9309187977148273\n",
      "threshold = 0.32 -> f1 score = 0.7855098108660854, recall = 0.7566285275340574, precision = 0.9255207085142577\n",
      "threshold = 0.33 -> f1 score = 0.7901522601574765, recall = 0.7666842309374711, precision = 0.9201911480413256\n",
      "threshold = 0.34 -> f1 score = 0.7954016588152985, recall = 0.7772306896475906, precision = 0.9154395921746198\n",
      "threshold = 0.35 -> f1 score = 0.7985581087613688, recall = 0.7853478006860904, precision = 0.9107332174874598\n",
      "threshold = 0.36 -> f1 score = 0.8015819363471266, recall = 0.7936280716730666, precision = 0.9053026081821282\n",
      "threshold = 0.37 -> f1 score = 0.8037550335716006, recall = 0.8020157547479423, precision = 0.8987126538931475\n",
      "threshold = 0.38 -> f1 score = 0.8049443049770983, recall = 0.8101071465888431, precision = 0.8901479753557786\n",
      "threshold = 0.39 -> f1 score = 0.8058153431794678, recall = 0.8168355612354794, precision = 0.8828336350008567\n",
      "threshold = 0.4 -> f1 score = 0.8060876191325302, recall = 0.824699447669233, precision = 0.8739561874403475\n",
      "threshold = 0.41 -> f1 score = 0.8066230251555855, recall = 0.83332472338453, precision = 0.8653670709997388\n",
      "threshold = 0.42 -> f1 score = 0.8066529226665177, recall = 0.8411685706404204, precision = 0.8568165251892134\n",
      "threshold = 0.43 -> f1 score = 0.8050685265064879, recall = 0.849325802998115, precision = 0.8448567077779956\n",
      "Best threshold = 0.42\n",
      "Best f1 score = 0.8066529226665177\n",
      "________________________________\n",
      "Searching best min2 threshold...\n",
      "min2 threshold = 0.42 -> f1 score = 0.8066529226665177, recall = 0.8411685706404204, precision = 0.8568165251892134\n",
      "min2 threshold = 0.425 -> f1 score = 0.8072863993212477, recall = 0.8424774165616187, precision = 0.8556484714587417\n",
      "min2 threshold = 0.43 -> f1 score = 0.8078443430241761, recall = 0.8435505659264894, precision = 0.8546994278027334\n",
      "min2 threshold = 0.435 -> f1 score = 0.8081856047539616, recall = 0.8442454883691121, precision = 0.8538963908630341\n",
      "min2 threshold = 0.44 -> f1 score = 0.8087010211038065, recall = 0.8451458631196839, precision = 0.853239360639644\n",
      "min2 threshold = 0.445 -> f1 score = 0.809292870972923, recall = 0.8463588249765354, precision = 0.8519983035510177\n",
      "min2 threshold = 0.45 -> f1 score = 0.8097715769487818, recall = 0.8472032304858553, precision = 0.8511952666113185\n",
      "min2 threshold = 0.455 -> f1 score = 0.8098808542153084, recall = 0.8477118205476649, precision = 0.850027212880847\n",
      "min2 threshold = 0.46 -> f1 score = 0.8104522628681886, recall = 0.8486853724739106, precision = 0.8493701826574568\n",
      "min2 threshold = 0.465 -> f1 score = 0.8106516789677358, recall = 0.849127323572892, precision = 0.8487861557922209\n",
      "get_bert_embeddings:   3%|▌                     | 6/216 [00:00<00:03, 56.60it/s]min2 threshold = 0.47 -> f1 score = 0.8106501620148392, recall = 0.8493219991946374, precision = 0.8480561222106762\n",
      "Best min2 threshold = 0.465\n",
      "Best f1 score after min2 = 0.8106516789677358\n",
      "get_bert_embeddings: 100%|████████████████████| 216/216 [00:03<00:00, 59.80it/s]\n",
      "Test f1 score = 0.8231314402943737, recall = 0.8581433743152511, precision = 0.8625986021345122\n",
      "Test f1 score after min2 = 0.8266318036283392, recall = 0.8653716959062255, precision = 0.8549354872607712\n",
      "Searching best threshold...\n",
      "threshold = 0.01 -> f1 score = 0.7417366179728313, recall = 0.691111224085709, precision = 0.9468638429107109\n",
      "threshold = 0.02 -> f1 score = 0.7691491550988439, recall = 0.7407782214665024, precision = 0.9283754311028554\n",
      "threshold = 0.03 -> f1 score = 0.7838974876330549, recall = 0.7699005782731156, precision = 0.9148339234438619\n",
      "threshold = 0.04 -> f1 score = 0.7970352757756384, recall = 0.7930380732664448, precision = 0.9073221693484472\n",
      "threshold = 0.05 -> f1 score = 0.8038990034628055, recall = 0.8078093306033977, precision = 0.8988915808158998\n",
      "threshold = 0.06 -> f1 score = 0.807151806833411, recall = 0.8171254521048334, precision = 0.8919483975327493\n",
      "threshold = 0.07 -> f1 score = 0.8089322444675302, recall = 0.8248813349591906, precision = 0.8840343944207342\n",
      "threshold = 0.08 -> f1 score = 0.8120836213020687, recall = 0.8321643407296468, precision = 0.8801808196714567\n",
      "threshold = 0.09 -> f1 score = 0.8128377985953927, recall = 0.8366878752628455, precision = 0.875633458027273\n",
      "threshold = 0.1 -> f1 score = 0.8141037935815083, recall = 0.8420778946901085, precision = 0.8712414855530125\n",
      "threshold = 0.11 -> f1 score = 0.815771828077629, recall = 0.8468191093436163, precision = 0.8685035495865423\n",
      "threshold = 0.12 -> f1 score = 0.8165754757507531, recall = 0.8508057839006734, precision = 0.8654694113671954\n",
      "threshold = 0.13 -> f1 score = 0.8165077327755833, recall = 0.8535866469476308, precision = 0.862600765239208\n",
      "Best threshold = 0.12\n",
      "Best f1 score = 0.8165754757507531\n",
      "________________________________\n",
      "Searching best min2 threshold...\n",
      "min2 threshold = 0.12 -> f1 score = 0.8165754757507531, recall = 0.8508057839006734, precision = 0.8654694113671954\n",
      "min2 threshold = 0.125 -> f1 score = 0.8165808239821196, recall = 0.8508471524702943, precision = 0.8653234046508864\n",
      "min2 threshold = 0.13 -> f1 score = 0.8167207649126869, recall = 0.8510235772525008, precision = 0.865104394576423\n",
      "min2 threshold = 0.135 -> f1 score = 0.8168276225753921, recall = 0.8511184816181017, precision = 0.8650313912182686\n",
      "min2 threshold = 0.14 -> f1 score = 0.8169071151209378, recall = 0.8513314080793857, precision = 0.8647393777856507\n",
      "min2 threshold = 0.145 -> f1 score = 0.816886037789304, recall = 0.8513606094226475, precision = 0.8644473643530327\n",
      "Best min2 threshold = 0.14\n",
      "Best f1 score after min2 = 0.8169071151209378\n",
      "CFG.BEST_THRESHOLD after INB is 0.12\n",
      "CFG.BEST_THRESHOLD_MIN2 after INB is 0.14\n",
      "Test f1 score after INB = 0.832381305085975, recall = 0.8681734613650965, precision = 0.8695858868159676\n"
     ]
    }
   ],
   "source": [
    "run_bert_test()"
   ]
  }
 ]
}
{
 "metadata": {
  "language_info": {
   "codemirror_mode": {
    "name": "ipython",
    "version": 3
   },
   "file_extension": ".py",
   "mimetype": "text/x-python",
   "name": "python",
   "nbconvert_exporter": "python",
   "pygments_lexer": "ipython3",
   "version": "3.8.3"
  },
  "orig_nbformat": 2,
  "kernelspec": {
   "name": "python383jvsc74a57bd00b64f3f517ef2f38123c9b9d844dc7ba7aeffcc4559b7061ceea5f8a66fe5b86",
   "display_name": "Python 3.8.3 64-bit ('base': conda)"
  }
 },
 "nbformat": 4,
 "nbformat_minor": 2,
 "cells": [
  {
   "cell_type": "code",
   "execution_count": 1,
   "metadata": {},
   "outputs": [],
   "source": [
    "import sys\n",
    "sys.path.insert(0,'../input/shopee-competition-utils')\n",
    "\n",
    "from sklearn.externals import joblib\n",
    "from config import CFG\n",
    "from run_test import run_tfidf_test"
   ]
  },
  {
   "cell_type": "code",
   "execution_count": 2,
   "metadata": {},
   "outputs": [
    {
     "output_type": "stream",
     "name": "stdout",
     "text": [
      "Our title text embedding shape is (6849, 9440)\n",
      "Our title text embedding shape is (6851, 9433)\n",
      "Searching best threshold...\n",
      "threshold = 0.4 -> f1 score = 0.6935733890901368, recall = 0.6100460411379508, precision = 0.9628019467594596\n",
      "threshold = 0.41 -> f1 score = 0.6987727679719713, recall = 0.6183685857739498, precision = 0.9592960643503674\n",
      "threshold = 0.42 -> f1 score = 0.7040128650910119, recall = 0.6259803862505101, precision = 0.9571370630229601\n",
      "threshold = 0.43 -> f1 score = 0.7102573539986259, recall = 0.6354771713286028, precision = 0.9545584107551086\n",
      "threshold = 0.44 -> f1 score = 0.7156696522808632, recall = 0.6444010535695531, precision = 0.9514946669548469\n",
      "threshold = 0.45 -> f1 score = 0.7224837219372099, recall = 0.6549893978061205, precision = 0.9483497084022727\n",
      "threshold = 0.46 -> f1 score = 0.7271835871426781, recall = 0.6633576838826921, precision = 0.9442958572756197\n",
      "threshold = 0.47 -> f1 score = 0.7323671380502146, recall = 0.6723676957447365, precision = 0.940207016948867\n",
      "threshold = 0.48 -> f1 score = 0.7373486964172956, recall = 0.6814134076732771, precision = 0.9364384147530682\n",
      "threshold = 0.49 -> f1 score = 0.7409029161092268, recall = 0.6891117911780563, precision = 0.9316273112762754\n",
      "threshold = 0.5 -> f1 score = 0.7450036200054697, recall = 0.6985413529162484, precision = 0.925493275391383\n",
      "threshold = 0.51 -> f1 score = 0.7501451268510537, recall = 0.7090753650728944, precision = 0.9205031477114574\n",
      "threshold = 0.52 -> f1 score = 0.7538506163044099, recall = 0.7174551937332646, precision = 0.9150414386712633\n",
      "threshold = 0.53 -> f1 score = 0.7577088303855056, recall = 0.7272624216567941, precision = 0.908264704402649\n",
      "threshold = 0.54 -> f1 score = 0.7595743040355923, recall = 0.7336269136742142, precision = 0.9029046754709269\n",
      "threshold = 0.55 -> f1 score = 0.7631133484046286, recall = 0.7434137648474146, precision = 0.896116364873289\n",
      "threshold = 0.56 -> f1 score = 0.7667359968192522, recall = 0.7543500264974895, precision = 0.888663317321348\n",
      "threshold = 0.57 -> f1 score = 0.7687141789602486, recall = 0.7631859989157742, precision = 0.8811216832215997\n",
      "threshold = 0.58 -> f1 score = 0.7690052945364346, recall = 0.7713962428372723, precision = 0.8712628724240807\n",
      "threshold = 0.59 -> f1 score = 0.7693198954461903, recall = 0.7796554169363653, precision = 0.8610167265721695\n",
      "threshold = 0.6 -> f1 score = 0.769158954677754, recall = 0.7880110514695915, precision = 0.85063550718633\n",
      "Best threshold = 0.59\n",
      "Best f1 score = 0.7693198954461903\n",
      "________________________________\n",
      "Searching best min2 threshold...\n",
      "min2 threshold = 0.59 -> f1 score = 0.7693198954461903, recall = 0.7796554169363653, precision = 0.8610167265721695\n",
      "min2 threshold = 0.595 -> f1 score = 0.7696259054357515, recall = 0.7804248150737778, precision = 0.859848672841698\n",
      "min2 threshold = 0.6 -> f1 score = 0.7703346125242633, recall = 0.7817300638088789, precision = 0.8589726325438444\n",
      "min2 threshold = 0.605 -> f1 score = 0.7705891345191855, recall = 0.7823786170855528, precision = 0.8578045788133727\n",
      "min2 threshold = 0.61 -> f1 score = 0.7712504219770218, recall = 0.7835025211660932, precision = 0.8568555351573646\n",
      "min2 threshold = 0.615 -> f1 score = 0.7717120813085891, recall = 0.7844300025359751, precision = 0.8557604847850475\n",
      "min2 threshold = 0.62 -> f1 score = 0.7719233169994569, recall = 0.7852135719134997, precision = 0.8542274142638034\n",
      "min2 threshold = 0.625 -> f1 score = 0.7726582174715455, recall = 0.7864667962284847, precision = 0.8534973806822588\n",
      "min2 threshold = 0.63 -> f1 score = 0.7729417928536751, recall = 0.7872169837285626, precision = 0.852475333668096\n",
      "min2 threshold = 0.635 -> f1 score = 0.7732604546517708, recall = 0.7878371305559705, precision = 0.8518183034447058\n",
      "min2 threshold = 0.64 -> f1 score = 0.7735309717597825, recall = 0.7885235322936206, precision = 0.8505042429979253\n",
      "min2 threshold = 0.645 -> f1 score = 0.7738539372382451, recall = 0.7892257550720588, precision = 0.8497742094163806\n",
      "min2 threshold = 0.65 -> f1 score = 0.7743869881655141, recall = 0.7901626315017081, precision = 0.8491171791929902\n",
      "min2 threshold = 0.655 -> f1 score = 0.7746845637587532, recall = 0.7907636924838466, precision = 0.8483871456114453\n",
      "min2 threshold = 0.66 -> f1 score = 0.774982265764734, recall = 0.7914791253937604, precision = 0.8473650985972826\n",
      "min2 threshold = 0.665 -> f1 score = 0.7754016578617433, recall = 0.7923417817426193, precision = 0.8464160549412745\n",
      "min2 threshold = 0.67 -> f1 score = 0.7759068769171156, recall = 0.793421188538189, precision = 0.8453940079271116\n",
      "min2 threshold = 0.675 -> f1 score = 0.7758364354099677, recall = 0.7935477276923236, precision = 0.844663974345567\n",
      "Best min2 threshold = 0.67\n",
      "Best f1 score after min2 = 0.7759068769171156\n",
      "Test f1 score = 0.7832204925114824, recall = 0.7944286405425178, precision = 0.8636156926020787\n",
      "Test f1 score after min2 = 0.7898648130991582, recall = 0.8086271070964803, precision = 0.8477785885296806\n",
      "Searching best threshold...\n",
      "threshold = 0.01 -> f1 score = 0.6248704367021137, recall = 0.5160522731850029, precision = 0.9886552202036218\n",
      "threshold = 0.02 -> f1 score = 0.6611551641772472, recall = 0.5660541709383827, precision = 0.9770516629912169\n",
      "threshold = 0.03 -> f1 score = 0.6884734774802219, recall = 0.6063108376032508, precision = 0.9669299434849166\n",
      "threshold = 0.04 -> f1 score = 0.7061738554577038, recall = 0.6336634955161363, precision = 0.9594703760882084\n",
      "threshold = 0.05 -> f1 score = 0.7188450696266709, recall = 0.6554251857071661, precision = 0.9506836410694569\n",
      "threshold = 0.06 -> f1 score = 0.7304191598245164, recall = 0.675183599824772, precision = 0.943276440617558\n",
      "threshold = 0.07 -> f1 score = 0.7387461525417535, recall = 0.6901302608751176, precision = 0.936902588202386\n",
      "threshold = 0.08 -> f1 score = 0.7469162941139389, recall = 0.7052225953879666, precision = 0.9303703884820655\n",
      "threshold = 0.09 -> f1 score = 0.752010946936229, recall = 0.7158607049702824, precision = 0.925450127517561\n",
      "threshold = 0.1 -> f1 score = 0.7580469581139969, recall = 0.7261064381590746, precision = 0.9213400043858727\n",
      "threshold = 0.11 -> f1 score = 0.7628983581562812, recall = 0.735592037499668, precision = 0.9170221104689591\n",
      "threshold = 0.12 -> f1 score = 0.7661449508635164, recall = 0.7426756077957796, precision = 0.9128128041650891\n",
      "threshold = 0.13 -> f1 score = 0.7699127131642794, recall = 0.7506221470690753, precision = 0.9083293551066117\n",
      "threshold = 0.14 -> f1 score = 0.7724034405293698, recall = 0.7578306853585102, precision = 0.903152006332006\n",
      "threshold = 0.15 -> f1 score = 0.7759971119197505, recall = 0.765082412725158, precision = 0.8993666440119068\n",
      "threshold = 0.16 -> f1 score = 0.7790251621457633, recall = 0.7720751749634583, precision = 0.894981277919849\n",
      "threshold = 0.17 -> f1 score = 0.7808628739377069, recall = 0.7776744152378389, precision = 0.8911183705350415\n",
      "threshold = 0.18 -> f1 score = 0.7825015942143707, recall = 0.7825442688445925, precision = 0.8879471024069413\n",
      "threshold = 0.19 -> f1 score = 0.784419130733674, recall = 0.7878030444314873, precision = 0.8845126122932815\n",
      "threshold = 0.2 -> f1 score = 0.7857257290673276, recall = 0.7923032895823693, precision = 0.8812028729977976\n",
      "threshold = 0.21 -> f1 score = 0.7860188372066604, recall = 0.7958232835764127, precision = 0.8775929316096013\n",
      "threshold = 0.22 -> f1 score = 0.7876806613675875, recall = 0.8006303244941827, precision = 0.8748913402992129\n",
      "threshold = 0.23 -> f1 score = 0.7877627363132352, recall = 0.8036854113976019, precision = 0.8712809906984859\n",
      "threshold = 0.24 -> f1 score = 0.7883002392580702, recall = 0.8065488520105881, precision = 0.8690690967623403\n",
      "threshold = 0.25 -> f1 score = 0.7884407948126726, recall = 0.8084090996739213, precision = 0.8668212886667438\n",
      "threshold = 0.26 -> f1 score = 0.7884996826365571, recall = 0.81083361531721, precision = 0.8644656174360896\n",
      "threshold = 0.27 -> f1 score = 0.7886491820263539, recall = 0.8131732107207139, precision = 0.8621311563205866\n",
      "threshold = 0.28 -> f1 score = 0.7878761084367683, recall = 0.8146311599655699, precision = 0.8589269714610837\n",
      "Best threshold = 0.27\n",
      "Best f1 score = 0.7886491820263539\n",
      "________________________________\n",
      "Searching best min2 threshold...\n",
      "min2 threshold = 0.27 -> f1 score = 0.7886491820263539, recall = 0.8131732107207139, precision = 0.8621311563205866\n",
      "min2 threshold = 0.275 -> f1 score = 0.7887568508374829, recall = 0.813297490247096, precision = 0.862058152962432\n",
      "min2 threshold = 0.28 -> f1 score = 0.7887479977318275, recall = 0.8133038383651963, precision = 0.8618391428879686\n",
      "Best min2 threshold = 0.275\n",
      "Best f1 score after min2 = 0.7887568508374829\n",
      "CFG.BEST_THRESHOLD after INB is 0.27\n",
      "CFG.BEST_THRESHOLD_MIN2 after INB is 0.275\n",
      "Test f1 score after INB = 0.6488876075156521, recall = 0.5412035855286731, precision = 0.9829267498585854\n"
     ]
    }
   ],
   "source": [
    "result_df = run_tfidf_test()"
   ]
  },
  {
   "cell_type": "code",
   "execution_count": 3,
   "metadata": {},
   "outputs": [
    {
     "output_type": "execute_result",
     "data": {
      "text/plain": [
       "         f1    recall  precision\n",
       "0  0.783220  0.794429   0.863616\n",
       "1  0.789865  0.808627   0.847779\n",
       "2  0.648888  0.541204   0.982927"
      ],
      "text/html": "<div>\n<style scoped>\n    .dataframe tbody tr th:only-of-type {\n        vertical-align: middle;\n    }\n\n    .dataframe tbody tr th {\n        vertical-align: top;\n    }\n\n    .dataframe thead th {\n        text-align: right;\n    }\n</style>\n<table border=\"1\" class=\"dataframe\">\n  <thead>\n    <tr style=\"text-align: right;\">\n      <th></th>\n      <th>f1</th>\n      <th>recall</th>\n      <th>precision</th>\n    </tr>\n  </thead>\n  <tbody>\n    <tr>\n      <th>0</th>\n      <td>0.783220</td>\n      <td>0.794429</td>\n      <td>0.863616</td>\n    </tr>\n    <tr>\n      <th>1</th>\n      <td>0.789865</td>\n      <td>0.808627</td>\n      <td>0.847779</td>\n    </tr>\n    <tr>\n      <th>2</th>\n      <td>0.648888</td>\n      <td>0.541204</td>\n      <td>0.982927</td>\n    </tr>\n  </tbody>\n</table>\n</div>"
     },
     "metadata": {},
     "execution_count": 3
    }
   ],
   "source": [
    "result_df"
   ]
  },
  {
   "cell_type": "code",
   "execution_count": null,
   "metadata": {},
   "outputs": [],
   "source": [
    "result_df.to_csv('../input/shopee-competition-results/test_tfidf_result_df.csv', index = False)"
   ]
  }
 ]
}
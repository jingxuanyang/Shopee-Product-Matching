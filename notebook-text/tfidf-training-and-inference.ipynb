{
 "cells": [
  {
   "cell_type": "markdown",
   "id": "global-restaurant",
   "metadata": {
    "papermill": {
     "duration": 0.009964,
     "end_time": "2021-05-22T14:02:04.234947",
     "exception": false,
     "start_time": "2021-05-22T14:02:04.224983",
     "status": "completed"
    },
    "tags": []
   },
   "source": [
    "# TF-IDF inference"
   ]
  },
  {
   "cell_type": "markdown",
   "id": "excellent-longer",
   "metadata": {
    "papermill": {
     "duration": 0.008627,
     "end_time": "2021-05-22T14:02:04.253004",
     "exception": false,
     "start_time": "2021-05-22T14:02:04.244377",
     "status": "completed"
    },
    "tags": []
   },
   "source": [
    "## Import packages"
   ]
  },
  {
   "cell_type": "code",
   "execution_count": 1,
   "id": "uniform-surgeon",
   "metadata": {
    "_cell_guid": "b1076dfc-b9ad-4769-8c92-a6c4dae69d19",
    "_uuid": "8f2839f25d086af736a60e9eeb907d3b93b6e0e5",
    "execution": {
     "iopub.execute_input": "2021-05-22T14:02:04.275739Z",
     "iopub.status.busy": "2021-05-22T14:02:04.274229Z",
     "iopub.status.idle": "2021-05-22T14:02:08.759604Z",
     "shell.execute_reply": "2021-05-22T14:02:08.758602Z"
    },
    "papermill": {
     "duration": 4.497953,
     "end_time": "2021-05-22T14:02:08.759767",
     "exception": false,
     "start_time": "2021-05-22T14:02:04.261814",
     "status": "completed"
    },
    "tags": []
   },
   "outputs": [],
   "source": [
    "import gc\n",
    "import pandas as pd\n",
    "import numpy as np\n",
    "\n",
    "from sklearn.feature_extraction.text import TfidfVectorizer\n",
    "from sklearn.neighbors import NearestNeighbors\n",
    "from sklearn.model_selection import GroupKFold"
   ]
  },
  {
   "cell_type": "markdown",
   "id": "broken-uruguay",
   "metadata": {
    "papermill": {
     "duration": 0.008845,
     "end_time": "2021-05-22T14:02:08.778114",
     "exception": false,
     "start_time": "2021-05-22T14:02:08.769269",
     "status": "completed"
    },
    "tags": []
   },
   "source": [
    "## Configures"
   ]
  },
  {
   "cell_type": "code",
   "execution_count": 2,
   "id": "bibliographic-subscriber",
   "metadata": {
    "execution": {
     "iopub.execute_input": "2021-05-22T14:02:08.800195Z",
     "iopub.status.busy": "2021-05-22T14:02:08.799439Z",
     "iopub.status.idle": "2021-05-22T14:02:08.802141Z",
     "shell.execute_reply": "2021-05-22T14:02:08.801716Z"
    },
    "papermill": {
     "duration": 0.015105,
     "end_time": "2021-05-22T14:02:08.802246",
     "exception": false,
     "start_time": "2021-05-22T14:02:08.787141",
     "status": "completed"
    },
    "tags": []
   },
   "outputs": [],
   "source": [
    "class CFG:\n",
    "    TRAIN_CSV = '../input/shopee-product-matching/train.csv'\n",
    "    \n",
    "    # groupkfold\n",
    "    N_SPLITS = 5\n",
    "    TEST_FOLD = 0"
   ]
  },
  {
   "cell_type": "markdown",
   "id": "oriented-aircraft",
   "metadata": {
    "papermill": {
     "duration": 0.008758,
     "end_time": "2021-05-22T14:02:08.819902",
     "exception": false,
     "start_time": "2021-05-22T14:02:08.811144",
     "status": "completed"
    },
    "tags": []
   },
   "source": [
    "## Read and split dataset"
   ]
  },
  {
   "cell_type": "code",
   "execution_count": 3,
   "id": "popular-episode",
   "metadata": {
    "execution": {
     "iopub.execute_input": "2021-05-22T14:02:08.845838Z",
     "iopub.status.busy": "2021-05-22T14:02:08.845351Z",
     "iopub.status.idle": "2021-05-22T14:02:09.779363Z",
     "shell.execute_reply": "2021-05-22T14:02:09.778816Z"
    },
    "papermill": {
     "duration": 0.950577,
     "end_time": "2021-05-22T14:02:09.779504",
     "exception": false,
     "start_time": "2021-05-22T14:02:08.828927",
     "status": "completed"
    },
    "tags": []
   },
   "outputs": [],
   "source": [
    "df = pd.read_csv(CFG.TRAIN_CSV)\n",
    "\n",
    "tmp = df.groupby(['label_group'])['posting_id'].unique().to_dict()\n",
    "df['matches'] = df['label_group'].map(tmp)\n",
    "df['matches'] = df['matches'].apply(lambda x: ' '.join(x))\n",
    "\n",
    "gkf = GroupKFold(n_splits=CFG.N_SPLITS)\n",
    "df['fold'] = -1\n",
    "for i, (train_idx, valid_idx) in enumerate(gkf.split(X=df, groups=df['label_group'])):\n",
    "    df.loc[valid_idx, 'fold'] = i\n",
    "\n",
    "test_df = df[df['fold']==CFG.TEST_FOLD].reset_index(drop=True)"
   ]
  },
  {
   "cell_type": "markdown",
   "id": "limited-variation",
   "metadata": {
    "papermill": {
     "duration": 0.009733,
     "end_time": "2021-05-22T14:02:09.799202",
     "exception": false,
     "start_time": "2021-05-22T14:02:09.789469",
     "status": "completed"
    },
    "tags": []
   },
   "source": [
    "## Utils"
   ]
  },
  {
   "cell_type": "code",
   "execution_count": 4,
   "id": "noticed-clearance",
   "metadata": {
    "execution": {
     "iopub.execute_input": "2021-05-22T14:02:09.828642Z",
     "iopub.status.busy": "2021-05-22T14:02:09.827404Z",
     "iopub.status.idle": "2021-05-22T14:02:09.829774Z",
     "shell.execute_reply": "2021-05-22T14:02:09.830213Z"
    },
    "papermill": {
     "duration": 0.021706,
     "end_time": "2021-05-22T14:02:09.830339",
     "exception": false,
     "start_time": "2021-05-22T14:02:09.808633",
     "status": "completed"
    },
    "tags": []
   },
   "outputs": [],
   "source": [
    "def precision_score(y_true, y_pred):\n",
    "    y_true = y_true.apply(lambda x: set(x.split()))\n",
    "    y_pred = y_pred.apply(lambda x: set(x.split()))\n",
    "    intersection = np.array([len(x[0] & x[1]) for x in zip(y_true, y_pred)])\n",
    "    len_y_pred = y_pred.apply(lambda x: len(x)).values\n",
    "    precision = intersection / len_y_pred\n",
    "    return precision\n",
    "\n",
    "def recall_score(y_true, y_pred):\n",
    "    y_true = y_true.apply(lambda x: set(x.split()))\n",
    "    y_pred = y_pred.apply(lambda x: set(x.split()))\n",
    "    intersection = np.array([len(x[0] & x[1]) for x in zip(y_true, y_pred)])\n",
    "    len_y_true = y_true.apply(lambda x: len(x)).values\n",
    "    recall = intersection / len_y_true\n",
    "    return recall\n",
    "\n",
    "def f1_score(y_true, y_pred):\n",
    "    y_true = y_true.apply(lambda x: set(x.split()))\n",
    "    y_pred = y_pred.apply(lambda x: set(x.split()))\n",
    "    intersection = np.array([len(x[0] & x[1]) for x in zip(y_true, y_pred)])\n",
    "    len_y_pred = y_pred.apply(lambda x: len(x)).values\n",
    "    len_y_true = y_true.apply(lambda x: len(x)).values\n",
    "    f1 = 2 * intersection / (len_y_pred + len_y_true)\n",
    "    return f1"
   ]
  },
  {
   "cell_type": "code",
   "execution_count": 5,
   "id": "velvet-desktop",
   "metadata": {
    "execution": {
     "iopub.execute_input": "2021-05-22T14:02:09.859018Z",
     "iopub.status.busy": "2021-05-22T14:02:09.858425Z",
     "iopub.status.idle": "2021-05-22T14:02:09.862228Z",
     "shell.execute_reply": "2021-05-22T14:02:09.861755Z"
    },
    "papermill": {
     "duration": 0.02287,
     "end_time": "2021-05-22T14:02:09.862332",
     "exception": false,
     "start_time": "2021-05-22T14:02:09.839462",
     "status": "completed"
    },
    "tags": []
   },
   "outputs": [],
   "source": [
    "def get_neighbors(df, embeddings, KNN = 50):\n",
    "    '''\n",
    "    https://www.kaggle.com/ragnar123/unsupervised-baseline-arcface?scriptVersionId=57121538\n",
    "    '''\n",
    "\n",
    "    model = NearestNeighbors(n_neighbors = KNN, metric = \"cosine\")\n",
    "    model.fit(embeddings)\n",
    "    distances, indices = model.kneighbors(embeddings)\n",
    "\n",
    "    thresholds = list(np.linspace(0.1, 0.9, num=9))\n",
    "    scores = []\n",
    "    for threshold in thresholds:\n",
    "        predictions = []\n",
    "        for k in range(embeddings.shape[0]):\n",
    "            idx = np.where(distances[k,] < threshold)[0]\n",
    "            ids = indices[k,idx]\n",
    "            posting_ids = ' '.join(df['posting_id'].iloc[ids].values)\n",
    "            predictions.append(posting_ids)\n",
    "        df['pred_matches'] = predictions\n",
    "        df['f1'] = f1_score(df['matches'], df['pred_matches'])\n",
    "        score = df['f1'].mean()\n",
    "        print(f'Our f1 score for threshold {threshold} is {score}')\n",
    "        scores.append(score)\n",
    "    thresholds_scores = pd.DataFrame({'thresholds': thresholds, 'scores': scores})\n",
    "    max_score = thresholds_scores[thresholds_scores['scores'] == thresholds_scores['scores'].max()]\n",
    "    best_threshold = max_score['thresholds'].values[0]\n",
    "    best_score = max_score['scores'].values[0]\n",
    "    print(f'Our best score is {best_score} and has a threshold {best_threshold}')\n",
    "\n",
    "    # Use threshold\n",
    "    predictions = []\n",
    "    for k in range(embeddings.shape[0]):\n",
    "        idx = np.where(distances[k,] < best_threshold)[0]\n",
    "        ids = indices[k,idx]\n",
    "        posting_ids = df['posting_id'].iloc[ids].values\n",
    "        predictions.append(posting_ids)\n",
    "    \n",
    "    del model, distances, indices\n",
    "    gc.collect()\n",
    "    return df, best_threshold"
   ]
  },
  {
   "cell_type": "code",
   "execution_count": 6,
   "id": "elementary-champion",
   "metadata": {
    "execution": {
     "iopub.execute_input": "2021-05-22T14:02:09.888381Z",
     "iopub.status.busy": "2021-05-22T14:02:09.887658Z",
     "iopub.status.idle": "2021-05-22T14:02:09.890741Z",
     "shell.execute_reply": "2021-05-22T14:02:09.891122Z"
    },
    "papermill": {
     "duration": 0.019393,
     "end_time": "2021-05-22T14:02:09.891245",
     "exception": false,
     "start_time": "2021-05-22T14:02:09.871852",
     "status": "completed"
    },
    "tags": []
   },
   "outputs": [],
   "source": [
    "def get_knn_neighbors(df, embeddings, KNN = 50, threshold=0.6):\n",
    "    model = NearestNeighbors(n_neighbors = KNN, metric = \"cosine\")\n",
    "    model.fit(embeddings)\n",
    "    distances, indices = model.kneighbors(embeddings)\n",
    "\n",
    "    # Use threshold\n",
    "    predictions = []\n",
    "    for k in range(embeddings.shape[0]):\n",
    "        idx = np.where(distances[k,] < threshold)[0]\n",
    "        ids = indices[k,idx]\n",
    "        posting_ids = ' '.join(df['posting_id'].iloc[ids].values)\n",
    "        predictions.append(posting_ids)\n",
    "    df['pred_matches'] = predictions\n",
    "    df['f1'] = f1_score(df['matches'], df['pred_matches'])\n",
    "    df['recall'] = recall_score(df['matches'], df['pred_matches'])\n",
    "    df['precision'] = precision_score(df['matches'], df['pred_matches'])\n",
    "        \n",
    "    del model, distances, indices\n",
    "    gc.collect()\n",
    "    return df, best_threshold"
   ]
  },
  {
   "cell_type": "code",
   "execution_count": 7,
   "id": "finished-ability",
   "metadata": {
    "execution": {
     "iopub.execute_input": "2021-05-22T14:02:09.915693Z",
     "iopub.status.busy": "2021-05-22T14:02:09.915197Z",
     "iopub.status.idle": "2021-05-22T14:02:09.918424Z",
     "shell.execute_reply": "2021-05-22T14:02:09.918792Z"
    },
    "papermill": {
     "duration": 0.017874,
     "end_time": "2021-05-22T14:02:09.918910",
     "exception": false,
     "start_time": "2021-05-22T14:02:09.901036",
     "status": "completed"
    },
    "tags": []
   },
   "outputs": [],
   "source": [
    "def get_text_embeddings(df_cu, max_features = 15000, n_components = 5000):\n",
    "    model = TfidfVectorizer(stop_words = 'english', binary = True, max_features = max_features)\n",
    "    text_embeddings = model.fit_transform(df_cu['title']).toarray()\n",
    "    print(f'Our title text embedding shape is {text_embeddings.shape}')\n",
    "    del model\n",
    "    gc.collect()\n",
    "    return text_embeddings"
   ]
  },
  {
   "cell_type": "markdown",
   "id": "furnished-baptist",
   "metadata": {
    "papermill": {
     "duration": 0.009341,
     "end_time": "2021-05-22T14:02:09.938055",
     "exception": false,
     "start_time": "2021-05-22T14:02:09.928714",
     "status": "completed"
    },
    "tags": []
   },
   "source": [
    "## Find best thresholds"
   ]
  },
  {
   "cell_type": "code",
   "execution_count": 8,
   "id": "civilian-corps",
   "metadata": {
    "execution": {
     "iopub.execute_input": "2021-05-22T14:02:09.965884Z",
     "iopub.status.busy": "2021-05-22T14:02:09.965330Z",
     "iopub.status.idle": "2021-05-22T14:02:42.502375Z",
     "shell.execute_reply": "2021-05-22T14:02:42.502989Z"
    },
    "papermill": {
     "duration": 32.555599,
     "end_time": "2021-05-22T14:02:42.503190",
     "exception": false,
     "start_time": "2021-05-22T14:02:09.947591",
     "status": "completed"
    },
    "tags": []
   },
   "outputs": [
    {
     "output_type": "stream",
     "name": "stdout",
     "text": [
      "Our title text embedding shape is (6851, 9433)\n",
      "Our f1 score for threshold 0.1 is 0.5196603413209685\n",
      "Our f1 score for threshold 0.2 is 0.5735217462333471\n",
      "Our f1 score for threshold 0.30000000000000004 is 0.6353535429478462\n",
      "Our f1 score for threshold 0.4 is 0.7054377187245263\n",
      "Our f1 score for threshold 0.5 is 0.7601620552843771\n",
      "Our f1 score for threshold 0.6 is 0.7842075100158862\n",
      "Our f1 score for threshold 0.7000000000000001 is 0.7343672790238077\n",
      "Our f1 score for threshold 0.8 is 0.5234245852741843\n",
      "Our f1 score for threshold 0.9 is 0.21400221568056407\n",
      "Our best score is 0.7842075100158862 and has a threshold 0.6\n"
     ]
    }
   ],
   "source": [
    "# df_cu = cudf.DataFrame(test_df)\n",
    "text_embeddings = get_text_embeddings(test_df, max_features = 15000, n_components = 5000)\n",
    "\n",
    "# Get neighbors for text_embeddings\n",
    "test_df, best_threshold = get_neighbors(test_df, text_embeddings, KNN = 50)"
   ]
  },
  {
   "cell_type": "markdown",
   "id": "liquid-orchestra",
   "metadata": {
    "papermill": {
     "duration": 0.012155,
     "end_time": "2021-05-22T14:02:42.528138",
     "exception": false,
     "start_time": "2021-05-22T14:02:42.515983",
     "status": "completed"
    },
    "tags": []
   },
   "source": [
    "## Find best knn"
   ]
  },
  {
   "cell_type": "code",
   "execution_count": 10,
   "id": "antique-turning",
   "metadata": {
    "execution": {
     "iopub.execute_input": "2021-05-22T14:03:01.701046Z",
     "iopub.status.busy": "2021-05-22T14:03:01.700471Z",
     "iopub.status.idle": "2021-05-22T14:03:01.712577Z",
     "shell.execute_reply": "2021-05-22T14:03:01.712180Z"
    },
    "papermill": {
     "duration": 0.04005,
     "end_time": "2021-05-22T14:03:01.712687",
     "exception": false,
     "start_time": "2021-05-22T14:03:01.672637",
     "status": "completed"
    },
    "tags": []
   },
   "outputs": [
    {
     "output_type": "execute_result",
     "data": {
      "text/plain": [
       "         posting_id                                 image       image_phash  \\\n",
       "0  train_1802986387  00144a49c56599d45354a1c28104c039.jpg  f815c9bb833ab4c8   \n",
       "1  train_1598329973  001d7f5d9a2fac714f4d5f37b3baffb4.jpg  bec8d09693634b4b   \n",
       "2  train_4196427721  002039aaf8618627a0442d5e89e5dda6.jpg  e98c873acc65946e   \n",
       "3  train_2985955659  002f978c58a44a00aadfca71c3cad2bb.jpg  bf38f0e083d7c710   \n",
       "4  train_3466601092  004076b57135e761ab8b41d84acc4c94.jpg  aa2c0ee4eb6ba0cd   \n",
       "\n",
       "                                               title  label_group  \\\n",
       "0                           Jubah anak size 1-12 thn   1835033137   \n",
       "1                 Atasan Rajut Wanita LISDIA SWEATER   2462407944   \n",
       "2  Korek Kuping LED untuk balita CherryBabyKidsSh...    349297863   \n",
       "3  HnKfashion Sweater Hoodie WHO Printing BabyTer...   3415582503   \n",
       "4  [Shiyan] mainan gigitan bayi set pack baby tee...   2933791615   \n",
       "\n",
       "                                             matches  fold  \\\n",
       "0  train_1802986387 train_1396161074 train_713073...     0   \n",
       "1  train_1598329973 train_841015183 train_4224502769     0   \n",
       "2  train_4196427721 train_1482447822 train_234660...     0   \n",
       "3  train_2985955659 train_3916258742 train_415673...     0   \n",
       "4                   train_3466601092 train_354147588     0   \n",
       "\n",
       "                                        pred_matches        f1    recall  \\\n",
       "0  train_1802986387 train_2490201622 train_139616...  0.461538  0.428571   \n",
       "1  train_841015183 train_1598329973 train_4224502...  0.750000  1.000000   \n",
       "2  train_4196427721 train_2221959828 train_148244...  0.545455  0.375000   \n",
       "3  train_2985955659 train_3916258742 train_415673...  1.000000  1.000000   \n",
       "4                   train_3466601092 train_354147588  1.000000  1.000000   \n",
       "\n",
       "   precision  \n",
       "0        0.5  \n",
       "1        0.6  \n",
       "2        1.0  \n",
       "3        1.0  \n",
       "4        1.0  "
      ],
      "text/html": "<div>\n<style scoped>\n    .dataframe tbody tr th:only-of-type {\n        vertical-align: middle;\n    }\n\n    .dataframe tbody tr th {\n        vertical-align: top;\n    }\n\n    .dataframe thead th {\n        text-align: right;\n    }\n</style>\n<table border=\"1\" class=\"dataframe\">\n  <thead>\n    <tr style=\"text-align: right;\">\n      <th></th>\n      <th>posting_id</th>\n      <th>image</th>\n      <th>image_phash</th>\n      <th>title</th>\n      <th>label_group</th>\n      <th>matches</th>\n      <th>fold</th>\n      <th>pred_matches</th>\n      <th>f1</th>\n      <th>recall</th>\n      <th>precision</th>\n    </tr>\n  </thead>\n  <tbody>\n    <tr>\n      <th>0</th>\n      <td>train_1802986387</td>\n      <td>00144a49c56599d45354a1c28104c039.jpg</td>\n      <td>f815c9bb833ab4c8</td>\n      <td>Jubah anak size 1-12 thn</td>\n      <td>1835033137</td>\n      <td>train_1802986387 train_1396161074 train_713073...</td>\n      <td>0</td>\n      <td>train_1802986387 train_2490201622 train_139616...</td>\n      <td>0.461538</td>\n      <td>0.428571</td>\n      <td>0.5</td>\n    </tr>\n    <tr>\n      <th>1</th>\n      <td>train_1598329973</td>\n      <td>001d7f5d9a2fac714f4d5f37b3baffb4.jpg</td>\n      <td>bec8d09693634b4b</td>\n      <td>Atasan Rajut Wanita LISDIA SWEATER</td>\n      <td>2462407944</td>\n      <td>train_1598329973 train_841015183 train_4224502769</td>\n      <td>0</td>\n      <td>train_841015183 train_1598329973 train_4224502...</td>\n      <td>0.750000</td>\n      <td>1.000000</td>\n      <td>0.6</td>\n    </tr>\n    <tr>\n      <th>2</th>\n      <td>train_4196427721</td>\n      <td>002039aaf8618627a0442d5e89e5dda6.jpg</td>\n      <td>e98c873acc65946e</td>\n      <td>Korek Kuping LED untuk balita CherryBabyKidsSh...</td>\n      <td>349297863</td>\n      <td>train_4196427721 train_1482447822 train_234660...</td>\n      <td>0</td>\n      <td>train_4196427721 train_2221959828 train_148244...</td>\n      <td>0.545455</td>\n      <td>0.375000</td>\n      <td>1.0</td>\n    </tr>\n    <tr>\n      <th>3</th>\n      <td>train_2985955659</td>\n      <td>002f978c58a44a00aadfca71c3cad2bb.jpg</td>\n      <td>bf38f0e083d7c710</td>\n      <td>HnKfashion Sweater Hoodie WHO Printing BabyTer...</td>\n      <td>3415582503</td>\n      <td>train_2985955659 train_3916258742 train_415673...</td>\n      <td>0</td>\n      <td>train_2985955659 train_3916258742 train_415673...</td>\n      <td>1.000000</td>\n      <td>1.000000</td>\n      <td>1.0</td>\n    </tr>\n    <tr>\n      <th>4</th>\n      <td>train_3466601092</td>\n      <td>004076b57135e761ab8b41d84acc4c94.jpg</td>\n      <td>aa2c0ee4eb6ba0cd</td>\n      <td>[Shiyan] mainan gigitan bayi set pack baby tee...</td>\n      <td>2933791615</td>\n      <td>train_3466601092 train_354147588</td>\n      <td>0</td>\n      <td>train_3466601092 train_354147588</td>\n      <td>1.000000</td>\n      <td>1.000000</td>\n      <td>1.0</td>\n    </tr>\n  </tbody>\n</table>\n</div>"
     },
     "metadata": {},
     "execution_count": 10
    }
   ],
   "source": [
    "test_df.head()"
   ]
  }
 ],
 "metadata": {
  "kernelspec": {
   "name": "python383jvsc74a57bd00b64f3f517ef2f38123c9b9d844dc7ba7aeffcc4559b7061ceea5f8a66fe5b86",
   "display_name": "Python 3.8.3 64-bit ('base': conda)"
  },
  "language_info": {
   "codemirror_mode": {
    "name": "ipython",
    "version": 3
   },
   "file_extension": ".py",
   "mimetype": "text/x-python",
   "name": "python",
   "nbconvert_exporter": "python",
   "pygments_lexer": "ipython3",
   "version": "3.8.3"
  },
  "papermill": {
   "default_parameters": {},
   "duration": 65.617014,
   "end_time": "2021-05-22T14:03:03.670489",
   "environment_variables": {},
   "exception": null,
   "input_path": "__notebook__.ipynb",
   "output_path": "__notebook__.ipynb",
   "parameters": {},
   "start_time": "2021-05-22T14:01:58.053475",
   "version": "2.3.3"
  }
 },
 "nbformat": 4,
 "nbformat_minor": 5
}
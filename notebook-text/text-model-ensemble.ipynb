{
 "metadata": {
  "language_info": {
   "codemirror_mode": {
    "name": "ipython",
    "version": 3
   },
   "file_extension": ".py",
   "mimetype": "text/x-python",
   "name": "python",
   "nbconvert_exporter": "python",
   "pygments_lexer": "ipython3",
   "version": "3.8.3"
  },
  "orig_nbformat": 2,
  "kernelspec": {
   "name": "python383jvsc74a57bd00b64f3f517ef2f38123c9b9d844dc7ba7aeffcc4559b7061ceea5f8a66fe5b86",
   "display_name": "Python 3.8.3 64-bit ('base': conda)"
  }
 },
 "nbformat": 4,
 "nbformat_minor": 2,
 "cells": [
  {
   "cell_type": "code",
   "execution_count": 1,
   "metadata": {},
   "outputs": [],
   "source": [
    "import sys\n",
    "sys.path.insert(0,'../input/shopee-competition-utils')\n",
    "\n",
    "from config import CFG\n",
    "from run_ensemble import run_text_ensemble"
   ]
  },
  {
   "cell_type": "code",
   "execution_count": 2,
   "metadata": {},
   "outputs": [
    {
     "output_type": "stream",
     "name": "stdout",
     "text": [
      "Building Model Backbone for bert-base-multilingual-uncased model, margin = 0.5\n",
      "Some weights of the model checkpoint at bert-base-multilingual-uncased were not used when initializing BertModel: ['cls.seq_relationship.weight', 'cls.predictions.decoder.weight', 'cls.predictions.transform.dense.bias', 'cls.predictions.bias', 'cls.predictions.transform.LayerNorm.bias', 'cls.predictions.transform.LayerNorm.weight', 'cls.predictions.transform.dense.weight', 'cls.seq_relationship.bias']\n",
      "- This IS expected if you are initializing BertModel from the checkpoint of a model trained on another task or with another architecture (e.g. initializing a BertForSequenceClassification model from a BertForPreTraining model).\n",
      "- This IS NOT expected if you are initializing BertModel from the checkpoint of a model that you expect to be exactly identical (initializing a BertForSequenceClassification model from a BertForSequenceClassification model).\n",
      "bert-base-multilingual-uncased_epoch8-bs16x1_margin_0.5.pt\n",
      "get_bert_embeddings: 100%|████████████████████| 216/216 [00:03<00:00, 54.95it/s]\n",
      "get_bert_embeddings: 100%|████████████████████| 216/216 [00:03<00:00, 59.06it/s]\n",
      "Building Model Backbone for cahya/bert-base-indonesian-1.5G model, margin = 0.6\n",
      "Some weights of the model checkpoint at cahya/bert-base-indonesian-1.5G were not used when initializing BertModel: ['cls.predictions.decoder.bias', 'cls.predictions.transform.dense.bias', 'cls.predictions.bias', 'cls.predictions.transform.LayerNorm.bias', 'cls.predictions.transform.LayerNorm.weight', 'cls.predictions.transform.dense.weight', 'cls.predictions.decoder.weight']\n",
      "- This IS expected if you are initializing BertModel from the checkpoint of a model trained on another task or with another architecture (e.g. initializing a BertForSequenceClassification model from a BertForPreTraining model).\n",
      "- This IS NOT expected if you are initializing BertModel from the checkpoint of a model that you expect to be exactly identical (initializing a BertForSequenceClassification model from a BertForSequenceClassification model).\n",
      "get_bert_embeddings:   0%|                              | 0/216 [00:00<?, ?it/s]bert-base-indonesian-1.5G_epoch8-bs16x1_margin_0.6.pt\n",
      "get_bert_embeddings: 100%|████████████████████| 216/216 [00:03<00:00, 58.90it/s]\n",
      "get_bert_embeddings: 100%|████████████████████| 216/216 [00:03<00:00, 59.81it/s]\n",
      "Building Model Backbone for cahya/distilbert-base-indonesian model, margin = 0.6\n",
      "Some weights of the model checkpoint at cahya/distilbert-base-indonesian were not used when initializing DistilBertModel: ['vocab_transform.weight', 'vocab_transform.bias', 'vocab_layer_norm.weight', 'vocab_projector.weight', 'vocab_layer_norm.bias', 'vocab_projector.bias']\n",
      "- This IS expected if you are initializing DistilBertModel from the checkpoint of a model trained on another task or with another architecture (e.g. initializing a BertForSequenceClassification model from a BertForPreTraining model).\n",
      "- This IS NOT expected if you are initializing DistilBertModel from the checkpoint of a model that you expect to be exactly identical (initializing a BertForSequenceClassification model from a BertForSequenceClassification model).\n",
      "get_bert_embeddings:   4%|▉                     | 9/216 [00:00<00:02, 85.08it/s]distilbert-base-indonesian_epoch8-bs16x1_margin_0.6.pt\n",
      "get_bert_embeddings: 100%|████████████████████| 216/216 [00:02<00:00, 91.95it/s]\n",
      "get_bert_embeddings: 100%|████████████████████| 216/216 [00:02<00:00, 96.34it/s]\n",
      "Building Model Backbone for sentence-transformers/paraphrase-xlm-r-multilingual-v1 model, margin = 0.8\n",
      "paraphrase-xlm-r-multilingual-v1_epoch8-bs16x1_margin_0.8.pt\n",
      "get_bert_embeddings: 100%|████████████████████| 216/216 [00:03<00:00, 58.92it/s]\n",
      "get_bert_embeddings: 100%|████████████████████| 216/216 [00:03<00:00, 59.84it/s]\n",
      "Building Model Backbone for sentence-transformers/paraphrase-distilroberta-base-v1 model, margin = 0.6\n",
      "get_bert_embeddings:   0%|                              | 0/216 [00:00<?, ?it/s]paraphrase-distilroberta-base-v1_epoch8-bs16x1_margin_0.6.pt\n",
      "get_bert_embeddings: 100%|████████████████████| 216/216 [00:02<00:00, 86.51it/s]\n",
      "get_bert_embeddings: 100%|████████████████████| 216/216 [00:02<00:00, 91.32it/s]\n",
      "Searching best threshold...\n",
      "threshold = 0.01 -> f1 score = 0.4934112051784204, recall = 0.35852723199301717, precision = 0.9990022874385555\n",
      "threshold = 0.02 -> f1 score = 0.5002876042830374, recall = 0.36662292016489517, precision = 0.9985886017423468\n",
      "threshold = 0.03 -> f1 score = 0.5098904795739754, recall = 0.377263253056195, precision = 0.9983282230982624\n",
      "threshold = 0.04 -> f1 score = 0.5208454110915564, recall = 0.38957192991036177, precision = 0.9981505815934201\n",
      "threshold = 0.05 -> f1 score = 0.5326863001134206, recall = 0.4029132870112202, precision = 0.9978512678249867\n",
      "threshold = 0.06 -> f1 score = 0.5445254175793113, recall = 0.41676203268522044, precision = 0.9971066335718111\n",
      "threshold = 0.07 -> f1 score = 0.5556793570899349, recall = 0.4297204513850939, precision = 0.9965949147946522\n",
      "threshold = 0.08 -> f1 score = 0.5677759942118173, recall = 0.4439764848996177, precision = 0.9955436664372278\n",
      "threshold = 0.09 -> f1 score = 0.5788158079705567, recall = 0.4571929523227447, precision = 0.9952120226101832\n",
      "threshold = 0.1 -> f1 score = 0.5901559777026802, recall = 0.47093377583068946, precision = 0.993950455054266\n",
      "threshold = 0.11 -> f1 score = 0.6008846499476438, recall = 0.48447895967880683, precision = 0.9924717894165989\n",
      "threshold = 0.12 -> f1 score = 0.613132904475947, recall = 0.49933959668218025, precision = 0.991044921399718\n",
      "threshold = 0.13 -> f1 score = 0.6233906752516909, recall = 0.5124384550532222, precision = 0.9892740685119137\n",
      "threshold = 0.14 -> f1 score = 0.6334410024003243, recall = 0.5255102319891533, precision = 0.987647831800263\n",
      "threshold = 0.15 -> f1 score = 0.6462268482129894, recall = 0.5424586410798662, precision = 0.9863089154482062\n",
      "threshold = 0.16 -> f1 score = 0.6560014957207051, recall = 0.5553508153767087, precision = 0.9842112276847278\n",
      "threshold = 0.17 -> f1 score = 0.6646815708849094, recall = 0.5673751232995263, precision = 0.9819196175087549\n",
      "threshold = 0.18 -> f1 score = 0.6751272862526645, recall = 0.5806821233440177, precision = 0.980671028327621\n",
      "threshold = 0.19 -> f1 score = 0.6851261475706211, recall = 0.5941444381828214, precision = 0.9788846424742177\n",
      "threshold = 0.2 -> f1 score = 0.6952975844298782, recall = 0.6082278922732984, precision = 0.976429310375872\n",
      "threshold = 0.21 -> f1 score = 0.7042002782152196, recall = 0.6207556148819179, precision = 0.9736625357737929\n",
      "threshold = 0.22 -> f1 score = 0.7138896357032994, recall = 0.6344862437245267, precision = 0.9710449545425457\n",
      "threshold = 0.23 -> f1 score = 0.7221829807444149, recall = 0.6467801815240458, precision = 0.9677561812143508\n",
      "threshold = 0.24 -> f1 score = 0.7318552400592246, recall = 0.660595416150774, precision = 0.9648101480777789\n",
      "threshold = 0.25 -> f1 score = 0.7402652830723624, recall = 0.6738775337584912, precision = 0.9612021498034118\n",
      "threshold = 0.26 -> f1 score = 0.7483372756875292, recall = 0.6861323010337379, precision = 0.9576124811648993\n",
      "threshold = 0.27 -> f1 score = 0.7564563348933915, recall = 0.6992050322367854, precision = 0.9545806836089977\n",
      "threshold = 0.28 -> f1 score = 0.7636282600282329, recall = 0.7108367290068639, precision = 0.9501435442277428\n",
      "threshold = 0.29 -> f1 score = 0.7720497986495842, recall = 0.7246301581804869, precision = 0.9466473360395555\n",
      "threshold = 0.3 -> f1 score = 0.7792957471154311, recall = 0.7375990577170127, precision = 0.9414488519960853\n",
      "threshold = 0.31 -> f1 score = 0.7850769472386544, recall = 0.7491672684265902, precision = 0.9362284610551327\n",
      "threshold = 0.32 -> f1 score = 0.7911339048518412, recall = 0.7615935397594306, precision = 0.9304466734722829\n",
      "threshold = 0.33 -> f1 score = 0.7952931677571607, recall = 0.7716328802133575, precision = 0.9247693571863649\n",
      "threshold = 0.34 -> f1 score = 0.7991875137145606, recall = 0.7809235617549801, precision = 0.9191870796736288\n",
      "threshold = 0.35 -> f1 score = 0.8018012223031281, recall = 0.7901336511351411, precision = 0.911164424369799\n",
      "threshold = 0.36 -> f1 score = 0.806722124409943, recall = 0.8009941971575048, precision = 0.9058566957190706\n",
      "threshold = 0.37 -> f1 score = 0.8110583478574657, recall = 0.8114355147200891, precision = 0.9001080443275558\n",
      "threshold = 0.38 -> f1 score = 0.8132812853055738, recall = 0.8214153732539192, precision = 0.8914455232521828\n",
      "threshold = 0.39 -> f1 score = 0.8155904830812533, recall = 0.8315163930646037, precision = 0.8834762364299664\n",
      "threshold = 0.4 -> f1 score = 0.815878921045422, recall = 0.8405808240467477, precision = 0.8740590468994196\n",
      "threshold = 0.41 -> f1 score = 0.8159178350307478, recall = 0.8492574819914667, precision = 0.8646215639963595\n",
      "threshold = 0.42 -> f1 score = 0.8157889053353736, recall = 0.8586769334837452, precision = 0.854128076608272\n",
      "threshold = 0.43 -> f1 score = 0.8134309337988848, recall = 0.8662626078340951, precision = 0.8420606769782755\n",
      "threshold = 0.44 -> f1 score = 0.8112812398174645, recall = 0.8753443900559044, precision = 0.8291583950466019\n",
      "threshold = 0.45 -> f1 score = 0.8067419140630581, recall = 0.8825876253682734, precision = 0.8147331672218289\n",
      "threshold = 0.46 -> f1 score = 0.8025470535947398, recall = 0.8899503856658727, precision = 0.8020850601307268\n",
      "threshold = 0.47 -> f1 score = 0.7972609058819841, recall = 0.8979367163391228, precision = 0.7871021618311094\n",
      "threshold = 0.48 -> f1 score = 0.7902597472141178, recall = 0.9053118840271297, precision = 0.7702351728473941\n",
      "threshold = 0.49 -> f1 score = 0.7801534301539452, recall = 0.911260587941814, precision = 0.7511096570870602\n",
      "Best threshold = 0.41\n",
      "Best f1 score = 0.8159178350307478\n",
      "________________________________\n",
      "Searching best min2 threshold...\n",
      "min2 threshold = 0.41 -> f1 score = 0.8159178350307478, recall = 0.8492574819914667, precision = 0.8646215639963595\n",
      "min2 threshold = 0.415 -> f1 score = 0.8162951445093541, recall = 0.8500626047413987, precision = 0.8635265136240423\n",
      "min2 threshold = 0.42 -> f1 score = 0.8169865800671935, recall = 0.8512695935962192, precision = 0.8626504733261888\n",
      "min2 threshold = 0.425 -> f1 score = 0.8172334906762009, recall = 0.8517302635049836, precision = 0.861920439744644\n",
      "min2 threshold = 0.43 -> f1 score = 0.8174899873956849, recall = 0.8523973751445002, precision = 0.8608983927304815\n",
      "min2 threshold = 0.435 -> f1 score = 0.818425662491477, recall = 0.8538738629508943, precision = 0.8600223524326278\n",
      "min2 threshold = 0.44 -> f1 score = 0.8186665914008245, recall = 0.8545366291524255, precision = 0.8588542987021562\n",
      "min2 threshold = 0.445 -> f1 score = 0.8188137052492087, recall = 0.8549323285140165, precision = 0.8579782584043025\n",
      "min2 threshold = 0.45 -> f1 score = 0.8192725835004652, recall = 0.8558205360382295, precision = 0.8571752214646032\n",
      "min2 threshold = 0.455 -> f1 score = 0.8196450343328373, recall = 0.8565627368461333, precision = 0.8565911945993675\n",
      "min2 threshold = 0.46 -> f1 score = 0.8200927882628515, recall = 0.8572441015222417, precision = 0.856372184524904\n",
      "min2 threshold = 0.465 -> f1 score = 0.8205522353714445, recall = 0.8580535028572673, precision = 0.8558611610178227\n",
      "min2 threshold = 0.47 -> f1 score = 0.820651246902782, recall = 0.8583483553093689, precision = 0.8550581240781233\n",
      "min2 threshold = 0.475 -> f1 score = 0.8211823068293743, recall = 0.8593704023235316, precision = 0.8543280904965787\n",
      "min2 threshold = 0.48 -> f1 score = 0.8213037651637104, recall = 0.8597475863406628, precision = 0.8537440636313428\n",
      "min2 threshold = 0.485 -> f1 score = 0.821302456840019, recall = 0.8599068663948181, precision = 0.8530870334079526\n",
      "min2 threshold = 0.49 -> f1 score = 0.8214119618772509, recall = 0.8602475487328722, precision = 0.8525030065427166\n",
      "min2 threshold = 0.495 -> f1 score = 0.8215623719707187, recall = 0.860624732750004, precision = 0.8518459763193265\n",
      "min2 threshold = 0.5 -> f1 score = 0.8220462799447713, recall = 0.8614034352369849, precision = 0.8514809595285541\n",
      "min2 threshold = 0.505 -> f1 score = 0.8220052590101893, recall = 0.8615859436323712, precision = 0.8508239293051637\n",
      "min2 threshold = 0.51 -> f1 score = 0.8219665767113228, recall = 0.8617287057549845, precision = 0.850239902439928\n",
      "min2 threshold = 0.515 -> f1 score = 0.8219450483936929, recall = 0.8618788840917595, precision = 0.8498018822910012\n",
      "min2 threshold = 0.52 -> f1 score = 0.8219866586428253, recall = 0.8622439008825319, precision = 0.8490718487094564\n",
      "min2 threshold = 0.525 -> f1 score = 0.8222668650115117, recall = 0.8628162151210748, precision = 0.8484878218442206\n",
      "min2 threshold = 0.53 -> f1 score = 0.8221354589668335, recall = 0.8628892184792293, precision = 0.8478307916208303\n",
      "min2 threshold = 0.535 -> f1 score = 0.822337782559433, recall = 0.8632420680436426, precision = 0.8475387781882124\n",
      "min2 threshold = 0.54 -> f1 score = 0.8224089140366092, recall = 0.8635340814762604, precision = 0.8471007580392854\n",
      "min2 threshold = 0.545 -> f1 score = 0.8225825818537287, recall = 0.8639054463851331, precision = 0.8465897345322041\n",
      "min2 threshold = 0.55 -> f1 score = 0.8224073737941577, recall = 0.8639054463851331, precision = 0.8460057076669684\n",
      "min2 threshold = 0.555 -> f1 score = 0.8223962494729151, recall = 0.8640076510865494, precision = 0.8455676875180415\n",
      "min2 threshold = 0.56 -> f1 score = 0.8225811913135729, recall = 0.8644700056881943, precision = 0.8450566640109601\n",
      "min2 threshold = 0.565 -> f1 score = 0.822619315289498, recall = 0.8645638671486788, precision = 0.8449106572946512\n",
      "min2 threshold = 0.57 -> f1 score = 0.822524758558936, recall = 0.8647098738649878, precision = 0.844253627071261\n",
      "min2 threshold = 0.575 -> f1 score = 0.8226190940672005, recall = 0.8649045494867331, precision = 0.843961613638643\n",
      "min2 threshold = 0.58 -> f1 score = 0.8226428995100771, recall = 0.8649775528448875, precision = 0.843815606922334\n",
      "min2 threshold = 0.585 -> f1 score = 0.8225942306046407, recall = 0.8649775528448875, precision = 0.8436696002060251\n",
      "min2 threshold = 0.59 -> f1 score = 0.8224928370516484, recall = 0.8649775528448875, precision = 0.8433045834152526\n",
      "min2 threshold = 0.595 -> f1 score = 0.8225171715043665, recall = 0.865050556203042, precision = 0.8432315800570981\n",
      "min2 threshold = 0.6 -> f1 score = 0.8224636357083865, recall = 0.865050556203042, precision = 0.8430125699826347\n",
      "min2 threshold = 0.605 -> f1 score = 0.8224879701611046, recall = 0.8651235595611965, precision = 0.8429395666244802\n",
      "Best min2 threshold = 0.58\n",
      "Best f1 score after min2 = 0.8226428995100771\n",
      "f1 score after voting = 0.8283399192735256, recall = 0.8654279106456705, precision = 0.8669399475782799\n",
      "f1 score after min2 and voting = 0.8348407907426642, recall = 0.8811985622448192, precision = 0.8465049745816362\n"
     ]
    }
   ],
   "source": [
    "CFG.DEVICE = 'cuda:1'\n",
    "CFG.BATCH_SIZE = 16\n",
    "result_df = run_text_ensemble()"
   ]
  },
  {
   "cell_type": "code",
   "execution_count": 3,
   "metadata": {},
   "outputs": [
    {
     "output_type": "execute_result",
     "data": {
      "text/plain": [
       "         f1    recall  precision\n",
       "0  0.828340  0.865428   0.866940\n",
       "1  0.834841  0.881199   0.846505"
      ],
      "text/html": "<div>\n<style scoped>\n    .dataframe tbody tr th:only-of-type {\n        vertical-align: middle;\n    }\n\n    .dataframe tbody tr th {\n        vertical-align: top;\n    }\n\n    .dataframe thead th {\n        text-align: right;\n    }\n</style>\n<table border=\"1\" class=\"dataframe\">\n  <thead>\n    <tr style=\"text-align: right;\">\n      <th></th>\n      <th>f1</th>\n      <th>recall</th>\n      <th>precision</th>\n    </tr>\n  </thead>\n  <tbody>\n    <tr>\n      <th>0</th>\n      <td>0.828340</td>\n      <td>0.865428</td>\n      <td>0.866940</td>\n    </tr>\n    <tr>\n      <th>1</th>\n      <td>0.834841</td>\n      <td>0.881199</td>\n      <td>0.846505</td>\n    </tr>\n  </tbody>\n</table>\n</div>"
     },
     "metadata": {},
     "execution_count": 3
    }
   ],
   "source": [
    "result_df"
   ]
  },
  {
   "cell_type": "code",
   "execution_count": 4,
   "metadata": {},
   "outputs": [],
   "source": [
    "result_df.to_csv('../input/shopee-competition-results/text_ensemble_df.csv', index = False)"
   ]
  }
 ]
}
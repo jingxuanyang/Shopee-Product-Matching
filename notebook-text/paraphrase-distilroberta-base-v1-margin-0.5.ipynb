{
 "cells": [
  {
   "cell_type": "markdown",
   "id": "historical-retention",
   "metadata": {
    "papermill": {
     "duration": 0.016816,
     "end_time": "2021-05-17T16:18:00.003088",
     "exception": false,
     "start_time": "2021-05-17T16:17:59.986272",
     "status": "completed"
    },
    "tags": []
   },
   "source": [
    "# Shopee Training Paraphrase XLM"
   ]
  },
  {
   "cell_type": "code",
   "execution_count": 1,
   "id": "seasonal-check",
   "metadata": {
    "_cell_guid": "b1076dfc-b9ad-4769-8c92-a6c4dae69d19",
    "_uuid": "8f2839f25d086af736a60e9eeb907d3b93b6e0e5",
    "execution": {
     "iopub.execute_input": "2021-05-17T16:18:00.045822Z",
     "iopub.status.busy": "2021-05-17T16:18:00.043164Z",
     "iopub.status.idle": "2021-05-17T16:18:00.048875Z",
     "shell.execute_reply": "2021-05-17T16:18:00.049284Z"
    },
    "papermill": {
     "duration": 0.030623,
     "end_time": "2021-05-17T16:18:00.049479",
     "exception": false,
     "start_time": "2021-05-17T16:18:00.018856",
     "status": "completed"
    },
    "tags": []
   },
   "outputs": [
    {
     "name": "stdout",
     "output_type": "stream",
     "text": [
      "2021-05-17 16:18:00.043836\n"
     ]
    }
   ],
   "source": [
    "import sys\n",
    "import time\n",
    "import datetime\n",
    "start_time = time.time()\n",
    "print(datetime.datetime.now())"
   ]
  },
  {
   "cell_type": "code",
   "execution_count": 2,
   "id": "improving-monster",
   "metadata": {
    "execution": {
     "iopub.execute_input": "2021-05-17T16:18:00.086866Z",
     "iopub.status.busy": "2021-05-17T16:18:00.086323Z",
     "iopub.status.idle": "2021-05-17T16:18:03.548223Z",
     "shell.execute_reply": "2021-05-17T16:18:03.547332Z"
    },
    "papermill": {
     "duration": 3.482372,
     "end_time": "2021-05-17T16:18:03.548368",
     "exception": false,
     "start_time": "2021-05-17T16:18:00.065996",
     "status": "completed"
    },
    "tags": []
   },
   "outputs": [],
   "source": [
    "import os\n",
    "import gc\n",
    "import math\n",
    "import random\n",
    "from tqdm import tqdm\n",
    "import numpy as np\n",
    "import pandas as pd\n",
    "from sklearn.preprocessing import LabelEncoder\n",
    "from sklearn.model_selection import GroupKFold\n",
    "from sklearn.neighbors import NearestNeighbors\n",
    "\n",
    "import torch\n",
    "from torch import nn \n",
    "import torch.nn.functional as F \n",
    "from transformers import AutoTokenizer, AutoModel\n",
    "\n",
    "import warnings\n",
    "warnings.filterwarnings('ignore')"
   ]
  },
  {
   "cell_type": "code",
   "execution_count": 3,
   "id": "lonely-hometown",
   "metadata": {
    "execution": {
     "iopub.execute_input": "2021-05-17T16:18:03.630459Z",
     "iopub.status.busy": "2021-05-17T16:18:03.629697Z",
     "iopub.status.idle": "2021-05-17T16:18:03.632348Z",
     "shell.execute_reply": "2021-05-17T16:18:03.632748Z"
    },
    "papermill": {
     "duration": 0.067413,
     "end_time": "2021-05-17T16:18:03.632875",
     "exception": false,
     "start_time": "2021-05-17T16:18:03.565462",
     "status": "completed"
    },
    "tags": []
   },
   "outputs": [
    {
     "name": "stdout",
     "output_type": "stream",
     "text": [
      "cuda:0\n"
     ]
    }
   ],
   "source": [
    "TRAIN_CSV = '../input/shopee-product-matching/train.csv'\n",
    "\n",
    "class CFG:\n",
    "    \n",
    "    compute_cv = True  # set False to train model for submission\n",
    "\n",
    "    ### BERT\n",
    "#     bert_model_name = '../input/bertmodel/paraphrase-xlm-r-multilingual-v1'\n",
    "#     bert_model_name = '../input/bertmodel/distilbert-base-indonesian'\n",
    "#     bert_model_name = '../input/bertmodel/roberta-base'\n",
    "    bert_model_name = '../input/bertmodel/paraphrase-distilroberta-base-v1'\n",
    "#     bert_model_name = '../input/bert-model-pretrained/bert-base-indonesian-1.5G'\n",
    "\n",
    "    max_length = 128\n",
    "\n",
    "    ### ArcFace\n",
    "    scale = 30\n",
    "    margin = 0.5\n",
    "    fc_dim = 768\n",
    "    seed = 412\n",
    "    classes = 11014\n",
    "    \n",
    "    # groupkfold\n",
    "    N_SPLITS = 5\n",
    "    TEST_FOLD = 0\n",
    "    VALID_FOLD = 1\n",
    "    \n",
    "    ### Training\n",
    "    batch_size = 16\n",
    "    accum_iter = 1  # 1 if use_sam = True\n",
    "    epochs = 8\n",
    "    min_save_epoch = epochs // 3\n",
    "    use_sam = True  # SAM (Sharpness-Aware Minimization for Efficiently Improving Generalization)\n",
    "    use_amp = True  # Automatic Mixed Precision\n",
    "    num_workers = 2  # On Windows, set 0 or export train_fn and TitleDataset as .py files for faster training.\n",
    "    device = torch.device('cuda:0' if torch.cuda.is_available() else 'cpu')\n",
    "    print(device)\n",
    "    \n",
    "    ### NearestNeighbors\n",
    "    bert_knn = 50\n",
    "    bert_knn_threshold = 0.4  # Cosine distance threshold\n",
    "    \n",
    "    ### GradualWarmupSchedulerV2（lr_start -> lr_max -> lr_min）\n",
    "    scheduler_params = {\n",
    "        \"lr_start\": 7.5e-6,\n",
    "        \"lr_max\": 1e-4,\n",
    "        \"lr_min\": 2.74e-5, # 1.5e-5,\n",
    "    }\n",
    "    multiplier = scheduler_params['lr_max'] / scheduler_params['lr_start']\n",
    "    eta_min = scheduler_params['lr_min']  # last minimum learning rate\n",
    "    freeze_epo = 0\n",
    "    warmup_epo = 2\n",
    "    cosine_epo = epochs - freeze_epo - warmup_epo\n",
    "    \n",
    "    ### save_model_path\n",
    "    save_model_path = f\"./{bert_model_name.rsplit('/', 1)[-1]}_epoch{epochs}-bs{batch_size}x{accum_iter}.pt\""
   ]
  },
  {
   "cell_type": "code",
   "execution_count": 4,
   "id": "wrapped-civilization",
   "metadata": {
    "execution": {
     "iopub.execute_input": "2021-05-17T16:18:03.672731Z",
     "iopub.status.busy": "2021-05-17T16:18:03.672227Z",
     "iopub.status.idle": "2021-05-17T16:18:03.677906Z",
     "shell.execute_reply": "2021-05-17T16:18:03.677480Z"
    },
    "papermill": {
     "duration": 0.026566,
     "end_time": "2021-05-17T16:18:03.678007",
     "exception": false,
     "start_time": "2021-05-17T16:18:03.651441",
     "status": "completed"
    },
    "tags": []
   },
   "outputs": [],
   "source": [
    "def seed_everything(seed):\n",
    "    random.seed(seed)\n",
    "    os.environ['PYTHONHASHSEED'] = str(seed)\n",
    "    np.random.seed(seed)\n",
    "    torch.manual_seed(seed)\n",
    "    torch.cuda.manual_seed(seed)\n",
    "    torch.backends.cudnn.deterministic = True\n",
    "    torch.backends.cudnn.benchmark = True # set True to be faster\n",
    "\n",
    "seed_everything(CFG.seed)"
   ]
  },
  {
   "cell_type": "markdown",
   "id": "adapted-sheet",
   "metadata": {
    "papermill": {
     "duration": 0.016386,
     "end_time": "2021-05-17T16:18:03.710914",
     "exception": false,
     "start_time": "2021-05-17T16:18:03.694528",
     "status": "completed"
    },
    "tags": []
   },
   "source": [
    "# Classes and Functions"
   ]
  },
  {
   "cell_type": "code",
   "execution_count": 5,
   "id": "great-walnut",
   "metadata": {
    "execution": {
     "iopub.execute_input": "2021-05-17T16:18:03.750408Z",
     "iopub.status.busy": "2021-05-17T16:18:03.749716Z",
     "iopub.status.idle": "2021-05-17T16:18:03.752332Z",
     "shell.execute_reply": "2021-05-17T16:18:03.751827Z"
    },
    "papermill": {
     "duration": 0.024991,
     "end_time": "2021-05-17T16:18:03.752428",
     "exception": false,
     "start_time": "2021-05-17T16:18:03.727437",
     "status": "completed"
    },
    "tags": []
   },
   "outputs": [],
   "source": [
    "### Dataset\n",
    "\n",
    "class TitleDataset(torch.utils.data.Dataset):\n",
    "    def __init__(self, df, text_column, label_column):\n",
    "        texts = df[text_column]\n",
    "        self.labels = df[label_column].values\n",
    "        \n",
    "        self.titles = []\n",
    "        for title in texts:\n",
    "            title = title.encode('utf-8').decode(\"unicode_escape\")\n",
    "            title = title.encode('ascii', 'ignore').decode(\"unicode_escape\")\n",
    "            title = title.lower()\n",
    "            self.titles.append(title)\n",
    "\n",
    "    def __len__(self):\n",
    "        return len(self.titles)\n",
    "\n",
    "    def __getitem__(self, idx):\n",
    "        text = self.titles[idx]\n",
    "        label = torch.tensor(self.labels[idx])\n",
    "        return text, label"
   ]
  },
  {
   "cell_type": "code",
   "execution_count": 6,
   "id": "formed-kitchen",
   "metadata": {
    "execution": {
     "iopub.execute_input": "2021-05-17T16:18:03.797722Z",
     "iopub.status.busy": "2021-05-17T16:18:03.797012Z",
     "iopub.status.idle": "2021-05-17T16:18:03.799294Z",
     "shell.execute_reply": "2021-05-17T16:18:03.799685Z"
    },
    "papermill": {
     "duration": 0.030581,
     "end_time": "2021-05-17T16:18:03.799792",
     "exception": false,
     "start_time": "2021-05-17T16:18:03.769211",
     "status": "completed"
    },
    "tags": []
   },
   "outputs": [],
   "source": [
    "### SAM Optimizer 2020/1/16\n",
    "# https://github.com/davda54/sam/blob/main/sam.py\n",
    "\n",
    "class SAM(torch.optim.Optimizer):\n",
    "    def __init__(self, params, base_optimizer, rho=0.05, **kwargs):\n",
    "        assert rho >= 0.0, f\"Invalid rho, should be non-negative: {rho}\"\n",
    "\n",
    "        defaults = dict(rho=rho, **kwargs)\n",
    "        super(SAM, self).__init__(params, defaults)\n",
    "\n",
    "        self.base_optimizer = base_optimizer(self.param_groups, **kwargs)\n",
    "        self.param_groups = self.base_optimizer.param_groups\n",
    "\n",
    "    @torch.no_grad()\n",
    "    def first_step(self, zero_grad=False):\n",
    "        grad_norm = self._grad_norm()\n",
    "        for group in self.param_groups:\n",
    "            scale = group[\"rho\"] / (grad_norm + 1e-12)\n",
    "\n",
    "            for p in group[\"params\"]:\n",
    "                if p.grad is None: continue\n",
    "                e_w = p.grad * scale.to(p)\n",
    "                p.add_(e_w)  # climb to the local maximum \"w + e(w)\"\n",
    "                self.state[p][\"e_w\"] = e_w\n",
    "\n",
    "        if zero_grad: self.zero_grad()\n",
    "\n",
    "    @torch.no_grad()\n",
    "    def second_step(self, zero_grad=False):\n",
    "        for group in self.param_groups:\n",
    "            for p in group[\"params\"]:\n",
    "                if p.grad is None: continue\n",
    "                p.sub_(self.state[p][\"e_w\"])  # get back to \"w\" from \"w + e(w)\"\n",
    "\n",
    "        self.base_optimizer.step()  # do the actual \"sharpness-aware\" update\n",
    "\n",
    "        if zero_grad: self.zero_grad()\n",
    "\n",
    "    @torch.no_grad()\n",
    "    def step(self, closure=None):\n",
    "        assert closure is not None, \"Sharpness Aware Minimization requires closure, but it was not provided\"\n",
    "        closure = torch.enable_grad()(closure)  # the closure should do a full forward-backward pass\n",
    "\n",
    "        self.first_step(zero_grad=True)\n",
    "        closure()\n",
    "        self.second_step()\n",
    "\n",
    "    def _grad_norm(self):\n",
    "        shared_device = self.param_groups[0][\"params\"][0].device  # put everything on the same device, in case of model parallelism\n",
    "        norm = torch.norm(\n",
    "                    torch.stack([\n",
    "                        p.grad.norm(p=2).to(shared_device)\n",
    "                        for group in self.param_groups for p in group[\"params\"]\n",
    "                        if p.grad is not None\n",
    "                    ]),\n",
    "                    p=2\n",
    "               )\n",
    "        return norm"
   ]
  },
  {
   "cell_type": "code",
   "execution_count": 7,
   "id": "relative-isolation",
   "metadata": {
    "execution": {
     "iopub.execute_input": "2021-05-17T16:18:03.846937Z",
     "iopub.status.busy": "2021-05-17T16:18:03.846208Z",
     "iopub.status.idle": "2021-05-17T16:18:03.848826Z",
     "shell.execute_reply": "2021-05-17T16:18:03.848248Z"
    },
    "papermill": {
     "duration": 0.032487,
     "end_time": "2021-05-17T16:18:03.848939",
     "exception": false,
     "start_time": "2021-05-17T16:18:03.816452",
     "status": "completed"
    },
    "tags": []
   },
   "outputs": [],
   "source": [
    "### GradualWarmupScheduler\n",
    "# https://github.com/ildoonet/pytorch-gradual-warmup-lr\n",
    "\n",
    "from torch.optim.lr_scheduler import _LRScheduler\n",
    "from torch.optim.lr_scheduler import ReduceLROnPlateau\n",
    "\n",
    "\n",
    "class GradualWarmupScheduler(_LRScheduler):\n",
    "    \"\"\" Gradually warm-up(increasing) learning rate in optimizer.\n",
    "    Proposed in 'Accurate, Large Minibatch SGD: Training ImageNet in 1 Hour'.\n",
    "    Args:\n",
    "        optimizer (Optimizer): Wrapped optimizer.\n",
    "        multiplier: target learning rate = base lr * multiplier if multiplier > 1.0. if multiplier = 1.0, lr starts from 0 and ends up with the base_lr.\n",
    "        total_epoch: target learning rate is reached at total_epoch, gradually\n",
    "        after_scheduler: after target_epoch, use this scheduler(eg. ReduceLROnPlateau)\n",
    "    \"\"\"\n",
    "\n",
    "    def __init__(self, optimizer, multiplier, total_epoch, after_scheduler=None):\n",
    "        self.multiplier = multiplier\n",
    "        if self.multiplier < 1.:\n",
    "            raise ValueError('multiplier should be greater thant or equal to 1.')\n",
    "        self.total_epoch = total_epoch\n",
    "        self.after_scheduler = after_scheduler\n",
    "        self.finished = False\n",
    "        super(GradualWarmupScheduler, self).__init__(optimizer)\n",
    "\n",
    "    def get_lr(self):\n",
    "        if self.last_epoch > self.total_epoch:\n",
    "            if self.after_scheduler:\n",
    "                if not self.finished:\n",
    "                    self.after_scheduler.base_lrs = [base_lr * self.multiplier for base_lr in self.base_lrs]\n",
    "                    self.finished = True\n",
    "                return self.after_scheduler.get_last_lr()\n",
    "            return [base_lr * self.multiplier for base_lr in self.base_lrs]\n",
    "\n",
    "        if self.multiplier == 1.0:\n",
    "            return [base_lr * (float(self.last_epoch) / self.total_epoch) for base_lr in self.base_lrs]\n",
    "        else:\n",
    "            return [base_lr * ((self.multiplier - 1.) * self.last_epoch / self.total_epoch + 1.) for base_lr in self.base_lrs]\n",
    "\n",
    "    def step_ReduceLROnPlateau(self, metrics, epoch=None):\n",
    "        if epoch is None:\n",
    "            epoch = self.last_epoch + 1\n",
    "        self.last_epoch = epoch if epoch != 0 else 1  # ReduceLROnPlateau is called at the end of epoch, whereas others are called at beginning\n",
    "        if self.last_epoch <= self.total_epoch:\n",
    "            warmup_lr = [base_lr * ((self.multiplier - 1.) * self.last_epoch / self.total_epoch + 1.) for base_lr in self.base_lrs]\n",
    "            for param_group, lr in zip(self.optimizer.param_groups, warmup_lr):\n",
    "                param_group['lr'] = lr\n",
    "        else:\n",
    "            if epoch is None:\n",
    "                self.after_scheduler.step(metrics, None)\n",
    "            else:\n",
    "                self.after_scheduler.step(metrics, epoch - self.total_epoch)\n",
    "\n",
    "    def step(self, epoch=None, metrics=None):\n",
    "        if type(self.after_scheduler) != ReduceLROnPlateau:\n",
    "            if self.finished and self.after_scheduler:\n",
    "                if epoch is None:\n",
    "                    self.after_scheduler.step(None)\n",
    "                else:\n",
    "                    self.after_scheduler.step(epoch - self.total_epoch)\n",
    "                self._last_lr = self.after_scheduler.get_last_lr()\n",
    "            else:\n",
    "                return super(GradualWarmupScheduler, self).step(epoch)\n",
    "        else:\n",
    "            self.step_ReduceLROnPlateau(metrics, epoch)"
   ]
  },
  {
   "cell_type": "code",
   "execution_count": 8,
   "id": "indirect-blend",
   "metadata": {
    "execution": {
     "iopub.execute_input": "2021-05-17T16:18:03.889361Z",
     "iopub.status.busy": "2021-05-17T16:18:03.888720Z",
     "iopub.status.idle": "2021-05-17T16:18:03.891339Z",
     "shell.execute_reply": "2021-05-17T16:18:03.890939Z"
    },
    "papermill": {
     "duration": 0.025745,
     "end_time": "2021-05-17T16:18:03.891438",
     "exception": false,
     "start_time": "2021-05-17T16:18:03.865693",
     "status": "completed"
    },
    "tags": []
   },
   "outputs": [],
   "source": [
    "### GradualWarmupSchedulerV2\n",
    "\n",
    "class GradualWarmupSchedulerV2(GradualWarmupScheduler):\n",
    "    def __init__(self, optimizer, multiplier, total_epoch, after_scheduler=None):\n",
    "        super(GradualWarmupSchedulerV2, self).__init__(optimizer, multiplier, total_epoch, after_scheduler)\n",
    "    def get_lr(self):\n",
    "        if self.last_epoch > self.total_epoch:\n",
    "            if self.after_scheduler:\n",
    "                if not self.finished:\n",
    "                    self.after_scheduler.base_lrs = [base_lr * self.multiplier for base_lr in self.base_lrs]\n",
    "                    self.finished = True\n",
    "                return self.after_scheduler.get_lr()\n",
    "            return [base_lr * self.multiplier for base_lr in self.base_lrs]\n",
    "        if self.multiplier == 1.0:\n",
    "            return [base_lr * (float(self.last_epoch) / self.total_epoch) for base_lr in self.base_lrs]\n",
    "        else:\n",
    "            return [base_lr * ((self.multiplier - 1.) * self.last_epoch / self.total_epoch + 1.) for base_lr in self.base_lrs]"
   ]
  },
  {
   "cell_type": "code",
   "execution_count": 9,
   "id": "automatic-admission",
   "metadata": {
    "execution": {
     "iopub.execute_input": "2021-05-17T16:18:03.937782Z",
     "iopub.status.busy": "2021-05-17T16:18:03.937011Z",
     "iopub.status.idle": "2021-05-17T16:18:03.939593Z",
     "shell.execute_reply": "2021-05-17T16:18:03.939096Z"
    },
    "papermill": {
     "duration": 0.031367,
     "end_time": "2021-05-17T16:18:03.939689",
     "exception": false,
     "start_time": "2021-05-17T16:18:03.908322",
     "status": "completed"
    },
    "tags": []
   },
   "outputs": [],
   "source": [
    "### Train one epoch\n",
    "\n",
    "def train_fn(model, data_loader, optimizer, scheduler, use_sam, accum_iter, epoch, device, use_amp):\n",
    "    model.train()\n",
    "    if use_amp:\n",
    "        scaler = torch.cuda.amp.GradScaler()\n",
    "    fin_loss = 0.0\n",
    "    tk = tqdm(data_loader, desc = \"Training epoch: \" + str(epoch+1), ncols=100)\n",
    "\n",
    "    for t, (texts, labels) in enumerate(tk):\n",
    "        texts = list(texts)\n",
    "\n",
    "        if use_sam:\n",
    "            if use_amp:\n",
    "                with torch.cuda.amp.autocast():\n",
    "                    _, loss = model(texts, labels)\n",
    "                loss.mean().backward()\n",
    "                optimizer.first_step(zero_grad=True)\n",
    "                fin_loss += loss.item() \n",
    "                with torch.cuda.amp.autocast():\n",
    "                     _, loss_second = model(texts, labels)\n",
    "                loss_second.mean().backward()\n",
    "                optimizer.second_step(zero_grad=True)\n",
    "                optimizer.zero_grad()\n",
    "            else:\n",
    "                _, loss = model(texts, labels)\n",
    "                loss.mean().backward()\n",
    "                optimizer.first_step(zero_grad=True)\n",
    "                fin_loss += loss.item() \n",
    "                _, loss_second = model(texts, labels)\n",
    "                loss_second.mean().backward()\n",
    "                optimizer.second_step(zero_grad=True)\n",
    "                optimizer.zero_grad()\n",
    "\n",
    "        else:  # if use_sam == False\n",
    "            if use_amp:\n",
    "                with torch.cuda.amp.autocast():\n",
    "                    _, loss = model(texts, labels)\n",
    "                scaler.scale(loss).backward()\n",
    "                fin_loss += loss.item() \n",
    "                # mini-batch accumulation\n",
    "                if (t + 1) % accum_iter == 0:\n",
    "                    scaler.step(optimizer)\n",
    "                    scaler.update()\n",
    "                    optimizer.zero_grad()\n",
    "            else:\n",
    "                _, loss = model(texts, labels)\n",
    "                loss.backward()\n",
    "                fin_loss += loss.item() \n",
    "                # mini-batch accumulation\n",
    "                if (t + 1) % accum_iter == 0:\n",
    "                    optimizer.step() \n",
    "                    optimizer.zero_grad()\n",
    "                \n",
    "        tk.set_postfix({'loss' : '%.6f' %float(fin_loss/(t+1)), 'LR' : optimizer.param_groups[0]['lr']})\n",
    "\n",
    "    scheduler.step()\n",
    "    return model, fin_loss / len(data_loader)"
   ]
  },
  {
   "cell_type": "code",
   "execution_count": 10,
   "id": "chubby-professional",
   "metadata": {
    "execution": {
     "iopub.execute_input": "2021-05-17T16:18:03.986017Z",
     "iopub.status.busy": "2021-05-17T16:18:03.985274Z",
     "iopub.status.idle": "2021-05-17T16:18:03.987436Z",
     "shell.execute_reply": "2021-05-17T16:18:03.987840Z"
    },
    "papermill": {
     "duration": 0.031126,
     "end_time": "2021-05-17T16:18:03.987950",
     "exception": false,
     "start_time": "2021-05-17T16:18:03.956824",
     "status": "completed"
    },
    "tags": []
   },
   "outputs": [],
   "source": [
    "### Validation\n",
    "\n",
    "def getMetric(col):\n",
    "    def f1score(row):\n",
    "        n = len(np.intersect1d(row.target, row[col]))\n",
    "        return 2 * n / (len(row.target) + len(row[col]))\n",
    "    return f1score\n",
    "\n",
    "\n",
    "def get_bert_embeddings(df, column, model, chunk=32):\n",
    "    model.eval()\n",
    "    \n",
    "    bert_embeddings = torch.zeros((df.shape[0], 768)).to(CFG.device)\n",
    "    for i in tqdm(list(range(0, df.shape[0], chunk)) + [df.shape[0]-chunk], desc=\"get_bert_embeddings\", ncols=80):\n",
    "        titles = []\n",
    "        for title in df[column][i : i + chunk].values:\n",
    "            try:\n",
    "                title = title.encode('utf-8').decode(\"unicode_escape\")\n",
    "                title = title.encode('ascii', 'ignore').decode(\"unicode_escape\")\n",
    "            except:\n",
    "                pass\n",
    "            #title = text_punctuation(title)\n",
    "            title = title.lower()\n",
    "            titles.append(title)\n",
    "            \n",
    "        with torch.no_grad():\n",
    "            if CFG.use_amp:\n",
    "                with torch.cuda.amp.autocast():\n",
    "                    model_output = model(titles)\n",
    "            else:\n",
    "                model_output = model(titles)\n",
    "            \n",
    "        bert_embeddings[i : i + chunk] = model_output\n",
    "    \n",
    "    del model, titles, model_output\n",
    "    gc.collect()\n",
    "    torch.cuda.empty_cache()\n",
    "    \n",
    "    return bert_embeddings\n",
    "\n",
    "\n",
    "def get_neighbors(df, embeddings, knn=50, threshold=0.0):\n",
    "\n",
    "    model = NearestNeighbors(n_neighbors=knn, metric='cosine')\n",
    "    model.fit(embeddings)\n",
    "    distances, indices = model.kneighbors(embeddings)\n",
    "    \n",
    "    preds = []\n",
    "    for k in range(embeddings.shape[0]):\n",
    "        idx = np.where(distances[k,] < threshold)[0]\n",
    "        ids = indices[k,idx]\n",
    "        posting_ids = df['posting_id'].iloc[ids].values\n",
    "        preds.append(posting_ids)\n",
    "        \n",
    "    del model, distances, indices\n",
    "    gc.collect()\n",
    "    return preds"
   ]
  },
  {
   "cell_type": "code",
   "execution_count": 11,
   "id": "dietary-sharing",
   "metadata": {
    "execution": {
     "iopub.execute_input": "2021-05-17T16:18:04.033905Z",
     "iopub.status.busy": "2021-05-17T16:18:04.033169Z",
     "iopub.status.idle": "2021-05-17T16:18:04.035728Z",
     "shell.execute_reply": "2021-05-17T16:18:04.035238Z"
    },
    "papermill": {
     "duration": 0.030559,
     "end_time": "2021-05-17T16:18:04.035824",
     "exception": false,
     "start_time": "2021-05-17T16:18:04.005265",
     "status": "completed"
    },
    "tags": []
   },
   "outputs": [],
   "source": [
    "### ArcFace\n",
    "class ArcMarginProduct(nn.Module):\n",
    "    def __init__(self, in_features, out_features, scale=30.0, margin=0.50, easy_margin=False, ls_eps=0.0):\n",
    "        super(ArcMarginProduct, self).__init__()\n",
    "        self.in_features = in_features\n",
    "        self.out_features = out_features\n",
    "        self.scale = scale\n",
    "        self.margin = margin\n",
    "        self.ls_eps = ls_eps  # label smoothing\n",
    "        self.weight = nn.Parameter(torch.FloatTensor(out_features, in_features))\n",
    "        nn.init.xavier_uniform_(self.weight)\n",
    "\n",
    "        self.easy_margin = easy_margin\n",
    "        self.cos_m = math.cos(margin)\n",
    "        self.sin_m = math.sin(margin)\n",
    "        self.th = math.cos(math.pi - margin)\n",
    "        self.mm = math.sin(math.pi - margin) * margin\n",
    "        \n",
    "        self.criterion = nn.CrossEntropyLoss()\n",
    "                \n",
    "    def forward(self, input, label):\n",
    "        # --------------------------- cos(theta) & phi(theta) ---------------------------\n",
    "        if CFG.use_amp:\n",
    "            cosine = F.linear(F.normalize(input), F.normalize(self.weight)).float()  # if CFG.use_amp\n",
    "        else:\n",
    "            cosine = F.linear(F.normalize(input), F.normalize(self.weight))\n",
    "        sine = torch.sqrt(1.0 - torch.pow(cosine, 2))\n",
    "        phi = cosine * self.cos_m - sine * self.sin_m\n",
    "        if self.easy_margin:\n",
    "            phi = torch.where(cosine > 0, phi, cosine)\n",
    "        else:\n",
    "            phi = torch.where(cosine > self.th, phi, cosine - self.mm)\n",
    "        # --------------------------- convert label to one-hot ---------------------------\n",
    "        one_hot = torch.zeros(cosine.size(), device=CFG.device)\n",
    "        one_hot.scatter_(1, label.view(-1, 1).long(), 1)\n",
    "        if self.ls_eps > 0:\n",
    "            one_hot = (1 - self.ls_eps) * one_hot + self.ls_eps / self.out_features\n",
    "\n",
    "        output = (one_hot * phi) + ((1.0 - one_hot) * cosine)\n",
    "        output *= self.scale\n",
    "        return output, self.criterion(output,label)"
   ]
  },
  {
   "cell_type": "code",
   "execution_count": 12,
   "id": "green-yorkshire",
   "metadata": {
    "execution": {
     "iopub.execute_input": "2021-05-17T16:18:04.088718Z",
     "iopub.status.busy": "2021-05-17T16:18:04.088127Z",
     "iopub.status.idle": "2021-05-17T16:18:04.096433Z",
     "shell.execute_reply": "2021-05-17T16:18:04.096043Z"
    },
    "papermill": {
     "duration": 0.043223,
     "end_time": "2021-05-17T16:18:04.096530",
     "exception": false,
     "start_time": "2021-05-17T16:18:04.053307",
     "status": "completed"
    },
    "tags": []
   },
   "outputs": [],
   "source": [
    "### BERT\n",
    "\n",
    "# Mean Pooling - Take attention mask into account for correct averaging\n",
    "def mean_pooling(model_output, attention_mask):\n",
    "    token_embeddings = model_output[0]  # First element of model_output contains all token embeddings\n",
    "    input_mask_expanded = attention_mask.unsqueeze(-1).expand(token_embeddings.size()).float()\n",
    "    sum_embeddings = torch.sum(token_embeddings * input_mask_expanded, 1)\n",
    "    sum_mask = torch.clamp(input_mask_expanded.sum(1), min=1e-9)\n",
    "    return sum_embeddings / sum_mask\n",
    "\n",
    "\n",
    "class ShopeeBertModel(nn.Module):\n",
    "\n",
    "    def __init__(\n",
    "        self,\n",
    "        n_classes = CFG.classes,\n",
    "        model_name = CFG.bert_model_name,\n",
    "        fc_dim = CFG.fc_dim,\n",
    "        margin = CFG.margin,\n",
    "        scale = CFG.scale,\n",
    "        use_fc = True\n",
    "    ):\n",
    "\n",
    "        super(ShopeeBertModel,self).__init__()\n",
    "        print('Building Model Backbone for {} model'.format(model_name))\n",
    "\n",
    "        self.tokenizer = AutoTokenizer.from_pretrained(model_name)\n",
    "        self.backbone = AutoModel.from_pretrained(model_name).to(CFG.device)\n",
    "\n",
    "        in_features = 768\n",
    "        self.use_fc = use_fc\n",
    "        \n",
    "        if use_fc:\n",
    "            self.dropout = nn.Dropout(p=0.0)\n",
    "            self.classifier = nn.Linear(in_features, fc_dim)\n",
    "            self.bn = nn.BatchNorm1d(fc_dim)\n",
    "            self._init_params()\n",
    "            in_features = fc_dim\n",
    "            \n",
    "        self.final = ArcMarginProduct(\n",
    "            in_features,\n",
    "            n_classes,\n",
    "            scale = scale,\n",
    "            margin = margin,\n",
    "            easy_margin = False,\n",
    "            ls_eps = 0.0\n",
    "        )\n",
    "\n",
    "    def _init_params(self):\n",
    "        nn.init.xavier_normal_(self.classifier.weight)\n",
    "        nn.init.constant_(self.classifier.bias, 0)\n",
    "        nn.init.constant_(self.bn.weight, 1)\n",
    "        nn.init.constant_(self.bn.bias, 0)\n",
    "\n",
    "    def forward(self, texts, labels=torch.tensor([0])):\n",
    "        features = self.extract_features(texts)\n",
    "        if self.training:\n",
    "            logits = self.final(features, labels.to(CFG.device))\n",
    "            return logits\n",
    "        else:\n",
    "            return features\n",
    "        \n",
    "    def extract_features(self, texts):\n",
    "        encoding = self.tokenizer(texts, padding=True, truncation=True,\n",
    "                             max_length=CFG.max_length, return_tensors='pt').to(CFG.device)\n",
    "        input_ids = encoding['input_ids']\n",
    "        attention_mask = encoding['attention_mask']\n",
    "        embedding = self.backbone(input_ids, attention_mask=attention_mask)\n",
    "        x = mean_pooling(embedding, attention_mask)\n",
    "        \n",
    "        if self.use_fc and self.training:\n",
    "            x = self.dropout(x)\n",
    "            x = self.classifier(x)\n",
    "            x = self.bn(x)\n",
    "        \n",
    "        return x"
   ]
  },
  {
   "cell_type": "markdown",
   "id": "cathedral-fashion",
   "metadata": {
    "papermill": {
     "duration": 0.017239,
     "end_time": "2021-05-17T16:18:04.131127",
     "exception": false,
     "start_time": "2021-05-17T16:18:04.113888",
     "status": "completed"
    },
    "tags": []
   },
   "source": [
    "# Setup"
   ]
  },
  {
   "cell_type": "code",
   "execution_count": 13,
   "id": "transsexual-recall",
   "metadata": {
    "execution": {
     "iopub.execute_input": "2021-05-17T16:18:04.179338Z",
     "iopub.status.busy": "2021-05-17T16:18:04.178807Z",
     "iopub.status.idle": "2021-05-17T16:18:05.231785Z",
     "shell.execute_reply": "2021-05-17T16:18:05.232394Z"
    },
    "papermill": {
     "duration": 1.083921,
     "end_time": "2021-05-17T16:18:05.232584",
     "exception": false,
     "start_time": "2021-05-17T16:18:04.148663",
     "status": "completed"
    },
    "tags": []
   },
   "outputs": [
    {
     "name": "stdout",
     "output_type": "stream",
     "text": [
      "Compute CV = True\n",
      "train_df length = 20550\n",
      "train_df classes = 6609\n",
      "valid_df length = 6849\n",
      "valid_df classes = 2202\n",
      "test_df length = 6851\n",
      "test_df classes = 2203\n"
     ]
    }
   ],
   "source": [
    "### Create Dataloader\n",
    "\n",
    "print(\"Compute CV =\", CFG.compute_cv)\n",
    "\n",
    "df = pd.read_csv(TRAIN_CSV)\n",
    "df['target'] = df.label_group.map(df.groupby('label_group').posting_id.agg('unique').to_dict())\n",
    "\n",
    "labelencoder= LabelEncoder()\n",
    "df['label_group'] = labelencoder.fit_transform(df['label_group'])\n",
    "\n",
    "gkf = GroupKFold(n_splits=CFG.N_SPLITS)\n",
    "df['fold'] = -1\n",
    "for i, (train_idx, valid_idx) in enumerate(gkf.split(X=df, groups=df['label_group'])):\n",
    "    df.loc[valid_idx, 'fold'] = i\n",
    "\n",
    "train_df = df[df['fold']!=CFG.TEST_FOLD].reset_index(drop=True)\n",
    "train_df = train_df[train_df['fold']!=CFG.VALID_FOLD].reset_index(drop=True)\n",
    "valid_df = df[df['fold']==CFG.VALID_FOLD].reset_index(drop=True)\n",
    "test_df = df[df['fold']==CFG.TEST_FOLD].reset_index(drop=True)\n",
    "\n",
    "# force label_group to be integers from 0 to (n_class - 1)\n",
    "train_df['label_group'] = labelencoder.fit_transform(train_df['label_group'])\n",
    "\n",
    "print(\"train_df length =\", len(train_df))\n",
    "print(\"train_df classes =\", len(train_df['label_group'].unique()))\n",
    "print(\"valid_df length =\", len(valid_df))\n",
    "print(\"valid_df classes =\", len(valid_df['label_group'].unique()))\n",
    "print(\"test_df length =\", len(test_df))\n",
    "print(\"test_df classes =\", len(test_df['label_group'].unique()))\n",
    "\n",
    "train_dataset = TitleDataset(train_df, 'title', 'label_group')\n",
    "train_dataloader = torch.utils.data.DataLoader(\n",
    "    train_dataset,\n",
    "    batch_size = CFG.batch_size,\n",
    "    num_workers = CFG.num_workers,\n",
    "    pin_memory = True,\n",
    "    shuffle = True,\n",
    "    drop_last = True\n",
    ")\n",
    "\n",
    "valid_dataset = TitleDataset(valid_df, 'title', 'label_group')\n",
    "valid_dataloader = torch.utils.data.DataLoader(\n",
    "    valid_dataset,\n",
    "    batch_size = CFG.batch_size,\n",
    "    num_workers = CFG.num_workers,\n",
    "    pin_memory = True,\n",
    "    shuffle = False,\n",
    "    drop_last = False\n",
    ")\n",
    "\n",
    "test_dataset = TitleDataset(test_df, 'title', 'label_group')\n",
    "test_dataloader = torch.utils.data.DataLoader(\n",
    "    test_dataset,\n",
    "    batch_size = CFG.batch_size,\n",
    "    num_workers = CFG.num_workers,\n",
    "    pin_memory = True,\n",
    "    shuffle = False,\n",
    "    drop_last = False\n",
    ")"
   ]
  },
  {
   "cell_type": "code",
   "execution_count": 14,
   "id": "amateur-cocktail",
   "metadata": {
    "execution": {
     "iopub.execute_input": "2021-05-17T16:18:05.274855Z",
     "iopub.status.busy": "2021-05-17T16:18:05.274360Z",
     "iopub.status.idle": "2021-05-17T16:18:18.693950Z",
     "shell.execute_reply": "2021-05-17T16:18:18.693086Z"
    },
    "papermill": {
     "duration": 13.44218,
     "end_time": "2021-05-17T16:18:18.694105",
     "exception": false,
     "start_time": "2021-05-17T16:18:05.251925",
     "status": "completed"
    },
    "tags": []
   },
   "outputs": [
    {
     "name": "stdout",
     "output_type": "stream",
     "text": [
      "Building Model Backbone for ../input/bertmodel/paraphrase-distilroberta-base-v1 model\n"
     ]
    }
   ],
   "source": [
    "### Create Model\n",
    "\n",
    "model = ShopeeBertModel()\n",
    "model.to(CFG.device);"
   ]
  },
  {
   "cell_type": "code",
   "execution_count": 15,
   "id": "extra-simpson",
   "metadata": {
    "execution": {
     "iopub.execute_input": "2021-05-17T16:18:18.739747Z",
     "iopub.status.busy": "2021-05-17T16:18:18.739129Z",
     "iopub.status.idle": "2021-05-17T16:18:24.018058Z",
     "shell.execute_reply": "2021-05-17T16:18:24.017317Z"
    },
    "papermill": {
     "duration": 5.304188,
     "end_time": "2021-05-17T16:18:24.018242",
     "exception": false,
     "start_time": "2021-05-17T16:18:18.714054",
     "status": "completed"
    },
    "tags": []
   },
   "outputs": [
    {
     "name": "stdout",
     "output_type": "stream",
     "text": [
      "lr_start\n",
      "------------------------------\n",
      "Parameter Group 0 : 7.5e-06\n",
      "Parameter Group 1 : 1.5e-05\n",
      "Parameter Group 2 : 1.5e-05\n",
      "Parameter Group 3 : 1.5e-05\n"
     ]
    }
   ],
   "source": [
    "### Create Optimizer\n",
    "\n",
    "optimizer_grouped_parameters = [\n",
    "    {'params': model.backbone.parameters(), 'lr': CFG.scheduler_params['lr_start']},\n",
    "    {'params': model.classifier.parameters(), 'lr': CFG.scheduler_params['lr_start'] * 2},\n",
    "    {'params': model.bn.parameters(), 'lr': CFG.scheduler_params['lr_start'] * 2},\n",
    "    {'params': model.final.parameters(), 'lr': CFG.scheduler_params['lr_start'] * 2},\n",
    "]\n",
    "\n",
    "if CFG.use_sam:\n",
    "    from transformers import AdamW\n",
    "    optimizer = AdamW\n",
    "    optimizer = SAM(optimizer_grouped_parameters, optimizer)\n",
    "\n",
    "else:\n",
    "    from transformers import AdamW\n",
    "    optimizer = AdamW(optimizer_grouped_parameters)\n",
    "\n",
    "print(\"lr_start\")\n",
    "print(\"-\" * 30)\n",
    "for i in range(len(optimizer.param_groups)):\n",
    "    print('Parameter Group ' + str(i) + ' :', optimizer.param_groups[i][\"lr\"])"
   ]
  },
  {
   "cell_type": "code",
   "execution_count": 16,
   "id": "ambient-geometry",
   "metadata": {
    "execution": {
     "iopub.execute_input": "2021-05-17T16:18:24.063498Z",
     "iopub.status.busy": "2021-05-17T16:18:24.062926Z",
     "iopub.status.idle": "2021-05-17T16:18:24.066824Z",
     "shell.execute_reply": "2021-05-17T16:18:24.066411Z"
    },
    "papermill": {
     "duration": 0.028167,
     "end_time": "2021-05-17T16:18:24.066931",
     "exception": false,
     "start_time": "2021-05-17T16:18:24.038764",
     "status": "completed"
    },
    "tags": []
   },
   "outputs": [],
   "source": [
    "### Create Scheduler\n",
    "\n",
    "scheduler_cosine = torch.optim.lr_scheduler.CosineAnnealingLR(optimizer, T_max=CFG.cosine_epo-2, eta_min=CFG.eta_min, last_epoch=-1)\n",
    "scheduler = GradualWarmupSchedulerV2(optimizer, multiplier=CFG.multiplier, total_epoch=CFG.warmup_epo,\n",
    "                                     after_scheduler=scheduler_cosine)"
   ]
  },
  {
   "cell_type": "markdown",
   "id": "cosmetic-orange",
   "metadata": {
    "papermill": {
     "duration": 0.018791,
     "end_time": "2021-05-17T16:18:24.104917",
     "exception": false,
     "start_time": "2021-05-17T16:18:24.086126",
     "status": "completed"
    },
    "tags": []
   },
   "source": [
    "# Training and Validation"
   ]
  },
  {
   "cell_type": "code",
   "execution_count": 17,
   "id": "eastern-virus",
   "metadata": {
    "execution": {
     "iopub.execute_input": "2021-05-17T16:18:24.146909Z",
     "iopub.status.busy": "2021-05-17T16:18:24.146400Z",
     "iopub.status.idle": "2021-05-17T16:18:24.151858Z",
     "shell.execute_reply": "2021-05-17T16:18:24.151294Z"
    },
    "papermill": {
     "duration": 0.027977,
     "end_time": "2021-05-17T16:18:24.151997",
     "exception": false,
     "start_time": "2021-05-17T16:18:24.124020",
     "status": "completed"
    },
    "tags": []
   },
   "outputs": [
    {
     "name": "stdout",
     "output_type": "stream",
     "text": [
      "Training epochs = 8\n"
     ]
    }
   ],
   "source": [
    "print(\"Training epochs =\", CFG.epochs)"
   ]
  },
  {
   "cell_type": "code",
   "execution_count": 18,
   "id": "dressed-warrior",
   "metadata": {
    "execution": {
     "iopub.execute_input": "2021-05-17T16:18:24.200094Z",
     "iopub.status.busy": "2021-05-17T16:18:24.199500Z",
     "iopub.status.idle": "2021-05-17T16:38:33.778127Z",
     "shell.execute_reply": "2021-05-17T16:38:33.778673Z"
    },
    "papermill": {
     "duration": 1209.60687,
     "end_time": "2021-05-17T16:38:33.778876",
     "exception": false,
     "start_time": "2021-05-17T16:18:24.172006",
     "status": "completed"
    },
    "tags": []
   },
   "outputs": [
    {
     "name": "stderr",
     "output_type": "stream",
     "text": [
      "Training epoch: 1: 100%|█████████████| 1284/1284 [02:23<00:00,  8.97it/s, loss=23.540845, LR=7.5e-6]\n",
      "get_bert_embeddings: 100%|████████████████████| 216/216 [00:05<00:00, 39.43it/s]\n",
      "Training epoch: 2:   0%|                                                   | 0/1284 [00:00<?, ?it/s]"
     ]
    },
    {
     "name": "stdout",
     "output_type": "stream",
     "text": [
      "Valid f1 score = 0.30642427893766855\n"
     ]
    },
    {
     "name": "stderr",
     "output_type": "stream",
     "text": [
      "Training epoch: 2: 100%|████████████| 1284/1284 [02:21<00:00,  9.10it/s, loss=19.979242, LR=5.38e-5]\n",
      "get_bert_embeddings: 100%|████████████████████| 216/216 [00:05<00:00, 39.42it/s]\n",
      "Training epoch: 3:   0%|                                                   | 0/1284 [00:00<?, ?it/s]"
     ]
    },
    {
     "name": "stdout",
     "output_type": "stream",
     "text": [
      "Valid f1 score = 0.6790585035228488\n"
     ]
    },
    {
     "name": "stderr",
     "output_type": "stream",
     "text": [
      "Training epoch: 3: 100%|█████████████| 1284/1284 [02:21<00:00,  9.08it/s, loss=14.590471, LR=0.0001]\n",
      "get_bert_embeddings: 100%|████████████████████| 216/216 [00:05<00:00, 39.16it/s]\n"
     ]
    },
    {
     "name": "stdout",
     "output_type": "stream",
     "text": [
      "Valid f1 score = 0.7600282956831919\n",
      "[2021-05-17 16:25:53.929836] Valid f1 score improved. Saving model weights to ./paraphrase-distilroberta-base-v1_epoch8-bs16x1.pt\n"
     ]
    },
    {
     "name": "stderr",
     "output_type": "stream",
     "text": [
      "Training epoch: 4: 100%|██████████████| 1284/1284 [02:21<00:00,  9.05it/s, loss=9.613966, LR=0.0001]\n",
      "get_bert_embeddings: 100%|████████████████████| 216/216 [00:05<00:00, 39.41it/s]\n"
     ]
    },
    {
     "name": "stdout",
     "output_type": "stream",
     "text": [
      "Valid f1 score = 0.7858791102046293\n",
      "[2021-05-17 16:28:25.124999] Valid f1 score improved. Saving model weights to ./paraphrase-distilroberta-base-v1_epoch8-bs16x1.pt\n"
     ]
    },
    {
     "name": "stderr",
     "output_type": "stream",
     "text": [
      "Training epoch: 5: 100%|█████████████| 1284/1284 [02:23<00:00,  8.95it/s, loss=6.118896, LR=8.94e-5]\n",
      "get_bert_embeddings: 100%|████████████████████| 216/216 [00:05<00:00, 38.30it/s]\n"
     ]
    },
    {
     "name": "stdout",
     "output_type": "stream",
     "text": [
      "Valid f1 score = 0.7894817878368148\n",
      "[2021-05-17 16:30:58.834307] Valid f1 score improved. Saving model weights to ./paraphrase-distilroberta-base-v1_epoch8-bs16x1.pt\n"
     ]
    },
    {
     "name": "stderr",
     "output_type": "stream",
     "text": [
      "Training epoch: 6: 100%|█████████████| 1284/1284 [02:23<00:00,  8.95it/s, loss=3.666920, LR=6.37e-5]\n",
      "get_bert_embeddings: 100%|████████████████████| 216/216 [00:05<00:00, 39.26it/s]\n",
      "Training epoch: 7:   0%|                                                   | 0/1284 [00:00<?, ?it/s]"
     ]
    },
    {
     "name": "stdout",
     "output_type": "stream",
     "text": [
      "Valid f1 score = 0.7860853813635417\n"
     ]
    },
    {
     "name": "stderr",
     "output_type": "stream",
     "text": [
      "Training epoch: 7: 100%|██████████████| 1284/1284 [02:24<00:00,  8.91it/s, loss=2.257315, LR=3.8e-5]\n",
      "get_bert_embeddings: 100%|████████████████████| 216/216 [00:05<00:00, 39.39it/s]\n",
      "Training epoch: 8:   0%|                                                   | 0/1284 [00:00<?, ?it/s]"
     ]
    },
    {
     "name": "stdout",
     "output_type": "stream",
     "text": [
      "Valid f1 score = 0.7821374647468671\n"
     ]
    },
    {
     "name": "stderr",
     "output_type": "stream",
     "text": [
      "Training epoch: 8: 100%|█████████████| 1284/1284 [02:22<00:00,  9.03it/s, loss=1.631039, LR=2.74e-5]\n",
      "get_bert_embeddings: 100%|████████████████████| 216/216 [00:05<00:00, 39.49it/s]\n"
     ]
    },
    {
     "name": "stdout",
     "output_type": "stream",
     "text": [
      "Valid f1 score = 0.7823092786486971\n"
     ]
    }
   ],
   "source": [
    "max_f1_valid = 0.\n",
    "\n",
    "for epoch in range(CFG.epochs):\n",
    "    model, avg_loss_train = train_fn(model, train_dataloader, optimizer, scheduler,\n",
    "                                     CFG.use_sam, CFG.accum_iter, epoch, CFG.device, CFG.use_amp)\n",
    "\n",
    "    valid_embeddings = get_bert_embeddings(valid_df, 'title', model)\n",
    "    valid_predictions = get_neighbors(valid_df, valid_embeddings.detach().cpu().numpy(),\n",
    "                                      knn=CFG.bert_knn if len(df) > 3 else 3, threshold=CFG.bert_knn_threshold)\n",
    "\n",
    "    valid_df['oof'] = valid_predictions\n",
    "    valid_df['f1'] = valid_df.apply(getMetric('oof'), axis=1)\n",
    "    valid_f1 = valid_df.f1.mean()\n",
    "    print('Valid f1 score =', valid_f1)\n",
    "\n",
    "    if (epoch >= CFG.min_save_epoch) and (valid_f1 > max_f1_valid):\n",
    "        print(f\"[{datetime.datetime.now()}] Valid f1 score improved. Saving model weights to {CFG.save_model_path}\")\n",
    "        max_f1_valid = valid_f1\n",
    "        torch.save(model.state_dict(), CFG.save_model_path)\n"
   ]
  },
  {
   "cell_type": "markdown",
   "id": "posted-influence",
   "metadata": {
    "papermill": {
     "duration": 4.980215,
     "end_time": "2021-05-17T16:38:43.663307",
     "exception": false,
     "start_time": "2021-05-17T16:38:38.683092",
     "status": "completed"
    },
    "tags": []
   },
   "source": [
    "# Best threshold Search"
   ]
  },
  {
   "cell_type": "code",
   "execution_count": 19,
   "id": "happy-fighter",
   "metadata": {
    "execution": {
     "iopub.execute_input": "2021-05-17T16:38:54.162588Z",
     "iopub.status.busy": "2021-05-17T16:38:54.161703Z",
     "iopub.status.idle": "2021-05-17T16:40:30.618621Z",
     "shell.execute_reply": "2021-05-17T16:40:30.619173Z"
    },
    "papermill": {
     "duration": 101.569011,
     "end_time": "2021-05-17T16:40:30.619370",
     "exception": false,
     "start_time": "2021-05-17T16:38:49.050359",
     "status": "completed"
    },
    "tags": []
   },
   "outputs": [
    {
     "name": "stdout",
     "output_type": "stream",
     "text": [
      "Searching best threshold...\n"
     ]
    },
    {
     "name": "stderr",
     "output_type": "stream",
     "text": [
      "get_bert_embeddings: 100%|████████████████████| 216/216 [00:05<00:00, 39.32it/s]\n"
     ]
    },
    {
     "name": "stdout",
     "output_type": "stream",
     "text": [
      "threshold = 0.1 -> f1 score = 0.5709995278747673\n",
      "threshold = 0.11 -> f1 score = 0.5801864073617632\n",
      "threshold = 0.12 -> f1 score = 0.5901163514809632\n",
      "threshold = 0.13 -> f1 score = 0.5998065618100968\n",
      "threshold = 0.14 -> f1 score = 0.6098859357029334\n",
      "threshold = 0.15 -> f1 score = 0.6211801577045771\n",
      "threshold = 0.16 -> f1 score = 0.630353922778324\n",
      "threshold = 0.17 -> f1 score = 0.6394779404108275\n",
      "threshold = 0.18 -> f1 score = 0.6493894612365317\n",
      "threshold = 0.19 -> f1 score = 0.660688092703191\n",
      "threshold = 0.2 -> f1 score = 0.6687909633172628\n",
      "threshold = 0.21 -> f1 score = 0.6783161850359133\n",
      "threshold = 0.22 -> f1 score = 0.6866106989286548\n",
      "threshold = 0.23 -> f1 score = 0.6937423050463178\n",
      "threshold = 0.24 -> f1 score = 0.7020720309701881\n",
      "threshold = 0.25 -> f1 score = 0.7085069297875041\n",
      "threshold = 0.26 -> f1 score = 0.7164608013779666\n",
      "threshold = 0.27 -> f1 score = 0.7239142629439668\n",
      "threshold = 0.28 -> f1 score = 0.7303072472664236\n",
      "threshold = 0.29 -> f1 score = 0.7377718403915302\n",
      "threshold = 0.3 -> f1 score = 0.7447271477995562\n",
      "threshold = 0.31 -> f1 score = 0.7507514616066491\n",
      "threshold = 0.32 -> f1 score = 0.7558768974771302\n",
      "threshold = 0.33 -> f1 score = 0.7608540613010217\n",
      "threshold = 0.34 -> f1 score = 0.7670048200573883\n",
      "threshold = 0.35 -> f1 score = 0.772412929732588\n",
      "threshold = 0.36 -> f1 score = 0.7765531312357142\n",
      "threshold = 0.37 -> f1 score = 0.7816020613815725\n",
      "threshold = 0.38 -> f1 score = 0.7852043489358362\n",
      "threshold = 0.39 -> f1 score = 0.7875111836278701\n",
      "threshold = 0.4 -> f1 score = 0.7894817878368148\n",
      "threshold = 0.41 -> f1 score = 0.7906936974838625\n",
      "threshold = 0.42 -> f1 score = 0.7916917942895322\n",
      "threshold = 0.43 -> f1 score = 0.791722618607994\n",
      "threshold = 0.44 -> f1 score = 0.7889661032235206\n",
      "threshold = 0.45 -> f1 score = 0.7850285146470818\n",
      "threshold = 0.46 -> f1 score = 0.7806636928305262\n",
      "threshold = 0.47 -> f1 score = 0.7754330501566797\n",
      "threshold = 0.48 -> f1 score = 0.7690922135010807\n",
      "threshold = 0.49 -> f1 score = 0.7611956901627487\n",
      "Best threshold = 0.43\n",
      "Best f1 score = 0.791722618607994\n"
     ]
    }
   ],
   "source": [
    "print(\"Searching best threshold...\")\n",
    "\n",
    "search_space = np.arange(10, 50, 1)\n",
    "\n",
    "model.load_state_dict(torch.load(CFG.save_model_path, map_location=CFG.device))\n",
    "valid_embeddings = get_bert_embeddings(valid_df, 'title', model)\n",
    "\n",
    "best_f1_valid = 0.\n",
    "best_threshold = 0.\n",
    "\n",
    "for i in search_space:\n",
    "    threshold = i / 100\n",
    "    valid_predictions = get_neighbors(valid_df, valid_embeddings.detach().cpu().numpy(),\n",
    "                                      knn=CFG.bert_knn if len(df) > 3 else 3, threshold=threshold)\n",
    "\n",
    "    valid_df['oof'] = valid_predictions\n",
    "    valid_df['f1'] = valid_df.apply(getMetric('oof'), axis=1)\n",
    "    valid_f1 = valid_df.f1.mean()\n",
    "    print(f\"threshold = {threshold} -> f1 score = {valid_f1}\")\n",
    "\n",
    "    if (valid_f1 > best_f1_valid):\n",
    "        best_f1_valid = valid_f1\n",
    "        best_threshold = threshold\n",
    "\n",
    "print(\"Best threshold =\", best_threshold)\n",
    "print(\"Best f1 score =\", best_f1_valid)\n",
    "BEST_THRESHOLD = best_threshold"
   ]
  },
  {
   "cell_type": "code",
   "execution_count": 20,
   "id": "handmade-contract",
   "metadata": {
    "execution": {
     "iopub.execute_input": "2021-05-17T16:40:40.656007Z",
     "iopub.status.busy": "2021-05-17T16:40:40.654890Z",
     "iopub.status.idle": "2021-05-17T16:41:24.263110Z",
     "shell.execute_reply": "2021-05-17T16:41:24.261957Z"
    },
    "papermill": {
     "duration": 48.503706,
     "end_time": "2021-05-17T16:41:24.263291",
     "exception": false,
     "start_time": "2021-05-17T16:40:35.759585",
     "status": "completed"
    },
    "tags": []
   },
   "outputs": [
    {
     "name": "stdout",
     "output_type": "stream",
     "text": [
      "Searching best knn...\n",
      "knn = 40 -> f1 score = 0.7911359288892843\n",
      "knn = 42 -> f1 score = 0.7913013445097463\n",
      "knn = 44 -> f1 score = 0.7914597952619784\n",
      "knn = 46 -> f1 score = 0.7915996701715361\n",
      "knn = 48 -> f1 score = 0.7917101761314496\n",
      "knn = 50 -> f1 score = 0.791722618607994\n",
      "knn = 52 -> f1 score = 0.7917013007297194\n",
      "knn = 54 -> f1 score = 0.7917015369865421\n",
      "knn = 56 -> f1 score = 0.7917015369865421\n",
      "knn = 58 -> f1 score = 0.7917015369865421\n",
      "knn = 60 -> f1 score = 0.7917015369865421\n",
      "knn = 62 -> f1 score = 0.7917015369865421\n",
      "knn = 64 -> f1 score = 0.7917015369865421\n",
      "knn = 66 -> f1 score = 0.7917015369865421\n",
      "knn = 68 -> f1 score = 0.7917015369865421\n",
      "knn = 70 -> f1 score = 0.7917015369865421\n",
      "knn = 72 -> f1 score = 0.7917015369865421\n",
      "knn = 74 -> f1 score = 0.7917015369865421\n",
      "knn = 76 -> f1 score = 0.7917015369865421\n",
      "knn = 78 -> f1 score = 0.7917015369865421\n",
      "Best knn = 50\n",
      "Best f1 score = 0.791722618607994\n"
     ]
    }
   ],
   "source": [
    "print(\"Searching best knn...\")\n",
    "\n",
    "search_space = np.arange(40, 80, 2)\n",
    "\n",
    "best_f1_valid = 0.\n",
    "best_knn = 0\n",
    "\n",
    "for knn in search_space:\n",
    "\n",
    "    valid_predictions = get_neighbors(valid_df, valid_embeddings.detach().cpu().numpy(),\n",
    "                                      knn=knn, threshold=BEST_THRESHOLD)\n",
    "\n",
    "    valid_df['oof'] = valid_predictions\n",
    "    valid_df['f1'] = valid_df.apply(getMetric('oof'), axis=1)\n",
    "    valid_f1 = valid_df.f1.mean()\n",
    "    print(f\"knn = {knn} -> f1 score = {valid_f1}\")\n",
    "\n",
    "    if (valid_f1 > best_f1_valid):\n",
    "        best_f1_valid = valid_f1\n",
    "        BEST_KNN = knn\n",
    "\n",
    "print(\"Best knn =\", BEST_KNN)\n",
    "print(\"Best f1 score =\", best_f1_valid)"
   ]
  },
  {
   "cell_type": "markdown",
   "id": "unlike-plaza",
   "metadata": {
    "papermill": {
     "duration": 5.579999,
     "end_time": "2021-05-17T16:41:34.810854",
     "exception": false,
     "start_time": "2021-05-17T16:41:29.230855",
     "status": "completed"
    },
    "tags": []
   },
   "source": [
    "# Find Test F1 Score"
   ]
  },
  {
   "cell_type": "code",
   "execution_count": 21,
   "id": "center-interface",
   "metadata": {
    "execution": {
     "iopub.execute_input": "2021-05-17T16:41:44.822957Z",
     "iopub.status.busy": "2021-05-17T16:41:44.821895Z",
     "iopub.status.idle": "2021-05-17T16:41:52.654015Z",
     "shell.execute_reply": "2021-05-17T16:41:52.654698Z"
    },
    "papermill": {
     "duration": 12.910432,
     "end_time": "2021-05-17T16:41:52.654900",
     "exception": false,
     "start_time": "2021-05-17T16:41:39.744468",
     "status": "completed"
    },
    "tags": []
   },
   "outputs": [
    {
     "name": "stderr",
     "output_type": "stream",
     "text": [
      "get_bert_embeddings: 100%|████████████████████| 216/216 [00:05<00:00, 40.31it/s]\n"
     ]
    },
    {
     "name": "stdout",
     "output_type": "stream",
     "text": [
      "Test f1 score = 0.7998747045695884\n"
     ]
    }
   ],
   "source": [
    "test_embeddings = get_bert_embeddings(test_df, 'title', model)\n",
    "test_predictions = get_neighbors(test_df, test_embeddings.detach().cpu().numpy(),\n",
    "                                      knn=BEST_KNN, threshold=BEST_THRESHOLD)\n",
    "\n",
    "test_df['oof'] = test_predictions\n",
    "test_df['f1'] = test_df.apply(getMetric('oof'), axis=1)\n",
    "test_f1 = test_df.f1.mean()\n",
    "print(\"Test f1 score =\", test_f1)"
   ]
  },
  {
   "cell_type": "code",
   "execution_count": 22,
   "id": "descending-edmonton",
   "metadata": {
    "execution": {
     "iopub.execute_input": "2021-05-17T16:42:02.862080Z",
     "iopub.status.busy": "2021-05-17T16:42:02.860421Z",
     "iopub.status.idle": "2021-05-17T16:42:02.864513Z",
     "shell.execute_reply": "2021-05-17T16:42:02.863870Z"
    },
    "papermill": {
     "duration": 5.176294,
     "end_time": "2021-05-17T16:42:02.864720",
     "exception": false,
     "start_time": "2021-05-17T16:41:57.688426",
     "status": "completed"
    },
    "tags": []
   },
   "outputs": [
    {
     "name": "stdout",
     "output_type": "stream",
     "text": [
      "Elapsed time: 24 min 3 sec\n",
      "2021-05-17 16:42:02.857986\n"
     ]
    }
   ],
   "source": [
    "time_elapsed = time.time() - start_time\n",
    "print('Elapsed time: {:.0f} min {:.0f} sec'.format(time_elapsed // 60, time_elapsed % 60))\n",
    "print(datetime.datetime.now())"
   ]
  }
 ],
 "metadata": {
  "kernelspec": {
   "display_name": "Python 3",
   "language": "python",
   "name": "python3"
  },
  "language_info": {
   "codemirror_mode": {
    "name": "ipython",
    "version": 3
   },
   "file_extension": ".py",
   "mimetype": "text/x-python",
   "name": "python",
   "nbconvert_exporter": "python",
   "pygments_lexer": "ipython3",
   "version": "3.7.10"
  },
  "papermill": {
   "default_parameters": {},
   "duration": 1457.715475,
   "end_time": "2021-05-17T16:42:10.525583",
   "environment_variables": {},
   "exception": null,
   "input_path": "__notebook__.ipynb",
   "output_path": "__notebook__.ipynb",
   "parameters": {},
   "start_time": "2021-05-17T16:17:52.810108",
   "version": "2.3.3"
  }
 },
 "nbformat": 4,
 "nbformat_minor": 5
}

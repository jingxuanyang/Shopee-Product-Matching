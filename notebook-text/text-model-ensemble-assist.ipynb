{
 "metadata": {
  "language_info": {
   "codemirror_mode": {
    "name": "ipython",
    "version": 3
   },
   "file_extension": ".py",
   "mimetype": "text/x-python",
   "name": "python",
   "nbconvert_exporter": "python",
   "pygments_lexer": "ipython3",
   "version": "3.8.3"
  },
  "orig_nbformat": 2,
  "kernelspec": {
   "name": "python383jvsc74a57bd00b64f3f517ef2f38123c9b9d844dc7ba7aeffcc4559b7061ceea5f8a66fe5b86",
   "display_name": "Python 3.8.3 64-bit ('base': conda)"
  }
 },
 "nbformat": 4,
 "nbformat_minor": 2,
 "cells": [
  {
   "cell_type": "code",
   "execution_count": 5,
   "metadata": {},
   "outputs": [],
   "source": [
    "import sys\n",
    "sys.path.insert(0,'../input/shopee-competition-utils')\n",
    "\n",
    "from sklearn.externals import joblib\n",
    "from config import CFG"
   ]
  },
  {
   "cell_type": "code",
   "execution_count": 6,
   "metadata": {},
   "outputs": [
    {
     "output_type": "execute_result",
     "data": {
      "text/plain": [
       "{'bert-base-multilingual-uncased_f1':     arcface  arcface_min2  arcface_inb\n",
       " 0  0.817695      0.825374     0.829785\n",
       " 1  0.816837      0.821369     0.824730\n",
       " 2  0.815599      0.817222     0.823865\n",
       " 3  0.815952      0.819893     0.825054,\n",
       " 'bert-base-multilingual-uncased_recall':     arcface  arcface_min2  arcface_inb\n",
       " 0  0.832777      0.848134     0.874527\n",
       " 1  0.846143      0.856103     0.867068\n",
       " 2  0.848685      0.851210     0.855169\n",
       " 3  0.835707      0.843242     0.863881,\n",
       " 'bert-base-multilingual-uncased_precision':     arcface  arcface_min2  arcface_inb\n",
       " 0  0.884845      0.869154     0.862630\n",
       " 1  0.867578      0.856193     0.862256\n",
       " 2  0.862341      0.860954     0.870931\n",
       " 3  0.877686      0.871410     0.866345,\n",
       " 'bert-base-indonesian-1.5G_f1':     arcface  arcface_min2  arcface_inb\n",
       " 0  0.811245      0.818108     0.820792\n",
       " 1  0.812737      0.820426     0.822845\n",
       " 2  0.811340      0.816019     0.819713\n",
       " 3  0.809697      0.817934     0.821771,\n",
       " 'bert-base-indonesian-1.5G_recall':     arcface  arcface_min2  arcface_inb\n",
       " 0  0.837108      0.852611     0.861373\n",
       " 1  0.838326      0.854013     0.883915\n",
       " 2  0.843387      0.853201     0.856537\n",
       " 3  0.840238      0.856187     0.866903,\n",
       " 'bert-base-indonesian-1.5G_precision':     arcface  arcface_min2  arcface_inb\n",
       " 0  0.867453      0.849646     0.860542\n",
       " 1  0.868974      0.853064     0.833891\n",
       " 2  0.860564      0.850419     0.861257\n",
       " 3  0.861345      0.847114     0.855625,\n",
       " 'distilbert-base-indonesian_f1':     arcface  arcface_min2  arcface_inb\n",
       " 0  0.808610      0.812398     0.816363\n",
       " 1  0.808627      0.813436     0.814599\n",
       " 2  0.807535      0.811626     0.815952\n",
       " 3  0.808174      0.809667     0.810856,\n",
       " 'distilbert-base-indonesian_recall':     arcface  arcface_min2  arcface_inb\n",
       " 0  0.839873      0.848270     0.860028\n",
       " 1  0.844505      0.854869     0.865881\n",
       " 2  0.845347      0.854657     0.855508\n",
       " 3  0.841787      0.844706     0.865212,\n",
       " 'distilbert-base-indonesian_precision':     arcface  arcface_min2  arcface_inb\n",
       " 0  0.861303      0.850501     0.855317\n",
       " 1  0.855438      0.843396     0.846615\n",
       " 2  0.853291      0.840665     0.854998\n",
       " 3  0.857152      0.854233     0.842460,\n",
       " 'paraphrase-xlm-r-multilingual-v1_f1':     arcface  arcface_min2  arcface_inb\n",
       " 0  0.821014      0.825696     0.830669\n",
       " 1  0.821026      0.827194     0.832225\n",
       " 2  0.820298      0.829395     0.833378\n",
       " 3  0.821114      0.828536     0.834545,\n",
       " 'paraphrase-xlm-r-multilingual-v1_recall':     arcface  arcface_min2  arcface_inb\n",
       " 0  0.840986      0.849491     0.861604\n",
       " 1  0.842384      0.852754     0.859643\n",
       " 2  0.836768      0.853293     0.855451\n",
       " 3  0.848321      0.862709     0.865643,\n",
       " 'paraphrase-xlm-r-multilingual-v1_precision':     arcface  arcface_min2  arcface_inb\n",
       " 0  0.879814      0.873610     0.877380\n",
       " 1  0.879000      0.872870     0.880647\n",
       " 2  0.882831      0.869767     0.885645\n",
       " 3  0.872422      0.859066     0.877005,\n",
       " 'paraphrase-distilroberta-base-v1_f1':     arcface  arcface_min2  arcface_inb\n",
       " 0  0.802274      0.808062     0.814276\n",
       " 1  0.802462      0.806283     0.812416\n",
       " 2  0.798875      0.803254     0.810062\n",
       " 3  0.800600      0.807669     0.814366,\n",
       " 'paraphrase-distilroberta-base-v1_recall':     arcface  arcface_min2  arcface_inb\n",
       " 0  0.826988      0.840380     0.844586\n",
       " 1  0.819289      0.827704     0.847566\n",
       " 2  0.834882      0.845159     0.857305\n",
       " 3  0.814857      0.829277     0.840863,\n",
       " 'paraphrase-distilroberta-base-v1_precision':     arcface  arcface_min2  arcface_inb\n",
       " 0  0.861016      0.844668     0.866497\n",
       " 1  0.870477      0.860479     0.861137\n",
       " 2  0.847167      0.834250     0.845793\n",
       " 3  0.872976      0.857942     0.870394}"
      ]
     },
     "metadata": {},
     "execution_count": 6
    }
   ],
   "source": [
    "test_bert_result_dict = joblib.load(CFG.RESULTS_SAVE_PATH + 'test_bert_result_dict.pkl')\n",
    "test_bert_result_dict"
   ]
  },
  {
   "cell_type": "code",
   "execution_count": 7,
   "metadata": {},
   "outputs": [
    {
     "output_type": "execute_result",
     "data": {
      "text/plain": [
       "    arcface  arcface_min2  arcface_inb\n",
       "0  0.817695      0.825374     0.829785\n",
       "1  0.816837      0.821369     0.824730\n",
       "2  0.815599      0.817222     0.823865\n",
       "3  0.815952      0.819893     0.825054"
      ],
      "text/html": "<div>\n<style scoped>\n    .dataframe tbody tr th:only-of-type {\n        vertical-align: middle;\n    }\n\n    .dataframe tbody tr th {\n        vertical-align: top;\n    }\n\n    .dataframe thead th {\n        text-align: right;\n    }\n</style>\n<table border=\"1\" class=\"dataframe\">\n  <thead>\n    <tr style=\"text-align: right;\">\n      <th></th>\n      <th>arcface</th>\n      <th>arcface_min2</th>\n      <th>arcface_inb</th>\n    </tr>\n  </thead>\n  <tbody>\n    <tr>\n      <th>0</th>\n      <td>0.817695</td>\n      <td>0.825374</td>\n      <td>0.829785</td>\n    </tr>\n    <tr>\n      <th>1</th>\n      <td>0.816837</td>\n      <td>0.821369</td>\n      <td>0.824730</td>\n    </tr>\n    <tr>\n      <th>2</th>\n      <td>0.815599</td>\n      <td>0.817222</td>\n      <td>0.823865</td>\n    </tr>\n    <tr>\n      <th>3</th>\n      <td>0.815952</td>\n      <td>0.819893</td>\n      <td>0.825054</td>\n    </tr>\n  </tbody>\n</table>\n</div>"
     },
     "metadata": {},
     "execution_count": 7
    }
   ],
   "source": [
    "test_bert_result_dict['bert-base-multilingual-uncased_f1']"
   ]
  },
  {
   "cell_type": "code",
   "execution_count": 8,
   "metadata": {},
   "outputs": [
    {
     "output_type": "execute_result",
     "data": {
      "text/plain": [
       "arcface         0\n",
       "arcface_min2    0\n",
       "arcface_inb     0\n",
       "dtype: int64"
      ]
     },
     "metadata": {},
     "execution_count": 8
    }
   ],
   "source": [
    "test_bert_result_dict['bert-base-multilingual-uncased_f1'].idxmax()"
   ]
  },
  {
   "cell_type": "code",
   "execution_count": 9,
   "metadata": {},
   "outputs": [
    {
     "output_type": "execute_result",
     "data": {
      "text/plain": [
       "    arcface  arcface_min2  arcface_inb\n",
       "0  0.811245      0.818108     0.820792\n",
       "1  0.812737      0.820426     0.822845\n",
       "2  0.811340      0.816019     0.819713\n",
       "3  0.809697      0.817934     0.821771"
      ],
      "text/html": "<div>\n<style scoped>\n    .dataframe tbody tr th:only-of-type {\n        vertical-align: middle;\n    }\n\n    .dataframe tbody tr th {\n        vertical-align: top;\n    }\n\n    .dataframe thead th {\n        text-align: right;\n    }\n</style>\n<table border=\"1\" class=\"dataframe\">\n  <thead>\n    <tr style=\"text-align: right;\">\n      <th></th>\n      <th>arcface</th>\n      <th>arcface_min2</th>\n      <th>arcface_inb</th>\n    </tr>\n  </thead>\n  <tbody>\n    <tr>\n      <th>0</th>\n      <td>0.811245</td>\n      <td>0.818108</td>\n      <td>0.820792</td>\n    </tr>\n    <tr>\n      <th>1</th>\n      <td>0.812737</td>\n      <td>0.820426</td>\n      <td>0.822845</td>\n    </tr>\n    <tr>\n      <th>2</th>\n      <td>0.811340</td>\n      <td>0.816019</td>\n      <td>0.819713</td>\n    </tr>\n    <tr>\n      <th>3</th>\n      <td>0.809697</td>\n      <td>0.817934</td>\n      <td>0.821771</td>\n    </tr>\n  </tbody>\n</table>\n</div>"
     },
     "metadata": {},
     "execution_count": 9
    }
   ],
   "source": [
    "test_bert_result_dict['bert-base-indonesian-1.5G_f1']"
   ]
  },
  {
   "cell_type": "code",
   "execution_count": 10,
   "metadata": {},
   "outputs": [
    {
     "output_type": "execute_result",
     "data": {
      "text/plain": [
       "arcface         1\n",
       "arcface_min2    1\n",
       "arcface_inb     1\n",
       "dtype: int64"
      ]
     },
     "metadata": {},
     "execution_count": 10
    }
   ],
   "source": [
    "test_bert_result_dict['bert-base-indonesian-1.5G_f1'].idxmax()"
   ]
  },
  {
   "cell_type": "code",
   "execution_count": 11,
   "metadata": {},
   "outputs": [
    {
     "output_type": "execute_result",
     "data": {
      "text/plain": [
       "    arcface  arcface_min2  arcface_inb\n",
       "0  0.808610      0.812398     0.816363\n",
       "1  0.808627      0.813436     0.814599\n",
       "2  0.807535      0.811626     0.815952\n",
       "3  0.808174      0.809667     0.810856"
      ],
      "text/html": "<div>\n<style scoped>\n    .dataframe tbody tr th:only-of-type {\n        vertical-align: middle;\n    }\n\n    .dataframe tbody tr th {\n        vertical-align: top;\n    }\n\n    .dataframe thead th {\n        text-align: right;\n    }\n</style>\n<table border=\"1\" class=\"dataframe\">\n  <thead>\n    <tr style=\"text-align: right;\">\n      <th></th>\n      <th>arcface</th>\n      <th>arcface_min2</th>\n      <th>arcface_inb</th>\n    </tr>\n  </thead>\n  <tbody>\n    <tr>\n      <th>0</th>\n      <td>0.808610</td>\n      <td>0.812398</td>\n      <td>0.816363</td>\n    </tr>\n    <tr>\n      <th>1</th>\n      <td>0.808627</td>\n      <td>0.813436</td>\n      <td>0.814599</td>\n    </tr>\n    <tr>\n      <th>2</th>\n      <td>0.807535</td>\n      <td>0.811626</td>\n      <td>0.815952</td>\n    </tr>\n    <tr>\n      <th>3</th>\n      <td>0.808174</td>\n      <td>0.809667</td>\n      <td>0.810856</td>\n    </tr>\n  </tbody>\n</table>\n</div>"
     },
     "metadata": {},
     "execution_count": 11
    }
   ],
   "source": [
    "test_bert_result_dict['distilbert-base-indonesian_f1']"
   ]
  },
  {
   "cell_type": "code",
   "execution_count": 12,
   "metadata": {},
   "outputs": [
    {
     "output_type": "execute_result",
     "data": {
      "text/plain": [
       "arcface         1\n",
       "arcface_min2    1\n",
       "arcface_inb     0\n",
       "dtype: int64"
      ]
     },
     "metadata": {},
     "execution_count": 12
    }
   ],
   "source": [
    "test_bert_result_dict['distilbert-base-indonesian_f1'].idxmax()"
   ]
  },
  {
   "cell_type": "code",
   "execution_count": 13,
   "metadata": {},
   "outputs": [
    {
     "output_type": "execute_result",
     "data": {
      "text/plain": [
       "    arcface  arcface_min2  arcface_inb\n",
       "0  0.821014      0.825696     0.830669\n",
       "1  0.821026      0.827194     0.832225\n",
       "2  0.820298      0.829395     0.833378\n",
       "3  0.821114      0.828536     0.834545"
      ],
      "text/html": "<div>\n<style scoped>\n    .dataframe tbody tr th:only-of-type {\n        vertical-align: middle;\n    }\n\n    .dataframe tbody tr th {\n        vertical-align: top;\n    }\n\n    .dataframe thead th {\n        text-align: right;\n    }\n</style>\n<table border=\"1\" class=\"dataframe\">\n  <thead>\n    <tr style=\"text-align: right;\">\n      <th></th>\n      <th>arcface</th>\n      <th>arcface_min2</th>\n      <th>arcface_inb</th>\n    </tr>\n  </thead>\n  <tbody>\n    <tr>\n      <th>0</th>\n      <td>0.821014</td>\n      <td>0.825696</td>\n      <td>0.830669</td>\n    </tr>\n    <tr>\n      <th>1</th>\n      <td>0.821026</td>\n      <td>0.827194</td>\n      <td>0.832225</td>\n    </tr>\n    <tr>\n      <th>2</th>\n      <td>0.820298</td>\n      <td>0.829395</td>\n      <td>0.833378</td>\n    </tr>\n    <tr>\n      <th>3</th>\n      <td>0.821114</td>\n      <td>0.828536</td>\n      <td>0.834545</td>\n    </tr>\n  </tbody>\n</table>\n</div>"
     },
     "metadata": {},
     "execution_count": 13
    }
   ],
   "source": [
    "test_bert_result_dict['paraphrase-xlm-r-multilingual-v1_f1']"
   ]
  },
  {
   "cell_type": "code",
   "execution_count": 14,
   "metadata": {},
   "outputs": [
    {
     "output_type": "execute_result",
     "data": {
      "text/plain": [
       "arcface         3\n",
       "arcface_min2    2\n",
       "arcface_inb     3\n",
       "dtype: int64"
      ]
     },
     "metadata": {},
     "execution_count": 14
    }
   ],
   "source": [
    "test_bert_result_dict['paraphrase-xlm-r-multilingual-v1_f1'].idxmax()"
   ]
  },
  {
   "cell_type": "code",
   "execution_count": 15,
   "metadata": {},
   "outputs": [
    {
     "output_type": "execute_result",
     "data": {
      "text/plain": [
       "    arcface  arcface_min2  arcface_inb\n",
       "0  0.802274      0.808062     0.814276\n",
       "1  0.802462      0.806283     0.812416\n",
       "2  0.798875      0.803254     0.810062\n",
       "3  0.800600      0.807669     0.814366"
      ],
      "text/html": "<div>\n<style scoped>\n    .dataframe tbody tr th:only-of-type {\n        vertical-align: middle;\n    }\n\n    .dataframe tbody tr th {\n        vertical-align: top;\n    }\n\n    .dataframe thead th {\n        text-align: right;\n    }\n</style>\n<table border=\"1\" class=\"dataframe\">\n  <thead>\n    <tr style=\"text-align: right;\">\n      <th></th>\n      <th>arcface</th>\n      <th>arcface_min2</th>\n      <th>arcface_inb</th>\n    </tr>\n  </thead>\n  <tbody>\n    <tr>\n      <th>0</th>\n      <td>0.802274</td>\n      <td>0.808062</td>\n      <td>0.814276</td>\n    </tr>\n    <tr>\n      <th>1</th>\n      <td>0.802462</td>\n      <td>0.806283</td>\n      <td>0.812416</td>\n    </tr>\n    <tr>\n      <th>2</th>\n      <td>0.798875</td>\n      <td>0.803254</td>\n      <td>0.810062</td>\n    </tr>\n    <tr>\n      <th>3</th>\n      <td>0.800600</td>\n      <td>0.807669</td>\n      <td>0.814366</td>\n    </tr>\n  </tbody>\n</table>\n</div>"
     },
     "metadata": {},
     "execution_count": 15
    }
   ],
   "source": [
    "test_bert_result_dict['paraphrase-distilroberta-base-v1_f1']"
   ]
  },
  {
   "cell_type": "code",
   "execution_count": 19,
   "metadata": {},
   "outputs": [
    {
     "output_type": "execute_result",
     "data": {
      "text/plain": [
       "arcface         1\n",
       "arcface_min2    0\n",
       "arcface_inb     3\n",
       "dtype: int64"
      ]
     },
     "metadata": {},
     "execution_count": 19
    }
   ],
   "source": [
    "test_bert_result_dict['paraphrase-distilroberta-base-v1_f1'].idxmax()"
   ]
  },
  {
   "cell_type": "code",
   "execution_count": 18,
   "metadata": {},
   "outputs": [],
   "source": [
    "pd_min2_idx = test_bert_result_dict['paraphrase-distilroberta-base-v1_f1'].arcface_min2.idxmax()"
   ]
  },
  {
   "cell_type": "code",
   "execution_count": null,
   "metadata": {},
   "outputs": [],
   "source": []
  }
 ]
}
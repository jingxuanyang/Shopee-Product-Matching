{
 "cells": [
  {
   "cell_type": "markdown",
   "id": "alternative-mistake",
   "metadata": {
    "papermill": {
     "duration": 0.017321,
     "end_time": "2021-05-18T12:05:42.024023",
     "exception": false,
     "start_time": "2021-05-18T12:05:42.006702",
     "status": "completed"
    },
    "tags": []
   },
   "source": [
    "# Shopee Training paraphrase-distilroberta-base-v1"
   ]
  },
  {
   "cell_type": "code",
   "execution_count": 1,
   "id": "incorrect-charm",
   "metadata": {
    "execution": {
     "iopub.execute_input": "2021-05-18T12:05:42.067760Z",
     "iopub.status.busy": "2021-05-18T12:05:42.067008Z",
     "iopub.status.idle": "2021-05-18T12:05:42.071382Z",
     "shell.execute_reply": "2021-05-18T12:05:42.071816Z"
    },
    "papermill": {
     "duration": 0.031769,
     "end_time": "2021-05-18T12:05:42.072059",
     "exception": false,
     "start_time": "2021-05-18T12:05:42.040290",
     "status": "completed"
    },
    "tags": []
   },
   "outputs": [
    {
     "name": "stdout",
     "output_type": "stream",
     "text": [
      "2021-05-18 12:05:42.065765\n"
     ]
    }
   ],
   "source": [
    "import sys\n",
    "import time\n",
    "import datetime\n",
    "start_time = time.time()\n",
    "print(datetime.datetime.now())"
   ]
  },
  {
   "cell_type": "code",
   "execution_count": 2,
   "id": "searching-aruba",
   "metadata": {
    "execution": {
     "iopub.execute_input": "2021-05-18T12:05:42.111025Z",
     "iopub.status.busy": "2021-05-18T12:05:42.110388Z",
     "iopub.status.idle": "2021-05-18T12:05:44.680134Z",
     "shell.execute_reply": "2021-05-18T12:05:44.679662Z"
    },
    "papermill": {
     "duration": 2.591088,
     "end_time": "2021-05-18T12:05:44.680280",
     "exception": false,
     "start_time": "2021-05-18T12:05:42.089192",
     "status": "completed"
    },
    "tags": []
   },
   "outputs": [],
   "source": [
    "import os\n",
    "import gc\n",
    "import math\n",
    "import random\n",
    "from tqdm import tqdm\n",
    "import numpy as np\n",
    "import pandas as pd\n",
    "from sklearn.preprocessing import LabelEncoder\n",
    "from sklearn.model_selection import GroupKFold\n",
    "from sklearn.neighbors import NearestNeighbors\n",
    "\n",
    "import torch\n",
    "from torch import nn \n",
    "import torch.nn.functional as F \n",
    "from transformers import AutoTokenizer, AutoModel\n",
    "\n",
    "import warnings\n",
    "warnings.filterwarnings('ignore')"
   ]
  },
  {
   "cell_type": "code",
   "execution_count": 3,
   "id": "neutral-scenario",
   "metadata": {
    "execution": {
     "iopub.execute_input": "2021-05-18T12:05:44.775573Z",
     "iopub.status.busy": "2021-05-18T12:05:44.774857Z",
     "iopub.status.idle": "2021-05-18T12:05:44.778234Z",
     "shell.execute_reply": "2021-05-18T12:05:44.778692Z"
    },
    "papermill": {
     "duration": 0.081535,
     "end_time": "2021-05-18T12:05:44.778831",
     "exception": false,
     "start_time": "2021-05-18T12:05:44.697296",
     "status": "completed"
    },
    "tags": []
   },
   "outputs": [
    {
     "name": "stdout",
     "output_type": "stream",
     "text": [
      "cuda:0\n"
     ]
    }
   ],
   "source": [
    "TRAIN_CSV = '../input/shopee-product-matching/train.csv'\n",
    "\n",
    "class CFG:\n",
    "    \n",
    "    compute_cv = True  # set False to train model for submission\n",
    "\n",
    "    ### BERT\n",
    "#     bert_model_name = '../input/bertmodel/paraphrase-xlm-r-multilingual-v1'\n",
    "#     bert_model_name = '../input/bertmodel/distilbert-base-indonesian'\n",
    "#     bert_model_name = '../input/bertmodel/roberta-base' # very bad performance\n",
    "    bert_model_name = '../input/bertmodel/paraphrase-distilroberta-base-v1'\n",
    "#     bert_model_name = '../input/bert-model-pretrained/bert-base-multilingual-uncased/bert-base-multilingual-uncased'\n",
    "\n",
    "    max_length = 128\n",
    "\n",
    "    ### ArcFace\n",
    "    scale = 30\n",
    "    margin = 0.8\n",
    "    fc_dim = 768\n",
    "    seed = 412\n",
    "    classes = 11014\n",
    "    \n",
    "    # groupkfold\n",
    "    N_SPLITS = 5\n",
    "    TEST_FOLD = 0\n",
    "    VALID_FOLD = 1\n",
    "    \n",
    "    ### Training\n",
    "    batch_size = 16\n",
    "    accum_iter = 1  # 1 if use_sam = True\n",
    "    epochs = 8\n",
    "    min_save_epoch = epochs // 3\n",
    "    use_sam = True  # SAM (Sharpness-Aware Minimization for Efficiently Improving Generalization)\n",
    "    use_amp = True  # Automatic Mixed Precision\n",
    "    num_workers = 2  # On Windows, set 0 or export train_fn and TitleDataset as .py files for faster training.\n",
    "    device = torch.device('cuda:0' if torch.cuda.is_available() else 'cpu')\n",
    "    print(device)\n",
    "    \n",
    "    ### NearestNeighbors\n",
    "    bert_knn = 50\n",
    "    bert_knn_threshold = 0.4  # Cosine distance threshold\n",
    "    \n",
    "    ### GradualWarmupSchedulerV2（lr_start -> lr_max -> lr_min）\n",
    "    scheduler_params = {\n",
    "        \"lr_start\": 7.5e-6,\n",
    "        \"lr_max\": 1e-4,\n",
    "        \"lr_min\": 2.74e-5, # 1.5e-5,\n",
    "    }\n",
    "    multiplier = scheduler_params['lr_max'] / scheduler_params['lr_start']\n",
    "    eta_min = scheduler_params['lr_min']  # last minimum learning rate\n",
    "    freeze_epo = 0\n",
    "    warmup_epo = 2\n",
    "    cosine_epo = epochs - freeze_epo - warmup_epo\n",
    "    \n",
    "    ### save_model_path\n",
    "    save_model_path = f\"./{bert_model_name.rsplit('/', 1)[-1]}_epoch{epochs}-bs{batch_size}x{accum_iter}.pt\""
   ]
  },
  {
   "cell_type": "code",
   "execution_count": 4,
   "id": "conservative-performance",
   "metadata": {
    "execution": {
     "iopub.execute_input": "2021-05-18T12:05:44.818636Z",
     "iopub.status.busy": "2021-05-18T12:05:44.818001Z",
     "iopub.status.idle": "2021-05-18T12:05:44.823710Z",
     "shell.execute_reply": "2021-05-18T12:05:44.823295Z"
    },
    "papermill": {
     "duration": 0.027689,
     "end_time": "2021-05-18T12:05:44.823820",
     "exception": false,
     "start_time": "2021-05-18T12:05:44.796131",
     "status": "completed"
    },
    "tags": []
   },
   "outputs": [],
   "source": [
    "def seed_everything(seed):\n",
    "    random.seed(seed)\n",
    "    os.environ['PYTHONHASHSEED'] = str(seed)\n",
    "    np.random.seed(seed)\n",
    "    torch.manual_seed(seed)\n",
    "    torch.cuda.manual_seed(seed)\n",
    "    torch.backends.cudnn.deterministic = True\n",
    "    torch.backends.cudnn.benchmark = True # set True to be faster\n",
    "\n",
    "seed_everything(CFG.seed)"
   ]
  },
  {
   "cell_type": "markdown",
   "id": "binding-format",
   "metadata": {
    "papermill": {
     "duration": 0.01707,
     "end_time": "2021-05-18T12:05:44.857906",
     "exception": false,
     "start_time": "2021-05-18T12:05:44.840836",
     "status": "completed"
    },
    "tags": []
   },
   "source": [
    "# Classes and Functions"
   ]
  },
  {
   "cell_type": "code",
   "execution_count": 5,
   "id": "accessible-option",
   "metadata": {
    "execution": {
     "iopub.execute_input": "2021-05-18T12:05:44.905294Z",
     "iopub.status.busy": "2021-05-18T12:05:44.904576Z",
     "iopub.status.idle": "2021-05-18T12:05:44.907057Z",
     "shell.execute_reply": "2021-05-18T12:05:44.907484Z"
    },
    "papermill": {
     "duration": 0.032649,
     "end_time": "2021-05-18T12:05:44.907710",
     "exception": false,
     "start_time": "2021-05-18T12:05:44.875061",
     "status": "completed"
    },
    "tags": []
   },
   "outputs": [],
   "source": [
    "### Dataset\n",
    "\n",
    "class TitleDataset(torch.utils.data.Dataset):\n",
    "    def __init__(self, df, text_column, label_column):\n",
    "        texts = df[text_column]\n",
    "        self.labels = df[label_column].values\n",
    "        \n",
    "        self.titles = []\n",
    "        for title in texts:\n",
    "            title = title.encode('utf-8').decode(\"unicode_escape\")\n",
    "            title = title.encode('ascii', 'ignore').decode(\"unicode_escape\")\n",
    "            title = title.lower()\n",
    "            self.titles.append(title)\n",
    "\n",
    "    def __len__(self):\n",
    "        return len(self.titles)\n",
    "\n",
    "    def __getitem__(self, idx):\n",
    "        text = self.titles[idx]\n",
    "        label = torch.tensor(self.labels[idx])\n",
    "        return text, label"
   ]
  },
  {
   "cell_type": "code",
   "execution_count": 6,
   "id": "suitable-toolbox",
   "metadata": {
    "execution": {
     "iopub.execute_input": "2021-05-18T12:05:44.956400Z",
     "iopub.status.busy": "2021-05-18T12:05:44.951193Z",
     "iopub.status.idle": "2021-05-18T12:05:44.958542Z",
     "shell.execute_reply": "2021-05-18T12:05:44.958941Z"
    },
    "papermill": {
     "duration": 0.033385,
     "end_time": "2021-05-18T12:05:44.959062",
     "exception": false,
     "start_time": "2021-05-18T12:05:44.925677",
     "status": "completed"
    },
    "tags": []
   },
   "outputs": [],
   "source": [
    "### SAM Optimizer 2020/1/16\n",
    "# https://github.com/davda54/sam/blob/main/sam.py\n",
    "\n",
    "class SAM(torch.optim.Optimizer):\n",
    "    def __init__(self, params, base_optimizer, rho=0.05, **kwargs):\n",
    "        assert rho >= 0.0, f\"Invalid rho, should be non-negative: {rho}\"\n",
    "\n",
    "        defaults = dict(rho=rho, **kwargs)\n",
    "        super(SAM, self).__init__(params, defaults)\n",
    "\n",
    "        self.base_optimizer = base_optimizer(self.param_groups, **kwargs)\n",
    "        self.param_groups = self.base_optimizer.param_groups\n",
    "\n",
    "    @torch.no_grad()\n",
    "    def first_step(self, zero_grad=False):\n",
    "        grad_norm = self._grad_norm()\n",
    "        for group in self.param_groups:\n",
    "            scale = group[\"rho\"] / (grad_norm + 1e-12)\n",
    "\n",
    "            for p in group[\"params\"]:\n",
    "                if p.grad is None: continue\n",
    "                e_w = p.grad * scale.to(p)\n",
    "                p.add_(e_w)  # climb to the local maximum \"w + e(w)\"\n",
    "                self.state[p][\"e_w\"] = e_w\n",
    "\n",
    "        if zero_grad: self.zero_grad()\n",
    "\n",
    "    @torch.no_grad()\n",
    "    def second_step(self, zero_grad=False):\n",
    "        for group in self.param_groups:\n",
    "            for p in group[\"params\"]:\n",
    "                if p.grad is None: continue\n",
    "                p.sub_(self.state[p][\"e_w\"])  # get back to \"w\" from \"w + e(w)\"\n",
    "\n",
    "        self.base_optimizer.step()  # do the actual \"sharpness-aware\" update\n",
    "\n",
    "        if zero_grad: self.zero_grad()\n",
    "\n",
    "    @torch.no_grad()\n",
    "    def step(self, closure=None):\n",
    "        assert closure is not None, \"Sharpness Aware Minimization requires closure, but it was not provided\"\n",
    "        closure = torch.enable_grad()(closure)  # the closure should do a full forward-backward pass\n",
    "\n",
    "        self.first_step(zero_grad=True)\n",
    "        closure()\n",
    "        self.second_step()\n",
    "\n",
    "    def _grad_norm(self):\n",
    "        shared_device = self.param_groups[0][\"params\"][0].device  # put everything on the same device, in case of model parallelism\n",
    "        norm = torch.norm(\n",
    "                    torch.stack([\n",
    "                        p.grad.norm(p=2).to(shared_device)\n",
    "                        for group in self.param_groups for p in group[\"params\"]\n",
    "                        if p.grad is not None\n",
    "                    ]),\n",
    "                    p=2\n",
    "               )\n",
    "        return norm"
   ]
  },
  {
   "cell_type": "code",
   "execution_count": 7,
   "id": "governing-wealth",
   "metadata": {
    "execution": {
     "iopub.execute_input": "2021-05-18T12:05:45.008362Z",
     "iopub.status.busy": "2021-05-18T12:05:45.007670Z",
     "iopub.status.idle": "2021-05-18T12:05:45.009995Z",
     "shell.execute_reply": "2021-05-18T12:05:45.010371Z"
    },
    "papermill": {
     "duration": 0.033403,
     "end_time": "2021-05-18T12:05:45.010497",
     "exception": false,
     "start_time": "2021-05-18T12:05:44.977094",
     "status": "completed"
    },
    "tags": []
   },
   "outputs": [],
   "source": [
    "### GradualWarmupScheduler\n",
    "# https://github.com/ildoonet/pytorch-gradual-warmup-lr\n",
    "\n",
    "from torch.optim.lr_scheduler import _LRScheduler\n",
    "from torch.optim.lr_scheduler import ReduceLROnPlateau\n",
    "\n",
    "\n",
    "class GradualWarmupScheduler(_LRScheduler):\n",
    "    \"\"\" Gradually warm-up(increasing) learning rate in optimizer.\n",
    "    Proposed in 'Accurate, Large Minibatch SGD: Training ImageNet in 1 Hour'.\n",
    "    Args:\n",
    "        optimizer (Optimizer): Wrapped optimizer.\n",
    "        multiplier: target learning rate = base lr * multiplier if multiplier > 1.0. if multiplier = 1.0, lr starts from 0 and ends up with the base_lr.\n",
    "        total_epoch: target learning rate is reached at total_epoch, gradually\n",
    "        after_scheduler: after target_epoch, use this scheduler(eg. ReduceLROnPlateau)\n",
    "    \"\"\"\n",
    "\n",
    "    def __init__(self, optimizer, multiplier, total_epoch, after_scheduler=None):\n",
    "        self.multiplier = multiplier\n",
    "        if self.multiplier < 1.:\n",
    "            raise ValueError('multiplier should be greater thant or equal to 1.')\n",
    "        self.total_epoch = total_epoch\n",
    "        self.after_scheduler = after_scheduler\n",
    "        self.finished = False\n",
    "        super(GradualWarmupScheduler, self).__init__(optimizer)\n",
    "\n",
    "    def get_lr(self):\n",
    "        if self.last_epoch > self.total_epoch:\n",
    "            if self.after_scheduler:\n",
    "                if not self.finished:\n",
    "                    self.after_scheduler.base_lrs = [base_lr * self.multiplier for base_lr in self.base_lrs]\n",
    "                    self.finished = True\n",
    "                return self.after_scheduler.get_last_lr()\n",
    "            return [base_lr * self.multiplier for base_lr in self.base_lrs]\n",
    "\n",
    "        if self.multiplier == 1.0:\n",
    "            return [base_lr * (float(self.last_epoch) / self.total_epoch) for base_lr in self.base_lrs]\n",
    "        else:\n",
    "            return [base_lr * ((self.multiplier - 1.) * self.last_epoch / self.total_epoch + 1.) for base_lr in self.base_lrs]\n",
    "\n",
    "    def step_ReduceLROnPlateau(self, metrics, epoch=None):\n",
    "        if epoch is None:\n",
    "            epoch = self.last_epoch + 1\n",
    "        self.last_epoch = epoch if epoch != 0 else 1  # ReduceLROnPlateau is called at the end of epoch, whereas others are called at beginning\n",
    "        if self.last_epoch <= self.total_epoch:\n",
    "            warmup_lr = [base_lr * ((self.multiplier - 1.) * self.last_epoch / self.total_epoch + 1.) for base_lr in self.base_lrs]\n",
    "            for param_group, lr in zip(self.optimizer.param_groups, warmup_lr):\n",
    "                param_group['lr'] = lr\n",
    "        else:\n",
    "            if epoch is None:\n",
    "                self.after_scheduler.step(metrics, None)\n",
    "            else:\n",
    "                self.after_scheduler.step(metrics, epoch - self.total_epoch)\n",
    "\n",
    "    def step(self, epoch=None, metrics=None):\n",
    "        if type(self.after_scheduler) != ReduceLROnPlateau:\n",
    "            if self.finished and self.after_scheduler:\n",
    "                if epoch is None:\n",
    "                    self.after_scheduler.step(None)\n",
    "                else:\n",
    "                    self.after_scheduler.step(epoch - self.total_epoch)\n",
    "                self._last_lr = self.after_scheduler.get_last_lr()\n",
    "            else:\n",
    "                return super(GradualWarmupScheduler, self).step(epoch)\n",
    "        else:\n",
    "            self.step_ReduceLROnPlateau(metrics, epoch)"
   ]
  },
  {
   "cell_type": "code",
   "execution_count": 8,
   "id": "different-violin",
   "metadata": {
    "execution": {
     "iopub.execute_input": "2021-05-18T12:05:45.052506Z",
     "iopub.status.busy": "2021-05-18T12:05:45.051676Z",
     "iopub.status.idle": "2021-05-18T12:05:45.054351Z",
     "shell.execute_reply": "2021-05-18T12:05:45.053955Z"
    },
    "papermill": {
     "duration": 0.02664,
     "end_time": "2021-05-18T12:05:45.054455",
     "exception": false,
     "start_time": "2021-05-18T12:05:45.027815",
     "status": "completed"
    },
    "tags": []
   },
   "outputs": [],
   "source": [
    "### GradualWarmupSchedulerV2\n",
    "\n",
    "class GradualWarmupSchedulerV2(GradualWarmupScheduler):\n",
    "    def __init__(self, optimizer, multiplier, total_epoch, after_scheduler=None):\n",
    "        super(GradualWarmupSchedulerV2, self).__init__(optimizer, multiplier, total_epoch, after_scheduler)\n",
    "    def get_lr(self):\n",
    "        if self.last_epoch > self.total_epoch:\n",
    "            if self.after_scheduler:\n",
    "                if not self.finished:\n",
    "                    self.after_scheduler.base_lrs = [base_lr * self.multiplier for base_lr in self.base_lrs]\n",
    "                    self.finished = True\n",
    "                return self.after_scheduler.get_lr()\n",
    "            return [base_lr * self.multiplier for base_lr in self.base_lrs]\n",
    "        if self.multiplier == 1.0:\n",
    "            return [base_lr * (float(self.last_epoch) / self.total_epoch) for base_lr in self.base_lrs]\n",
    "        else:\n",
    "            return [base_lr * ((self.multiplier - 1.) * self.last_epoch / self.total_epoch + 1.) for base_lr in self.base_lrs]"
   ]
  },
  {
   "cell_type": "code",
   "execution_count": 9,
   "id": "exotic-danger",
   "metadata": {
    "execution": {
     "iopub.execute_input": "2021-05-18T12:05:45.102424Z",
     "iopub.status.busy": "2021-05-18T12:05:45.101524Z",
     "iopub.status.idle": "2021-05-18T12:05:45.103908Z",
     "shell.execute_reply": "2021-05-18T12:05:45.104328Z"
    },
    "papermill": {
     "duration": 0.032663,
     "end_time": "2021-05-18T12:05:45.104450",
     "exception": false,
     "start_time": "2021-05-18T12:05:45.071787",
     "status": "completed"
    },
    "tags": []
   },
   "outputs": [],
   "source": [
    "### Train one epoch\n",
    "\n",
    "def train_fn(model, data_loader, optimizer, scheduler, use_sam, accum_iter, epoch, device, use_amp):\n",
    "    model.train()\n",
    "    if use_amp:\n",
    "        scaler = torch.cuda.amp.GradScaler()\n",
    "    fin_loss = 0.0\n",
    "    tk = tqdm(data_loader, desc = \"Training epoch: \" + str(epoch+1), ncols=100)\n",
    "\n",
    "    for t, (texts, labels) in enumerate(tk):\n",
    "        texts = list(texts)\n",
    "\n",
    "        if use_sam:\n",
    "            if use_amp:\n",
    "                with torch.cuda.amp.autocast():\n",
    "                    _, loss = model(texts, labels)\n",
    "                loss.mean().backward()\n",
    "                optimizer.first_step(zero_grad=True)\n",
    "                fin_loss += loss.item() \n",
    "                with torch.cuda.amp.autocast():\n",
    "                     _, loss_second = model(texts, labels)\n",
    "                loss_second.mean().backward()\n",
    "                optimizer.second_step(zero_grad=True)\n",
    "                optimizer.zero_grad()\n",
    "            else:\n",
    "                _, loss = model(texts, labels)\n",
    "                loss.mean().backward()\n",
    "                optimizer.first_step(zero_grad=True)\n",
    "                fin_loss += loss.item() \n",
    "                _, loss_second = model(texts, labels)\n",
    "                loss_second.mean().backward()\n",
    "                optimizer.second_step(zero_grad=True)\n",
    "                optimizer.zero_grad()\n",
    "\n",
    "        else:  # if use_sam == False\n",
    "            if use_amp:\n",
    "                with torch.cuda.amp.autocast():\n",
    "                    _, loss = model(texts, labels)\n",
    "                scaler.scale(loss).backward()\n",
    "                fin_loss += loss.item() \n",
    "                # mini-batch accumulation\n",
    "                if (t + 1) % accum_iter == 0:\n",
    "                    scaler.step(optimizer)\n",
    "                    scaler.update()\n",
    "                    optimizer.zero_grad()\n",
    "            else:\n",
    "                _, loss = model(texts, labels)\n",
    "                loss.backward()\n",
    "                fin_loss += loss.item() \n",
    "                # mini-batch accumulation\n",
    "                if (t + 1) % accum_iter == 0:\n",
    "                    optimizer.step() \n",
    "                    optimizer.zero_grad()\n",
    "                \n",
    "        tk.set_postfix({'loss' : '%.6f' %float(fin_loss/(t+1)), 'LR' : optimizer.param_groups[0]['lr']})\n",
    "\n",
    "    scheduler.step()\n",
    "    return model, fin_loss / len(data_loader)"
   ]
  },
  {
   "cell_type": "code",
   "execution_count": 10,
   "id": "attended-desperate",
   "metadata": {
    "execution": {
     "iopub.execute_input": "2021-05-18T12:05:45.152529Z",
     "iopub.status.busy": "2021-05-18T12:05:45.151611Z",
     "iopub.status.idle": "2021-05-18T12:05:45.153803Z",
     "shell.execute_reply": "2021-05-18T12:05:45.154231Z"
    },
    "papermill": {
     "duration": 0.032129,
     "end_time": "2021-05-18T12:05:45.154372",
     "exception": false,
     "start_time": "2021-05-18T12:05:45.122243",
     "status": "completed"
    },
    "tags": []
   },
   "outputs": [],
   "source": [
    "### Validation\n",
    "\n",
    "def getMetric(col):\n",
    "    def f1score(row):\n",
    "        n = len(np.intersect1d(row.target, row[col]))\n",
    "        return 2 * n / (len(row.target) + len(row[col]))\n",
    "    return f1score\n",
    "\n",
    "\n",
    "def get_bert_embeddings(df, column, model, chunk=32):\n",
    "    model.eval()\n",
    "    \n",
    "    bert_embeddings = torch.zeros((df.shape[0], 768)).to(CFG.device)\n",
    "    for i in tqdm(list(range(0, df.shape[0], chunk)) + [df.shape[0]-chunk], desc=\"get_bert_embeddings\", ncols=80):\n",
    "        titles = []\n",
    "        for title in df[column][i : i + chunk].values:\n",
    "            try:\n",
    "                title = title.encode('utf-8').decode(\"unicode_escape\")\n",
    "                title = title.encode('ascii', 'ignore').decode(\"unicode_escape\")\n",
    "            except:\n",
    "                pass\n",
    "            #title = text_punctuation(title)\n",
    "            title = title.lower()\n",
    "            titles.append(title)\n",
    "            \n",
    "        with torch.no_grad():\n",
    "            if CFG.use_amp:\n",
    "                with torch.cuda.amp.autocast():\n",
    "                    model_output = model(titles)\n",
    "            else:\n",
    "                model_output = model(titles)\n",
    "            \n",
    "        bert_embeddings[i : i + chunk] = model_output\n",
    "    \n",
    "    del model, titles, model_output\n",
    "    gc.collect()\n",
    "    torch.cuda.empty_cache()\n",
    "    \n",
    "    return bert_embeddings\n",
    "\n",
    "\n",
    "def get_neighbors(df, embeddings, knn=50, threshold=0.0):\n",
    "\n",
    "    model = NearestNeighbors(n_neighbors=knn, metric='cosine')\n",
    "    model.fit(embeddings)\n",
    "    distances, indices = model.kneighbors(embeddings)\n",
    "    \n",
    "    preds = []\n",
    "    for k in range(embeddings.shape[0]):\n",
    "        idx = np.where(distances[k,] < threshold)[0]\n",
    "        ids = indices[k,idx]\n",
    "        posting_ids = df['posting_id'].iloc[ids].values\n",
    "        preds.append(posting_ids)\n",
    "        \n",
    "    del model, distances, indices\n",
    "    gc.collect()\n",
    "    return preds"
   ]
  },
  {
   "cell_type": "code",
   "execution_count": 11,
   "id": "owned-pursuit",
   "metadata": {
    "execution": {
     "iopub.execute_input": "2021-05-18T12:05:45.202300Z",
     "iopub.status.busy": "2021-05-18T12:05:45.201418Z",
     "iopub.status.idle": "2021-05-18T12:05:45.204126Z",
     "shell.execute_reply": "2021-05-18T12:05:45.203738Z"
    },
    "papermill": {
     "duration": 0.032322,
     "end_time": "2021-05-18T12:05:45.204229",
     "exception": false,
     "start_time": "2021-05-18T12:05:45.171907",
     "status": "completed"
    },
    "tags": []
   },
   "outputs": [],
   "source": [
    "### ArcFace\n",
    "class ArcMarginProduct(nn.Module):\n",
    "    def __init__(self, in_features, out_features, scale=30.0, margin=0.50, easy_margin=False, ls_eps=0.0):\n",
    "        super(ArcMarginProduct, self).__init__()\n",
    "        self.in_features = in_features\n",
    "        self.out_features = out_features\n",
    "        self.scale = scale\n",
    "        self.margin = margin\n",
    "        self.ls_eps = ls_eps  # label smoothing\n",
    "        self.weight = nn.Parameter(torch.FloatTensor(out_features, in_features))\n",
    "        nn.init.xavier_uniform_(self.weight)\n",
    "\n",
    "        self.easy_margin = easy_margin\n",
    "        self.cos_m = math.cos(margin)\n",
    "        self.sin_m = math.sin(margin)\n",
    "        self.th = math.cos(math.pi - margin)\n",
    "        self.mm = math.sin(math.pi - margin) * margin\n",
    "        \n",
    "        self.criterion = nn.CrossEntropyLoss()\n",
    "                \n",
    "    def forward(self, input, label):\n",
    "        # --------------------------- cos(theta) & phi(theta) ---------------------------\n",
    "        if CFG.use_amp:\n",
    "            cosine = F.linear(F.normalize(input), F.normalize(self.weight)).float()  # if CFG.use_amp\n",
    "        else:\n",
    "            cosine = F.linear(F.normalize(input), F.normalize(self.weight))\n",
    "        sine = torch.sqrt(1.0 - torch.pow(cosine, 2))\n",
    "        phi = cosine * self.cos_m - sine * self.sin_m\n",
    "        if self.easy_margin:\n",
    "            phi = torch.where(cosine > 0, phi, cosine)\n",
    "        else:\n",
    "            phi = torch.where(cosine > self.th, phi, cosine - self.mm)\n",
    "        # --------------------------- convert label to one-hot ---------------------------\n",
    "        one_hot = torch.zeros(cosine.size(), device=CFG.device)\n",
    "        one_hot.scatter_(1, label.view(-1, 1).long(), 1)\n",
    "        if self.ls_eps > 0:\n",
    "            one_hot = (1 - self.ls_eps) * one_hot + self.ls_eps / self.out_features\n",
    "\n",
    "        output = (one_hot * phi) + ((1.0 - one_hot) * cosine)\n",
    "        output *= self.scale\n",
    "        return output, self.criterion(output,label)"
   ]
  },
  {
   "cell_type": "code",
   "execution_count": 12,
   "id": "underlying-cambodia",
   "metadata": {
    "execution": {
     "iopub.execute_input": "2021-05-18T12:05:45.256009Z",
     "iopub.status.busy": "2021-05-18T12:05:45.255341Z",
     "iopub.status.idle": "2021-05-18T12:05:45.260845Z",
     "shell.execute_reply": "2021-05-18T12:05:45.261259Z"
    },
    "papermill": {
     "duration": 0.039351,
     "end_time": "2021-05-18T12:05:45.261396",
     "exception": false,
     "start_time": "2021-05-18T12:05:45.222045",
     "status": "completed"
    },
    "tags": []
   },
   "outputs": [],
   "source": [
    "### BERT\n",
    "\n",
    "# Mean Pooling - Take attention mask into account for correct averaging\n",
    "def mean_pooling(model_output, attention_mask):\n",
    "    token_embeddings = model_output[0]  # First element of model_output contains all token embeddings\n",
    "    input_mask_expanded = attention_mask.unsqueeze(-1).expand(token_embeddings.size()).float()\n",
    "    sum_embeddings = torch.sum(token_embeddings * input_mask_expanded, 1)\n",
    "    sum_mask = torch.clamp(input_mask_expanded.sum(1), min=1e-9)\n",
    "    return sum_embeddings / sum_mask\n",
    "\n",
    "\n",
    "class ShopeeBertModel(nn.Module):\n",
    "\n",
    "    def __init__(\n",
    "        self,\n",
    "        n_classes = CFG.classes,\n",
    "        model_name = CFG.bert_model_name,\n",
    "        fc_dim = CFG.fc_dim,\n",
    "        margin = CFG.margin,\n",
    "        scale = CFG.scale,\n",
    "        use_fc = True\n",
    "    ):\n",
    "\n",
    "        super(ShopeeBertModel,self).__init__()\n",
    "        print('Building Model Backbone for {} model'.format(model_name))\n",
    "\n",
    "        self.tokenizer = AutoTokenizer.from_pretrained(model_name)\n",
    "        self.backbone = AutoModel.from_pretrained(model_name).to(CFG.device)\n",
    "\n",
    "        in_features = 768\n",
    "        self.use_fc = use_fc\n",
    "        \n",
    "        if use_fc:\n",
    "            self.dropout = nn.Dropout(p=0.0)\n",
    "            self.classifier = nn.Linear(in_features, fc_dim)\n",
    "            self.bn = nn.BatchNorm1d(fc_dim)\n",
    "            self._init_params()\n",
    "            in_features = fc_dim\n",
    "            \n",
    "        self.final = ArcMarginProduct(\n",
    "            in_features,\n",
    "            n_classes,\n",
    "            scale = scale,\n",
    "            margin = margin,\n",
    "            easy_margin = False,\n",
    "            ls_eps = 0.0\n",
    "        )\n",
    "\n",
    "    def _init_params(self):\n",
    "        nn.init.xavier_normal_(self.classifier.weight)\n",
    "        nn.init.constant_(self.classifier.bias, 0)\n",
    "        nn.init.constant_(self.bn.weight, 1)\n",
    "        nn.init.constant_(self.bn.bias, 0)\n",
    "\n",
    "    def forward(self, texts, labels=torch.tensor([0])):\n",
    "        features = self.extract_features(texts)\n",
    "        if self.training:\n",
    "            logits = self.final(features, labels.to(CFG.device))\n",
    "            return logits\n",
    "        else:\n",
    "            return features\n",
    "        \n",
    "    def extract_features(self, texts):\n",
    "        encoding = self.tokenizer(texts, padding=True, truncation=True,\n",
    "                             max_length=CFG.max_length, return_tensors='pt').to(CFG.device)\n",
    "        input_ids = encoding['input_ids']\n",
    "        attention_mask = encoding['attention_mask']\n",
    "        embedding = self.backbone(input_ids, attention_mask=attention_mask)\n",
    "        x = mean_pooling(embedding, attention_mask)\n",
    "        \n",
    "        if self.use_fc and self.training:\n",
    "            x = self.dropout(x)\n",
    "            x = self.classifier(x)\n",
    "            x = self.bn(x)\n",
    "        \n",
    "        return x"
   ]
  },
  {
   "cell_type": "markdown",
   "id": "continued-mediterranean",
   "metadata": {
    "papermill": {
     "duration": 0.018153,
     "end_time": "2021-05-18T12:05:45.298672",
     "exception": false,
     "start_time": "2021-05-18T12:05:45.280519",
     "status": "completed"
    },
    "tags": []
   },
   "source": [
    "# Setup"
   ]
  },
  {
   "cell_type": "code",
   "execution_count": 13,
   "id": "architectural-blank",
   "metadata": {
    "execution": {
     "iopub.execute_input": "2021-05-18T12:05:45.348786Z",
     "iopub.status.busy": "2021-05-18T12:05:45.348225Z",
     "iopub.status.idle": "2021-05-18T12:05:46.616979Z",
     "shell.execute_reply": "2021-05-18T12:05:46.617541Z"
    },
    "papermill": {
     "duration": 1.300866,
     "end_time": "2021-05-18T12:05:46.617736",
     "exception": false,
     "start_time": "2021-05-18T12:05:45.316870",
     "status": "completed"
    },
    "tags": []
   },
   "outputs": [
    {
     "name": "stdout",
     "output_type": "stream",
     "text": [
      "Compute CV = True\n",
      "train_df length = 20550\n",
      "train_df classes = 6609\n",
      "valid_df length = 6849\n",
      "valid_df classes = 2202\n",
      "test_df length = 6851\n",
      "test_df classes = 2203\n"
     ]
    }
   ],
   "source": [
    "### Create Dataloader\n",
    "\n",
    "print(\"Compute CV =\", CFG.compute_cv)\n",
    "\n",
    "df = pd.read_csv(TRAIN_CSV)\n",
    "df['target'] = df.label_group.map(df.groupby('label_group').posting_id.agg('unique').to_dict())\n",
    "\n",
    "labelencoder= LabelEncoder()\n",
    "df['label_group'] = labelencoder.fit_transform(df['label_group'])\n",
    "\n",
    "gkf = GroupKFold(n_splits=CFG.N_SPLITS)\n",
    "df['fold'] = -1\n",
    "for i, (train_idx, valid_idx) in enumerate(gkf.split(X=df, groups=df['label_group'])):\n",
    "    df.loc[valid_idx, 'fold'] = i\n",
    "\n",
    "train_df = df[df['fold']!=CFG.TEST_FOLD].reset_index(drop=True)\n",
    "train_df = train_df[train_df['fold']!=CFG.VALID_FOLD].reset_index(drop=True)\n",
    "valid_df = df[df['fold']==CFG.VALID_FOLD].reset_index(drop=True)\n",
    "test_df = df[df['fold']==CFG.TEST_FOLD].reset_index(drop=True)\n",
    "\n",
    "# force label_group to be integers from 0 to (n_class - 1)\n",
    "train_df['label_group'] = labelencoder.fit_transform(train_df['label_group'])\n",
    "\n",
    "print(\"train_df length =\", len(train_df))\n",
    "print(\"train_df classes =\", len(train_df['label_group'].unique()))\n",
    "print(\"valid_df length =\", len(valid_df))\n",
    "print(\"valid_df classes =\", len(valid_df['label_group'].unique()))\n",
    "print(\"test_df length =\", len(test_df))\n",
    "print(\"test_df classes =\", len(test_df['label_group'].unique()))\n",
    "\n",
    "train_dataset = TitleDataset(train_df, 'title', 'label_group')\n",
    "train_dataloader = torch.utils.data.DataLoader(\n",
    "    train_dataset,\n",
    "    batch_size = CFG.batch_size,\n",
    "    num_workers = CFG.num_workers,\n",
    "    pin_memory = True,\n",
    "    shuffle = True,\n",
    "    drop_last = True\n",
    ")\n",
    "\n",
    "valid_dataset = TitleDataset(valid_df, 'title', 'label_group')\n",
    "valid_dataloader = torch.utils.data.DataLoader(\n",
    "    valid_dataset,\n",
    "    batch_size = CFG.batch_size,\n",
    "    num_workers = CFG.num_workers,\n",
    "    pin_memory = True,\n",
    "    shuffle = False,\n",
    "    drop_last = False\n",
    ")\n",
    "\n",
    "test_dataset = TitleDataset(test_df, 'title', 'label_group')\n",
    "test_dataloader = torch.utils.data.DataLoader(\n",
    "    test_dataset,\n",
    "    batch_size = CFG.batch_size,\n",
    "    num_workers = CFG.num_workers,\n",
    "    pin_memory = True,\n",
    "    shuffle = False,\n",
    "    drop_last = False\n",
    ")"
   ]
  },
  {
   "cell_type": "code",
   "execution_count": 14,
   "id": "charitable-assault",
   "metadata": {
    "execution": {
     "iopub.execute_input": "2021-05-18T12:05:46.660294Z",
     "iopub.status.busy": "2021-05-18T12:05:46.659774Z",
     "iopub.status.idle": "2021-05-18T12:05:58.203216Z",
     "shell.execute_reply": "2021-05-18T12:05:58.202666Z"
    },
    "papermill": {
     "duration": 11.565445,
     "end_time": "2021-05-18T12:05:58.203383",
     "exception": false,
     "start_time": "2021-05-18T12:05:46.637938",
     "status": "completed"
    },
    "tags": []
   },
   "outputs": [
    {
     "name": "stdout",
     "output_type": "stream",
     "text": [
      "Building Model Backbone for ../input/bertmodel/paraphrase-distilroberta-base-v1 model\n"
     ]
    }
   ],
   "source": [
    "### Create Model\n",
    "\n",
    "model = ShopeeBertModel()\n",
    "model.to(CFG.device);"
   ]
  },
  {
   "cell_type": "code",
   "execution_count": 15,
   "id": "statutory-surfing",
   "metadata": {
    "execution": {
     "iopub.execute_input": "2021-05-18T12:05:58.251682Z",
     "iopub.status.busy": "2021-05-18T12:05:58.251075Z",
     "iopub.status.idle": "2021-05-18T12:06:02.535032Z",
     "shell.execute_reply": "2021-05-18T12:06:02.535636Z"
    },
    "papermill": {
     "duration": 4.312645,
     "end_time": "2021-05-18T12:06:02.535826",
     "exception": false,
     "start_time": "2021-05-18T12:05:58.223181",
     "status": "completed"
    },
    "tags": []
   },
   "outputs": [
    {
     "name": "stdout",
     "output_type": "stream",
     "text": [
      "lr_start\n",
      "------------------------------\n",
      "Parameter Group 0 : 7.5e-06\n",
      "Parameter Group 1 : 1.5e-05\n",
      "Parameter Group 2 : 1.5e-05\n",
      "Parameter Group 3 : 1.5e-05\n"
     ]
    }
   ],
   "source": [
    "### Create Optimizer\n",
    "\n",
    "optimizer_grouped_parameters = [\n",
    "    {'params': model.backbone.parameters(), 'lr': CFG.scheduler_params['lr_start']},\n",
    "    {'params': model.classifier.parameters(), 'lr': CFG.scheduler_params['lr_start'] * 2},\n",
    "    {'params': model.bn.parameters(), 'lr': CFG.scheduler_params['lr_start'] * 2},\n",
    "    {'params': model.final.parameters(), 'lr': CFG.scheduler_params['lr_start'] * 2},\n",
    "]\n",
    "\n",
    "if CFG.use_sam:\n",
    "    from transformers import AdamW\n",
    "    optimizer = AdamW\n",
    "    optimizer = SAM(optimizer_grouped_parameters, optimizer)\n",
    "\n",
    "else:\n",
    "    from transformers import AdamW\n",
    "    optimizer = AdamW(optimizer_grouped_parameters)\n",
    "\n",
    "print(\"lr_start\")\n",
    "print(\"-\" * 30)\n",
    "for i in range(len(optimizer.param_groups)):\n",
    "    print('Parameter Group ' + str(i) + ' :', optimizer.param_groups[i][\"lr\"])"
   ]
  },
  {
   "cell_type": "code",
   "execution_count": 16,
   "id": "christian-sweden",
   "metadata": {
    "execution": {
     "iopub.execute_input": "2021-05-18T12:06:02.581185Z",
     "iopub.status.busy": "2021-05-18T12:06:02.580438Z",
     "iopub.status.idle": "2021-05-18T12:06:02.583195Z",
     "shell.execute_reply": "2021-05-18T12:06:02.582729Z"
    },
    "papermill": {
     "duration": 0.026885,
     "end_time": "2021-05-18T12:06:02.583334",
     "exception": false,
     "start_time": "2021-05-18T12:06:02.556449",
     "status": "completed"
    },
    "tags": []
   },
   "outputs": [],
   "source": [
    "### Create Scheduler\n",
    "\n",
    "scheduler_cosine = torch.optim.lr_scheduler.CosineAnnealingLR(optimizer, T_max=CFG.cosine_epo-2, eta_min=CFG.eta_min, last_epoch=-1)\n",
    "scheduler = GradualWarmupSchedulerV2(optimizer, multiplier=CFG.multiplier, total_epoch=CFG.warmup_epo,\n",
    "                                     after_scheduler=scheduler_cosine)"
   ]
  },
  {
   "cell_type": "markdown",
   "id": "thick-holly",
   "metadata": {
    "papermill": {
     "duration": 0.019385,
     "end_time": "2021-05-18T12:06:02.622144",
     "exception": false,
     "start_time": "2021-05-18T12:06:02.602759",
     "status": "completed"
    },
    "tags": []
   },
   "source": [
    "# Training and Validation"
   ]
  },
  {
   "cell_type": "code",
   "execution_count": 17,
   "id": "thrown-bikini",
   "metadata": {
    "execution": {
     "iopub.execute_input": "2021-05-18T12:06:02.665917Z",
     "iopub.status.busy": "2021-05-18T12:06:02.665228Z",
     "iopub.status.idle": "2021-05-18T12:06:02.668587Z",
     "shell.execute_reply": "2021-05-18T12:06:02.669037Z"
    },
    "papermill": {
     "duration": 0.02752,
     "end_time": "2021-05-18T12:06:02.669162",
     "exception": false,
     "start_time": "2021-05-18T12:06:02.641642",
     "status": "completed"
    },
    "tags": []
   },
   "outputs": [
    {
     "name": "stdout",
     "output_type": "stream",
     "text": [
      "Training epochs = 8\n"
     ]
    }
   ],
   "source": [
    "print(\"Training epochs =\", CFG.epochs)"
   ]
  },
  {
   "cell_type": "code",
   "execution_count": 18,
   "id": "equipped-initial",
   "metadata": {
    "execution": {
     "iopub.execute_input": "2021-05-18T12:06:02.718141Z",
     "iopub.status.busy": "2021-05-18T12:06:02.717373Z",
     "iopub.status.idle": "2021-05-18T12:26:27.274580Z",
     "shell.execute_reply": "2021-05-18T12:26:27.274951Z"
    },
    "papermill": {
     "duration": 1224.585416,
     "end_time": "2021-05-18T12:26:27.275131",
     "exception": false,
     "start_time": "2021-05-18T12:06:02.689715",
     "status": "completed"
    },
    "tags": []
   },
   "outputs": [
    {
     "name": "stderr",
     "output_type": "stream",
     "text": [
      "Training epoch: 1: 100%|█████████████| 1284/1284 [02:23<00:00,  8.92it/s, loss=30.767563, LR=7.5e-6]\n",
      "get_bert_embeddings: 100%|████████████████████| 216/216 [00:05<00:00, 39.29it/s]\n",
      "Training epoch: 2:   0%|                                                   | 0/1284 [00:00<?, ?it/s]"
     ]
    },
    {
     "name": "stdout",
     "output_type": "stream",
     "text": [
      "Valid f1 score = 0.27305284174922023\n"
     ]
    },
    {
     "name": "stderr",
     "output_type": "stream",
     "text": [
      "Training epoch: 2: 100%|████████████| 1284/1284 [02:23<00:00,  8.98it/s, loss=27.716828, LR=5.38e-5]\n",
      "get_bert_embeddings: 100%|████████████████████| 216/216 [00:05<00:00, 39.44it/s]\n",
      "Training epoch: 3:   0%|                                                   | 0/1284 [00:00<?, ?it/s]"
     ]
    },
    {
     "name": "stdout",
     "output_type": "stream",
     "text": [
      "Valid f1 score = 0.6724363880470948\n"
     ]
    },
    {
     "name": "stderr",
     "output_type": "stream",
     "text": [
      "Training epoch: 3: 100%|█████████████| 1284/1284 [02:24<00:00,  8.91it/s, loss=22.825797, LR=0.0001]\n",
      "get_bert_embeddings: 100%|████████████████████| 216/216 [00:05<00:00, 39.41it/s]\n"
     ]
    },
    {
     "name": "stdout",
     "output_type": "stream",
     "text": [
      "Valid f1 score = 0.7540630163718208\n",
      "[2021-05-18 12:13:37.804986] Valid f1 score improved. Saving model weights to ./paraphrase-distilroberta-base-v1_epoch8-bs16x1.pt\n"
     ]
    },
    {
     "name": "stderr",
     "output_type": "stream",
     "text": [
      "Training epoch: 4: 100%|█████████████| 1284/1284 [02:24<00:00,  8.90it/s, loss=17.794455, LR=0.0001]\n",
      "get_bert_embeddings: 100%|████████████████████| 216/216 [00:05<00:00, 39.34it/s]\n"
     ]
    },
    {
     "name": "stdout",
     "output_type": "stream",
     "text": [
      "Valid f1 score = 0.7869485839531154\n",
      "[2021-05-18 12:16:10.904809] Valid f1 score improved. Saving model weights to ./paraphrase-distilroberta-base-v1_epoch8-bs16x1.pt\n"
     ]
    },
    {
     "name": "stderr",
     "output_type": "stream",
     "text": [
      "Training epoch: 5: 100%|████████████| 1284/1284 [02:25<00:00,  8.84it/s, loss=13.834280, LR=8.94e-5]\n",
      "get_bert_embeddings: 100%|████████████████████| 216/216 [00:05<00:00, 39.11it/s]\n"
     ]
    },
    {
     "name": "stdout",
     "output_type": "stream",
     "text": [
      "Valid f1 score = 0.7901976736808723\n",
      "[2021-05-18 12:18:45.268527] Valid f1 score improved. Saving model weights to ./paraphrase-distilroberta-base-v1_epoch8-bs16x1.pt\n"
     ]
    },
    {
     "name": "stderr",
     "output_type": "stream",
     "text": [
      "Training epoch: 6: 100%|████████████| 1284/1284 [02:25<00:00,  8.80it/s, loss=10.672974, LR=6.37e-5]\n",
      "get_bert_embeddings: 100%|████████████████████| 216/216 [00:05<00:00, 39.46it/s]\n",
      "Training epoch: 7:   0%|                                                   | 0/1284 [00:00<?, ?it/s]"
     ]
    },
    {
     "name": "stdout",
     "output_type": "stream",
     "text": [
      "Valid f1 score = 0.7861159566215353\n"
     ]
    },
    {
     "name": "stderr",
     "output_type": "stream",
     "text": [
      "Training epoch: 7: 100%|██████████████| 1284/1284 [02:25<00:00,  8.80it/s, loss=8.474598, LR=3.8e-5]\n",
      "get_bert_embeddings: 100%|████████████████████| 216/216 [00:05<00:00, 39.44it/s]\n",
      "Training epoch: 8:   0%|                                                   | 0/1284 [00:00<?, ?it/s]"
     ]
    },
    {
     "name": "stdout",
     "output_type": "stream",
     "text": [
      "Valid f1 score = 0.7824868021294097\n"
     ]
    },
    {
     "name": "stderr",
     "output_type": "stream",
     "text": [
      "Training epoch: 8: 100%|█████████████| 1284/1284 [02:24<00:00,  8.87it/s, loss=7.352768, LR=2.74e-5]\n",
      "get_bert_embeddings: 100%|████████████████████| 216/216 [00:05<00:00, 39.37it/s]\n"
     ]
    },
    {
     "name": "stdout",
     "output_type": "stream",
     "text": [
      "Valid f1 score = 0.7840610590570171\n"
     ]
    }
   ],
   "source": [
    "max_f1_valid = 0.\n",
    "\n",
    "for epoch in range(CFG.epochs):\n",
    "    model, avg_loss_train = train_fn(model, train_dataloader, optimizer, scheduler,\n",
    "                                     CFG.use_sam, CFG.accum_iter, epoch, CFG.device, CFG.use_amp)\n",
    "\n",
    "    valid_embeddings = get_bert_embeddings(valid_df, 'title', model)\n",
    "    valid_predictions = get_neighbors(valid_df, valid_embeddings.detach().cpu().numpy(),\n",
    "                                      knn=CFG.bert_knn if len(df) > 3 else 3, threshold=CFG.bert_knn_threshold)\n",
    "\n",
    "    valid_df['oof'] = valid_predictions\n",
    "    valid_df['f1'] = valid_df.apply(getMetric('oof'), axis=1)\n",
    "    valid_f1 = valid_df.f1.mean()\n",
    "    print('Valid f1 score =', valid_f1)\n",
    "\n",
    "    if (epoch >= CFG.min_save_epoch) and (valid_f1 > max_f1_valid):\n",
    "        print(f\"[{datetime.datetime.now()}] Valid f1 score improved. Saving model weights to {CFG.save_model_path}\")\n",
    "        max_f1_valid = valid_f1\n",
    "        torch.save(model.state_dict(), CFG.save_model_path)\n"
   ]
  },
  {
   "cell_type": "markdown",
   "id": "interesting-therapist",
   "metadata": {
    "papermill": {
     "duration": 5.146232,
     "end_time": "2021-05-18T12:26:37.765322",
     "exception": false,
     "start_time": "2021-05-18T12:26:32.619090",
     "status": "completed"
    },
    "tags": []
   },
   "source": [
    "# Best threshold Search"
   ]
  },
  {
   "cell_type": "code",
   "execution_count": 19,
   "id": "metropolitan-museum",
   "metadata": {
    "execution": {
     "iopub.execute_input": "2021-05-18T12:26:48.207189Z",
     "iopub.status.busy": "2021-05-18T12:26:48.206341Z",
     "iopub.status.idle": "2021-05-18T12:28:26.075589Z",
     "shell.execute_reply": "2021-05-18T12:28:26.076252Z"
    },
    "papermill": {
     "duration": 102.97283,
     "end_time": "2021-05-18T12:28:26.076475",
     "exception": false,
     "start_time": "2021-05-18T12:26:43.103645",
     "status": "completed"
    },
    "tags": []
   },
   "outputs": [
    {
     "name": "stdout",
     "output_type": "stream",
     "text": [
      "Searching best threshold...\n"
     ]
    },
    {
     "name": "stderr",
     "output_type": "stream",
     "text": [
      "get_bert_embeddings: 100%|████████████████████| 216/216 [00:05<00:00, 39.28it/s]\n"
     ]
    },
    {
     "name": "stdout",
     "output_type": "stream",
     "text": [
      "threshold = 0.1 -> f1 score = 0.5800641594697847\n",
      "threshold = 0.11 -> f1 score = 0.5907177741679782\n",
      "threshold = 0.12 -> f1 score = 0.6004316672997441\n",
      "threshold = 0.13 -> f1 score = 0.6085586129276395\n",
      "threshold = 0.14 -> f1 score = 0.6178010528808617\n",
      "threshold = 0.15 -> f1 score = 0.6265293586822434\n",
      "threshold = 0.16 -> f1 score = 0.6356487387283115\n",
      "threshold = 0.17 -> f1 score = 0.645094375394771\n",
      "threshold = 0.18 -> f1 score = 0.6556491949668578\n",
      "threshold = 0.19 -> f1 score = 0.6646982625868257\n",
      "threshold = 0.2 -> f1 score = 0.6725240740499075\n",
      "threshold = 0.21 -> f1 score = 0.6812922081234917\n",
      "threshold = 0.22 -> f1 score = 0.6905991151912595\n",
      "threshold = 0.23 -> f1 score = 0.698632926827469\n",
      "threshold = 0.24 -> f1 score = 0.7042046951628836\n",
      "threshold = 0.25 -> f1 score = 0.710534822813064\n",
      "threshold = 0.26 -> f1 score = 0.7185089639100462\n",
      "threshold = 0.27 -> f1 score = 0.7257756066306198\n",
      "threshold = 0.28 -> f1 score = 0.732240261122238\n",
      "threshold = 0.29 -> f1 score = 0.7390960779856748\n",
      "threshold = 0.3 -> f1 score = 0.7459494433669412\n",
      "threshold = 0.31 -> f1 score = 0.7519217107415108\n",
      "threshold = 0.32 -> f1 score = 0.759151664580665\n",
      "threshold = 0.33 -> f1 score = 0.7636670777332806\n",
      "threshold = 0.34 -> f1 score = 0.7672411601381017\n",
      "threshold = 0.35 -> f1 score = 0.771819268719386\n",
      "threshold = 0.36 -> f1 score = 0.7762217141167702\n",
      "threshold = 0.37 -> f1 score = 0.7803944868424886\n",
      "threshold = 0.38 -> f1 score = 0.7838501361817456\n",
      "threshold = 0.39 -> f1 score = 0.7880753565149989\n",
      "threshold = 0.4 -> f1 score = 0.7901976736808723\n",
      "threshold = 0.41 -> f1 score = 0.7921341182907695\n",
      "threshold = 0.42 -> f1 score = 0.7919217550993846\n",
      "threshold = 0.43 -> f1 score = 0.7908141996987216\n",
      "threshold = 0.44 -> f1 score = 0.7890955077492745\n",
      "threshold = 0.45 -> f1 score = 0.7866829163774283\n",
      "threshold = 0.46 -> f1 score = 0.782731279957127\n",
      "threshold = 0.47 -> f1 score = 0.7780079178332232\n",
      "threshold = 0.48 -> f1 score = 0.7693151970819382\n",
      "threshold = 0.49 -> f1 score = 0.7592363336071051\n",
      "Best threshold = 0.41\n",
      "Best f1 score = 0.7921341182907695\n"
     ]
    }
   ],
   "source": [
    "print(\"Searching best threshold...\")\n",
    "\n",
    "search_space = np.arange(10, 50, 1)\n",
    "\n",
    "model.load_state_dict(torch.load(CFG.save_model_path, map_location=CFG.device))\n",
    "valid_embeddings = get_bert_embeddings(valid_df, 'title', model)\n",
    "\n",
    "best_f1_valid = 0.\n",
    "best_threshold = 0.\n",
    "\n",
    "for i in search_space:\n",
    "    threshold = i / 100\n",
    "    valid_predictions = get_neighbors(valid_df, valid_embeddings.detach().cpu().numpy(),\n",
    "                                      knn=CFG.bert_knn if len(df) > 3 else 3, threshold=threshold)\n",
    "\n",
    "    valid_df['oof'] = valid_predictions\n",
    "    valid_df['f1'] = valid_df.apply(getMetric('oof'), axis=1)\n",
    "    valid_f1 = valid_df.f1.mean()\n",
    "    print(f\"threshold = {threshold} -> f1 score = {valid_f1}\")\n",
    "\n",
    "    if (valid_f1 > best_f1_valid):\n",
    "        best_f1_valid = valid_f1\n",
    "        best_threshold = threshold\n",
    "\n",
    "print(\"Best threshold =\", best_threshold)\n",
    "print(\"Best f1 score =\", best_f1_valid)\n",
    "BEST_THRESHOLD = best_threshold"
   ]
  },
  {
   "cell_type": "code",
   "execution_count": 20,
   "id": "raising-complexity",
   "metadata": {
    "execution": {
     "iopub.execute_input": "2021-05-18T12:28:36.651212Z",
     "iopub.status.busy": "2021-05-18T12:28:36.650358Z",
     "iopub.status.idle": "2021-05-18T12:29:21.616168Z",
     "shell.execute_reply": "2021-05-18T12:29:21.616788Z"
    },
    "papermill": {
     "duration": 50.137536,
     "end_time": "2021-05-18T12:29:21.616998",
     "exception": false,
     "start_time": "2021-05-18T12:28:31.479462",
     "status": "completed"
    },
    "tags": []
   },
   "outputs": [
    {
     "name": "stdout",
     "output_type": "stream",
     "text": [
      "Searching best knn...\n",
      "knn = 40 -> f1 score = 0.7915905013207277\n",
      "knn = 42 -> f1 score = 0.7917559169411896\n",
      "knn = 44 -> f1 score = 0.7919143676934218\n",
      "knn = 46 -> f1 score = 0.7920602634984976\n",
      "knn = 48 -> f1 score = 0.7921456361603253\n",
      "knn = 50 -> f1 score = 0.7921341182907695\n",
      "knn = 52 -> f1 score = 0.7921136708613354\n",
      "knn = 54 -> f1 score = 0.7921310811717941\n",
      "knn = 56 -> f1 score = 0.7921310811717941\n",
      "knn = 58 -> f1 score = 0.7921310811717941\n",
      "knn = 60 -> f1 score = 0.7921310811717941\n",
      "knn = 62 -> f1 score = 0.7921310811717941\n",
      "knn = 64 -> f1 score = 0.7921310811717941\n",
      "knn = 66 -> f1 score = 0.7921310811717941\n",
      "knn = 68 -> f1 score = 0.7921310811717941\n",
      "knn = 70 -> f1 score = 0.7921310811717941\n",
      "knn = 72 -> f1 score = 0.7921310811717941\n",
      "knn = 74 -> f1 score = 0.7921310811717941\n",
      "knn = 76 -> f1 score = 0.7921310811717941\n",
      "knn = 78 -> f1 score = 0.7921310811717941\n",
      "Best knn = 48\n",
      "Best f1 score = 0.7921456361603253\n"
     ]
    }
   ],
   "source": [
    "print(\"Searching best knn...\")\n",
    "\n",
    "search_space = np.arange(40, 80, 2)\n",
    "\n",
    "best_f1_valid = 0.\n",
    "best_knn = 0\n",
    "\n",
    "for knn in search_space:\n",
    "\n",
    "    valid_predictions = get_neighbors(valid_df, valid_embeddings.detach().cpu().numpy(),\n",
    "                                      knn=knn, threshold=BEST_THRESHOLD)\n",
    "\n",
    "    valid_df['oof'] = valid_predictions\n",
    "    valid_df['f1'] = valid_df.apply(getMetric('oof'), axis=1)\n",
    "    valid_f1 = valid_df.f1.mean()\n",
    "    print(f\"knn = {knn} -> f1 score = {valid_f1}\")\n",
    "\n",
    "    if (valid_f1 > best_f1_valid):\n",
    "        best_f1_valid = valid_f1\n",
    "        BEST_KNN = knn\n",
    "\n",
    "print(\"Best knn =\", BEST_KNN)\n",
    "print(\"Best f1 score =\", best_f1_valid)"
   ]
  },
  {
   "cell_type": "markdown",
   "id": "grateful-tuning",
   "metadata": {
    "papermill": {
     "duration": 5.13408,
     "end_time": "2021-05-18T12:29:32.150538",
     "exception": false,
     "start_time": "2021-05-18T12:29:27.016458",
     "status": "completed"
    },
    "tags": []
   },
   "source": [
    "# Find Test F1 Score"
   ]
  },
  {
   "cell_type": "code",
   "execution_count": 21,
   "id": "educated-yield",
   "metadata": {
    "execution": {
     "iopub.execute_input": "2021-05-18T12:29:42.726090Z",
     "iopub.status.busy": "2021-05-18T12:29:42.725071Z",
     "iopub.status.idle": "2021-05-18T12:29:50.460344Z",
     "shell.execute_reply": "2021-05-18T12:29:50.459867Z"
    },
    "papermill": {
     "duration": 12.911916,
     "end_time": "2021-05-18T12:29:50.460475",
     "exception": false,
     "start_time": "2021-05-18T12:29:37.548559",
     "status": "completed"
    },
    "tags": []
   },
   "outputs": [
    {
     "name": "stderr",
     "output_type": "stream",
     "text": [
      "get_bert_embeddings: 100%|████████████████████| 216/216 [00:05<00:00, 39.96it/s]\n"
     ]
    },
    {
     "name": "stdout",
     "output_type": "stream",
     "text": [
      "Test f1 score = 0.7972597830699942\n"
     ]
    }
   ],
   "source": [
    "test_embeddings = get_bert_embeddings(test_df, 'title', model)\n",
    "test_predictions = get_neighbors(test_df, test_embeddings.detach().cpu().numpy(),\n",
    "                                      knn=BEST_KNN, threshold=BEST_THRESHOLD)\n",
    "\n",
    "test_df['oof'] = test_predictions\n",
    "test_df['f1'] = test_df.apply(getMetric('oof'), axis=1)\n",
    "test_f1 = test_df.f1.mean()\n",
    "print(\"Test f1 score =\", test_f1)"
   ]
  },
  {
   "cell_type": "code",
   "execution_count": 22,
   "id": "recorded-default",
   "metadata": {
    "execution": {
     "iopub.execute_input": "2021-05-18T12:30:01.029264Z",
     "iopub.status.busy": "2021-05-18T12:30:01.028551Z",
     "iopub.status.idle": "2021-05-18T12:30:01.031235Z",
     "shell.execute_reply": "2021-05-18T12:30:01.031715Z"
    },
    "papermill": {
     "duration": 5.40341,
     "end_time": "2021-05-18T12:30:01.031856",
     "exception": false,
     "start_time": "2021-05-18T12:29:55.628446",
     "status": "completed"
    },
    "tags": []
   },
   "outputs": [
    {
     "name": "stdout",
     "output_type": "stream",
     "text": [
      "Elapsed time: 24 min 19 sec\n",
      "2021-05-18 12:30:01.026686\n"
     ]
    }
   ],
   "source": [
    "time_elapsed = time.time() - start_time\n",
    "print('Elapsed time: {:.0f} min {:.0f} sec'.format(time_elapsed // 60, time_elapsed % 60))\n",
    "print(datetime.datetime.now())"
   ]
  },
  {
   "cell_type": "markdown",
   "id": "acute-shield",
   "metadata": {
    "papermill": {
     "duration": 5.40303,
     "end_time": "2021-05-18T12:30:11.619038",
     "exception": false,
     "start_time": "2021-05-18T12:30:06.216008",
     "status": "completed"
    },
    "tags": []
   },
   "source": [
    "End"
   ]
  }
 ],
 "metadata": {
  "kernelspec": {
   "display_name": "Python 3",
   "language": "python",
   "name": "python3"
  },
  "language_info": {
   "codemirror_mode": {
    "name": "ipython",
    "version": 3
   },
   "file_extension": ".py",
   "mimetype": "text/x-python",
   "name": "python",
   "nbconvert_exporter": "python",
   "pygments_lexer": "ipython3",
   "version": "3.7.10"
  },
  "papermill": {
   "default_parameters": {},
   "duration": 1483.825992,
   "end_time": "2021-05-18T12:30:19.533976",
   "environment_variables": {},
   "exception": null,
   "input_path": "__notebook__.ipynb",
   "output_path": "__notebook__.ipynb",
   "parameters": {},
   "start_time": "2021-05-18T12:05:35.707984",
   "version": "2.3.3"
  }
 },
 "nbformat": 4,
 "nbformat_minor": 5
}

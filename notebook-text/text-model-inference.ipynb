{
 "metadata": {
  "language_info": {
   "codemirror_mode": {
    "name": "ipython",
    "version": 3
   },
   "file_extension": ".py",
   "mimetype": "text/x-python",
   "name": "python",
   "nbconvert_exporter": "python",
   "pygments_lexer": "ipython3",
   "version": "3.8.3"
  },
  "orig_nbformat": 2,
  "kernelspec": {
   "name": "python383jvsc74a57bd00b64f3f517ef2f38123c9b9d844dc7ba7aeffcc4559b7061ceea5f8a66fe5b86",
   "display_name": "Python 3.8.3 64-bit ('base': conda)"
  }
 },
 "nbformat": 4,
 "nbformat_minor": 2,
 "cells": [
  {
   "cell_type": "code",
   "execution_count": null,
   "metadata": {},
   "outputs": [],
   "source": [
    "import sys\n",
    "sys.path.insert(0,'../input/shopee-competition-utils')\n",
    "\n",
    "from sklearn.externals import joblib\n",
    "from config import CFG\n",
    "from run_test import run_bert_test_all\n",
    "from run_training import run_bert_training"
   ]
  },
  {
   "cell_type": "code",
   "execution_count": null,
   "metadata": {},
   "outputs": [],
   "source": [
    "# choose which cuda to train model on\n",
    "CFG.DEVICE = 'cuda:1'\n",
    "CFG.BATCH_SIZE = 16\n",
    "\n",
    "# for i in range(len(CFG.BERT_MODEL_NAMES)):\n",
    "#     CFG.BERT_MODEL_NAME = CFG.BERT_MODEL_NAMES[i]\n",
    "#     for k in range(len(CFG.BERT_MARGINS)):\n",
    "#         if (i == 1) and (k >= 2):\n",
    "#             CFG.MARGIN = CFG.BERT_MARGINS[k]\n",
    "#             CFG.MODEL_PATH_BERT = f\"{CFG.BERT_MODEL_NAME.rsplit('/', 1)[-1]}_epoch8-bs16x1_margin_{CFG.MARGIN}.pt\"\n",
    "#             run_bert_training()"
   ]
  },
  {
   "cell_type": "code",
   "execution_count": null,
   "metadata": {},
   "outputs": [],
   "source": [
    "CFG.USE_EMBEDDING = False # set `False` if use model to compute the embeddings\n",
    "test_bert_result_dict = run_bert_test_all()"
   ]
  },
  {
   "cell_type": "code",
   "execution_count": null,
   "metadata": {},
   "outputs": [],
   "source": [
    "joblib.dump(test_bert_result_dict, CFG.RESULTS_SAVE_PATH + 'test_bert_result_dict.pkl')\n",
    "test_bert_result_dict"
   ]
  },
  {
   "cell_type": "code",
   "execution_count": null,
   "metadata": {},
   "outputs": [],
   "source": [
    "tbrd = joblib.load(CFG.RESULTS_SAVE_PATH + 'test_bert_result_dict.pkl')\n",
    "tbrd"
   ]
  }
 ]
}
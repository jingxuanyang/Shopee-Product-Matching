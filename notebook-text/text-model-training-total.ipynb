{
 "cells": [
  {
   "cell_type": "markdown",
   "id": "sapphire-alexander",
   "metadata": {
    "papermill": {
     "duration": 0.017072,
     "end_time": "2021-05-17T14:49:24.761357",
     "exception": false,
     "start_time": "2021-05-17T14:49:24.744285",
     "status": "completed"
    },
    "tags": []
   },
   "source": [
    "# Shopee Training BERT"
   ]
  },
  {
   "cell_type": "code",
   "execution_count": 1,
   "id": "technological-rider",
   "metadata": {
    "execution": {
     "iopub.execute_input": "2021-05-17T14:49:24.803929Z",
     "iopub.status.busy": "2021-05-17T14:49:24.803160Z",
     "iopub.status.idle": "2021-05-17T14:49:24.808554Z",
     "shell.execute_reply": "2021-05-17T14:49:24.809034Z"
    },
    "papermill": {
     "duration": 0.031533,
     "end_time": "2021-05-17T14:49:24.809247",
     "exception": false,
     "start_time": "2021-05-17T14:49:24.777714",
     "status": "completed"
    },
    "tags": []
   },
   "outputs": [
    {
     "name": "stdout",
     "output_type": "stream",
     "text": [
      "2021-05-17 14:49:24.801855\n"
     ]
    }
   ],
   "source": [
    "import sys\n",
    "sys.path.insert(0,'../input/shopee-competition-utils')\n",
    "\n",
    "from sklearn.externals import joblib\n",
    "from config import CFG"
   ]
  },
  {
   "cell_type": "code",
   "execution_count": 2,
   "id": "cellular-opera",
   "metadata": {
    "execution": {
     "iopub.execute_input": "2021-05-17T14:49:24.847629Z",
     "iopub.status.busy": "2021-05-17T14:49:24.846980Z",
     "iopub.status.idle": "2021-05-17T14:49:27.891116Z",
     "shell.execute_reply": "2021-05-17T14:49:27.890431Z"
    },
    "papermill": {
     "duration": 3.065362,
     "end_time": "2021-05-17T14:49:27.891288",
     "exception": false,
     "start_time": "2021-05-17T14:49:24.825926",
     "status": "completed"
    },
    "tags": []
   },
   "outputs": [],
   "source": [
    "import os\n",
    "import gc\n",
    "import math\n",
    "import random\n",
    "from tqdm import tqdm\n",
    "import numpy as np\n",
    "import pandas as pd\n",
    "from sklearn.preprocessing import LabelEncoder\n",
    "from sklearn.model_selection import GroupKFold\n",
    "from sklearn.neighbors import NearestNeighbors\n",
    "\n",
    "import torch\n",
    "from torch import nn \n",
    "import torch.nn.functional as F \n",
    "from transformers import AutoTokenizer, AutoModel\n",
    "\n",
    "import warnings\n",
    "warnings.filterwarnings('ignore')"
   ]
  },
  {
   "cell_type": "markdown",
   "id": "noble-jenny",
   "metadata": {
    "papermill": {
     "duration": 0.02716,
     "end_time": "2021-05-17T14:49:28.145565",
     "exception": false,
     "start_time": "2021-05-17T14:49:28.118405",
     "status": "completed"
    },
    "tags": []
   },
   "source": [
    "# Classes and Functions"
   ]
  },
  {
   "cell_type": "code",
   "execution_count": 10,
   "id": "hidden-eleven",
   "metadata": {
    "execution": {
     "iopub.execute_input": "2021-05-17T14:49:28.517241Z",
     "iopub.status.busy": "2021-05-17T14:49:28.516070Z",
     "iopub.status.idle": "2021-05-17T14:49:28.518762Z",
     "shell.execute_reply": "2021-05-17T14:49:28.518364Z"
    },
    "papermill": {
     "duration": 0.031906,
     "end_time": "2021-05-17T14:49:28.518879",
     "exception": false,
     "start_time": "2021-05-17T14:49:28.486973",
     "status": "completed"
    },
    "tags": []
   },
   "outputs": [],
   "source": [
    "### Validation\n",
    "\n",
    "def getMetric(col):\n",
    "    def f1score(row):\n",
    "        n = len(np.intersect1d(row.target, row[col]))\n",
    "        return 2 * n / (len(row.target) + len(row[col]))\n",
    "    return f1score\n",
    "\n",
    "def get_neighbors(df, embeddings, knn=50, threshold=0.0):\n",
    "\n",
    "    model = NearestNeighbors(n_neighbors=knn, metric='cosine')\n",
    "    model.fit(embeddings)\n",
    "    distances, indices = model.kneighbors(embeddings)\n",
    "    \n",
    "    preds = []\n",
    "    for k in range(embeddings.shape[0]):\n",
    "        idx = np.where(distances[k,] < threshold)[0]\n",
    "        ids = indices[k,idx]\n",
    "        posting_ids = df['posting_id'].iloc[ids].values\n",
    "        preds.append(posting_ids)\n",
    "        \n",
    "    del model, distances, indices\n",
    "    gc.collect()\n",
    "    return preds"
   ]
  },
  {
   "cell_type": "markdown",
   "id": "anticipated-drunk",
   "metadata": {
    "papermill": {
     "duration": 0.017651,
     "end_time": "2021-05-17T14:49:28.660578",
     "exception": false,
     "start_time": "2021-05-17T14:49:28.642927",
     "status": "completed"
    },
    "tags": []
   },
   "source": [
    "# Setup"
   ]
  },
  {
   "cell_type": "code",
   "execution_count": 16,
   "id": "exterior-pointer",
   "metadata": {
    "execution": {
     "iopub.execute_input": "2021-05-17T14:49:46.713271Z",
     "iopub.status.busy": "2021-05-17T14:49:46.712541Z",
     "iopub.status.idle": "2021-05-17T14:49:46.715202Z",
     "shell.execute_reply": "2021-05-17T14:49:46.714714Z"
    },
    "papermill": {
     "duration": 0.025985,
     "end_time": "2021-05-17T14:49:46.715302",
     "exception": false,
     "start_time": "2021-05-17T14:49:46.689317",
     "status": "completed"
    },
    "tags": []
   },
   "outputs": [],
   "source": [
    "### Create Scheduler\n",
    "\n",
    "scheduler_cosine = torch.optim.lr_scheduler.CosineAnnealingLR(optimizer, T_max=CFG.COSINE_EPO-2, eta_min=CFG.ETA_MIN, last_epoch=-1)\n",
    "scheduler = GradualWarmupSchedulerV2(optimizer, multiplier=CFG.MULTIPLIER, total_epoch=CFG.warmup_epo,\n",
    "                                     after_scheduler=scheduler_cosine)"
   ]
  },
  {
   "cell_type": "markdown",
   "id": "headed-plenty",
   "metadata": {
    "papermill": {
     "duration": 0.019054,
     "end_time": "2021-05-17T14:49:46.753632",
     "exception": false,
     "start_time": "2021-05-17T14:49:46.734578",
     "status": "completed"
    },
    "tags": []
   },
   "source": [
    "# Training and Validation"
   ]
  },
  {
   "cell_type": "markdown",
   "id": "industrial-michael",
   "metadata": {
    "papermill": {
     "duration": 5.520824,
     "end_time": "2021-05-17T15:23:42.016908",
     "exception": false,
     "start_time": "2021-05-17T15:23:36.496084",
     "status": "completed"
    },
    "tags": []
   },
   "source": [
    "# Best threshold Search"
   ]
  },
  {
   "cell_type": "code",
   "execution_count": 19,
   "id": "breathing-binding",
   "metadata": {
    "execution": {
     "iopub.execute_input": "2021-05-17T15:23:53.158250Z",
     "iopub.status.busy": "2021-05-17T15:23:53.157463Z",
     "iopub.status.idle": "2021-05-17T15:25:33.341001Z",
     "shell.execute_reply": "2021-05-17T15:25:33.340552Z"
    },
    "papermill": {
     "duration": 105.622815,
     "end_time": "2021-05-17T15:25:33.341128",
     "exception": false,
     "start_time": "2021-05-17T15:23:47.718313",
     "status": "completed"
    },
    "tags": []
   },
   "outputs": [
    {
     "name": "stdout",
     "output_type": "stream",
     "text": [
      "Searching best threshold...\n"
     ]
    },
    {
     "name": "stderr",
     "output_type": "stream",
     "text": [
      "get_bert_embeddings: 100%|████████████████████| 216/216 [00:09<00:00, 23.11it/s]\n"
     ]
    },
    {
     "name": "stdout",
     "output_type": "stream",
     "text": [
      "threshold = 0.1 -> f1 score = 0.6088018626286464\n",
      "threshold = 0.11 -> f1 score = 0.6239264999692185\n",
      "threshold = 0.12 -> f1 score = 0.6374309987550659\n",
      "threshold = 0.13 -> f1 score = 0.6519164067766097\n",
      "threshold = 0.14 -> f1 score = 0.6669998480146297\n",
      "threshold = 0.15 -> f1 score = 0.6804091274071279\n",
      "threshold = 0.16 -> f1 score = 0.6924048056064657\n",
      "threshold = 0.17 -> f1 score = 0.7048821298395557\n",
      "threshold = 0.18 -> f1 score = 0.7164033690657718\n",
      "threshold = 0.19 -> f1 score = 0.7290526003092075\n",
      "threshold = 0.2 -> f1 score = 0.7407476913322213\n",
      "threshold = 0.21 -> f1 score = 0.7509635308095594\n",
      "threshold = 0.22 -> f1 score = 0.7607051479873749\n",
      "threshold = 0.23 -> f1 score = 0.7690491227955439\n",
      "threshold = 0.24 -> f1 score = 0.7753313570585402\n",
      "threshold = 0.25 -> f1 score = 0.7815356863179782\n",
      "threshold = 0.26 -> f1 score = 0.7874806888416356\n",
      "threshold = 0.27 -> f1 score = 0.7917585807417954\n",
      "threshold = 0.28 -> f1 score = 0.7944463061121809\n",
      "threshold = 0.29 -> f1 score = 0.7969448545006332\n",
      "threshold = 0.3 -> f1 score = 0.7989375388527218\n",
      "threshold = 0.31 -> f1 score = 0.8005005945554536\n",
      "threshold = 0.32 -> f1 score = 0.7977282355264602\n",
      "threshold = 0.33 -> f1 score = 0.7945889380097748\n",
      "threshold = 0.34 -> f1 score = 0.7877140471198844\n",
      "threshold = 0.35 -> f1 score = 0.7804391883855177\n",
      "threshold = 0.36 -> f1 score = 0.7663137048631634\n",
      "threshold = 0.37 -> f1 score = 0.7471975552539387\n",
      "threshold = 0.38 -> f1 score = 0.7234733690715512\n",
      "threshold = 0.39 -> f1 score = 0.6930195426140737\n",
      "threshold = 0.4 -> f1 score = 0.653897096474878\n",
      "threshold = 0.41 -> f1 score = 0.6077894151660452\n",
      "threshold = 0.42 -> f1 score = 0.5528097259452529\n",
      "threshold = 0.43 -> f1 score = 0.49162153253741353\n",
      "threshold = 0.44 -> f1 score = 0.4274425882151866\n",
      "threshold = 0.45 -> f1 score = 0.36385365036161804\n",
      "threshold = 0.46 -> f1 score = 0.30721529359149574\n",
      "threshold = 0.47 -> f1 score = 0.26143002201763077\n",
      "threshold = 0.48 -> f1 score = 0.22709969833597715\n",
      "threshold = 0.49 -> f1 score = 0.2043334127884831\n",
      "Best threshold = 0.31\n",
      "Best f1 score = 0.8005005945554536\n"
     ]
    }
   ],
   "source": [
    "print(\"Searching best threshold...\")\n",
    "\n",
    "search_space = np.arange(10, 50, 1)\n",
    "\n",
    "model.load_state_dict(torch.load(CFG.save_model_path, map_location=CFG.DEVICE))\n",
    "valid_embeddings = get_bert_embeddings(valid_df, 'title', model)\n",
    "\n",
    "best_f1_valid = 0.\n",
    "best_threshold = 0.\n",
    "\n",
    "for i in search_space:\n",
    "    threshold = i / 100\n",
    "    valid_predictions = get_neighbors(valid_df, valid_embeddings.detach().cpu().numpy(),\n",
    "                                      50, threshold=threshold)\n",
    "\n",
    "    valid_df['oof'] = valid_predictions\n",
    "    valid_df['f1'] = valid_df.apply(getMetric('oof'), axis=1)\n",
    "    valid_f1 = valid_df.f1.mean()\n",
    "    print(f\"threshold = {threshold} -> f1 score = {valid_f1}\")\n",
    "\n",
    "    if (valid_f1 > best_f1_valid):\n",
    "        best_f1_valid = valid_f1\n",
    "        best_threshold = threshold\n",
    "\n",
    "print(\"Best threshold =\", best_threshold)\n",
    "print(\"Best f1 score =\", best_f1_valid)\n",
    "BEST_THRESHOLD = best_threshold"
   ]
  },
  {
   "cell_type": "markdown",
   "id": "handy-australian",
   "metadata": {
    "papermill": {
     "duration": 5.501543,
     "end_time": "2021-05-17T15:26:38.677908",
     "exception": false,
     "start_time": "2021-05-17T15:26:33.176365",
     "status": "completed"
    },
    "tags": []
   },
   "source": [
    "# Find Test F1 Score"
   ]
  },
  {
   "cell_type": "code",
   "execution_count": 21,
   "id": "initial-document",
   "metadata": {
    "execution": {
     "iopub.execute_input": "2021-05-17T15:26:50.335479Z",
     "iopub.status.busy": "2021-05-17T15:26:50.334419Z",
     "iopub.status.idle": "2021-05-17T15:27:01.798405Z",
     "shell.execute_reply": "2021-05-17T15:27:01.799137Z"
    },
    "papermill": {
     "duration": 17.477735,
     "end_time": "2021-05-17T15:27:01.799328",
     "exception": false,
     "start_time": "2021-05-17T15:26:44.321593",
     "status": "completed"
    },
    "tags": []
   },
   "outputs": [
    {
     "name": "stderr",
     "output_type": "stream",
     "text": [
      "get_bert_embeddings: 100%|████████████████████| 216/216 [00:09<00:00, 23.54it/s]\n"
     ]
    },
    {
     "name": "stdout",
     "output_type": "stream",
     "text": [
      "Test f1 score = 0.8135798639912429\n"
     ]
    }
   ],
   "source": [
    "test_embeddings = get_bert_embeddings(test_df, 'title', model)\n",
    "test_predictions = get_neighbors(test_df, test_embeddings.detach().cpu().numpy(),\n",
    "                                      knn=BEST_KNN, threshold=BEST_THRESHOLD)\n",
    "\n",
    "test_df['oof'] = test_predictions\n",
    "test_df['f1'] = test_df.apply(getMetric('oof'), axis=1)\n",
    "test_f1 = test_df.f1.mean()\n",
    "print(\"Test f1 score =\", test_f1)"
   ]
  }
 ],
 "metadata": {
  "kernelspec": {
   "display_name": "Python 3",
   "language": "python",
   "name": "python3"
  },
  "language_info": {
   "codemirror_mode": {
    "name": "ipython",
    "version": 3
   },
   "file_extension": ".py",
   "mimetype": "text/x-python",
   "name": "python",
   "nbconvert_exporter": "python",
   "pygments_lexer": "ipython3",
   "version": "3.7.10"
  },
  "papermill": {
   "default_parameters": {},
   "duration": 2294.650913,
   "end_time": "2021-05-17T15:27:32.896101",
   "environment_variables": {},
   "exception": null,
   "input_path": "__notebook__.ipynb",
   "output_path": "__notebook__.ipynb",
   "parameters": {},
   "start_time": "2021-05-17T14:49:18.245188",
   "version": "2.3.3"
  }
 },
 "nbformat": 4,
 "nbformat_minor": 5
}
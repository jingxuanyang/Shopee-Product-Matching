{
 "cells": [
  {
   "cell_type": "markdown",
   "id": "executive-template",
   "metadata": {
    "papermill": {
     "duration": 0.016778,
     "end_time": "2021-05-18T13:20:29.499591",
     "exception": false,
     "start_time": "2021-05-18T13:20:29.482813",
     "status": "completed"
    },
    "tags": []
   },
   "source": [
    "# Shopee Training bert-base-indonesian-1.5G"
   ]
  },
  {
   "cell_type": "code",
   "execution_count": 1,
   "id": "inclusive-responsibility",
   "metadata": {
    "_cell_guid": "b1076dfc-b9ad-4769-8c92-a6c4dae69d19",
    "_uuid": "8f2839f25d086af736a60e9eeb907d3b93b6e0e5",
    "execution": {
     "iopub.execute_input": "2021-05-18T13:20:29.536044Z",
     "iopub.status.busy": "2021-05-18T13:20:29.534593Z",
     "iopub.status.idle": "2021-05-18T13:20:29.544259Z",
     "shell.execute_reply": "2021-05-18T13:20:29.544859Z"
    },
    "papermill": {
     "duration": 0.029694,
     "end_time": "2021-05-18T13:20:29.545170",
     "exception": false,
     "start_time": "2021-05-18T13:20:29.515476",
     "status": "completed"
    },
    "tags": []
   },
   "outputs": [
    {
     "name": "stdout",
     "output_type": "stream",
     "text": [
      "2021-05-18 13:20:29.539534\n"
     ]
    }
   ],
   "source": [
    "import sys\n",
    "import time\n",
    "import datetime\n",
    "start_time = time.time()\n",
    "print(datetime.datetime.now())"
   ]
  },
  {
   "cell_type": "code",
   "execution_count": 2,
   "id": "sustainable-watch",
   "metadata": {
    "execution": {
     "iopub.execute_input": "2021-05-18T13:20:29.582859Z",
     "iopub.status.busy": "2021-05-18T13:20:29.582268Z",
     "iopub.status.idle": "2021-05-18T13:20:32.859876Z",
     "shell.execute_reply": "2021-05-18T13:20:32.859397Z"
    },
    "papermill": {
     "duration": 3.298021,
     "end_time": "2021-05-18T13:20:32.860009",
     "exception": false,
     "start_time": "2021-05-18T13:20:29.561988",
     "status": "completed"
    },
    "tags": []
   },
   "outputs": [],
   "source": [
    "import os\n",
    "import gc\n",
    "import math\n",
    "import random\n",
    "from tqdm import tqdm\n",
    "import numpy as np\n",
    "import pandas as pd\n",
    "from sklearn.preprocessing import LabelEncoder\n",
    "from sklearn.model_selection import GroupKFold\n",
    "from sklearn.neighbors import NearestNeighbors\n",
    "\n",
    "import torch\n",
    "from torch import nn \n",
    "import torch.nn.functional as F \n",
    "from transformers import AutoTokenizer, AutoModel\n",
    "\n",
    "import warnings\n",
    "warnings.filterwarnings('ignore')"
   ]
  },
  {
   "cell_type": "code",
   "execution_count": 3,
   "id": "american-driving",
   "metadata": {
    "execution": {
     "iopub.execute_input": "2021-05-18T13:20:32.946760Z",
     "iopub.status.busy": "2021-05-18T13:20:32.946156Z",
     "iopub.status.idle": "2021-05-18T13:20:32.950993Z",
     "shell.execute_reply": "2021-05-18T13:20:32.951876Z"
    },
    "papermill": {
     "duration": 0.074937,
     "end_time": "2021-05-18T13:20:32.952015",
     "exception": false,
     "start_time": "2021-05-18T13:20:32.877078",
     "status": "completed"
    },
    "tags": []
   },
   "outputs": [
    {
     "name": "stdout",
     "output_type": "stream",
     "text": [
      "cuda:0\n"
     ]
    }
   ],
   "source": [
    "TRAIN_CSV = '../input/shopee-product-matching/train.csv'\n",
    "\n",
    "class CFG:\n",
    "    \n",
    "    compute_cv = True  # set False to train model for submission\n",
    "\n",
    "    ### BERT\n",
    "    bert_model_name = '../input/bert-model-pretrained/bert-base-indonesian-1.5G/bert-base-indonesian-1.5G'\n",
    "\n",
    "    max_length = 128\n",
    "\n",
    "    ### ArcFace\n",
    "    scale = 30\n",
    "    margin = 0.6\n",
    "    fc_dim = 768\n",
    "    seed = 412\n",
    "    classes = 6609\n",
    "    \n",
    "    # groupkfold\n",
    "    N_SPLITS = 5\n",
    "    TEST_FOLD = 0\n",
    "    VALID_FOLD = 1\n",
    "    \n",
    "    ### Training\n",
    "    batch_size = 16\n",
    "    accum_iter = 1  # 1 if use_sam = True\n",
    "    epochs = 8\n",
    "    min_save_epoch = epochs // 3\n",
    "    use_sam = True  # SAM (Sharpness-Aware Minimization for Efficiently Improving Generalization)\n",
    "    use_amp = True  # Automatic Mixed Precision\n",
    "    num_workers = 2  # On Windows, set 0 or export train_fn and TitleDataset as .py files for faster training.\n",
    "    device = torch.device('cuda:0' if torch.cuda.is_available() else 'cpu')\n",
    "    print(device)\n",
    "    \n",
    "    ### NearestNeighbors\n",
    "    bert_knn = 50\n",
    "    bert_knn_threshold = 0.4  # Cosine distance threshold\n",
    "    \n",
    "    ### GradualWarmupSchedulerV2（lr_start -> lr_max -> lr_min）\n",
    "    scheduler_params = {\n",
    "        \"lr_start\": 7.5e-6,\n",
    "        \"lr_max\": 1e-4,\n",
    "        \"lr_min\": 2.74e-5, # 1.5e-5,\n",
    "    }\n",
    "    multiplier = scheduler_params['lr_max'] / scheduler_params['lr_start']\n",
    "    eta_min = scheduler_params['lr_min']  # last minimum learning rate\n",
    "    freeze_epo = 0\n",
    "    warmup_epo = 2\n",
    "    cosine_epo = epochs - freeze_epo - warmup_epo\n",
    "    \n",
    "    ### save_model_path\n",
    "    save_model_path = f\"./{bert_model_name.rsplit('/', 1)[-1]}_epoch{epochs}-bs{batch_size}x{accum_iter}.pt\""
   ]
  },
  {
   "cell_type": "code",
   "execution_count": 4,
   "id": "extensive-yellow",
   "metadata": {
    "execution": {
     "iopub.execute_input": "2021-05-18T13:20:32.990391Z",
     "iopub.status.busy": "2021-05-18T13:20:32.989844Z",
     "iopub.status.idle": "2021-05-18T13:20:32.995871Z",
     "shell.execute_reply": "2021-05-18T13:20:32.995471Z"
    },
    "papermill": {
     "duration": 0.026938,
     "end_time": "2021-05-18T13:20:32.995976",
     "exception": false,
     "start_time": "2021-05-18T13:20:32.969038",
     "status": "completed"
    },
    "tags": []
   },
   "outputs": [],
   "source": [
    "def seed_everything(seed):\n",
    "    random.seed(seed)\n",
    "    os.environ['PYTHONHASHSEED'] = str(seed)\n",
    "    np.random.seed(seed)\n",
    "    torch.manual_seed(seed)\n",
    "    torch.cuda.manual_seed(seed)\n",
    "    torch.backends.cudnn.deterministic = True\n",
    "    torch.backends.cudnn.benchmark = True # set True to be faster\n",
    "\n",
    "seed_everything(CFG.seed)"
   ]
  },
  {
   "cell_type": "markdown",
   "id": "brown-frost",
   "metadata": {
    "papermill": {
     "duration": 0.01616,
     "end_time": "2021-05-18T13:20:33.028450",
     "exception": false,
     "start_time": "2021-05-18T13:20:33.012290",
     "status": "completed"
    },
    "tags": []
   },
   "source": [
    "# Classes and Functions"
   ]
  },
  {
   "cell_type": "code",
   "execution_count": 5,
   "id": "christian-instrumentation",
   "metadata": {
    "execution": {
     "iopub.execute_input": "2021-05-18T13:20:33.067416Z",
     "iopub.status.busy": "2021-05-18T13:20:33.066769Z",
     "iopub.status.idle": "2021-05-18T13:20:33.069520Z",
     "shell.execute_reply": "2021-05-18T13:20:33.069104Z"
    },
    "papermill": {
     "duration": 0.024869,
     "end_time": "2021-05-18T13:20:33.069624",
     "exception": false,
     "start_time": "2021-05-18T13:20:33.044755",
     "status": "completed"
    },
    "tags": []
   },
   "outputs": [],
   "source": [
    "### Dataset\n",
    "\n",
    "class TitleDataset(torch.utils.data.Dataset):\n",
    "    def __init__(self, df, text_column, label_column):\n",
    "        texts = df[text_column]\n",
    "        self.labels = df[label_column].values\n",
    "        \n",
    "        self.titles = []\n",
    "        for title in texts:\n",
    "            title = title.encode('utf-8').decode(\"unicode_escape\")\n",
    "            title = title.encode('ascii', 'ignore').decode(\"unicode_escape\")\n",
    "            title = title.lower()\n",
    "            self.titles.append(title)\n",
    "\n",
    "    def __len__(self):\n",
    "        return len(self.titles)\n",
    "\n",
    "    def __getitem__(self, idx):\n",
    "        text = self.titles[idx]\n",
    "        label = torch.tensor(self.labels[idx])\n",
    "        return text, label"
   ]
  },
  {
   "cell_type": "code",
   "execution_count": 6,
   "id": "foreign-macintosh",
   "metadata": {
    "execution": {
     "iopub.execute_input": "2021-05-18T13:20:33.114687Z",
     "iopub.status.busy": "2021-05-18T13:20:33.110797Z",
     "iopub.status.idle": "2021-05-18T13:20:33.117409Z",
     "shell.execute_reply": "2021-05-18T13:20:33.116965Z"
    },
    "papermill": {
     "duration": 0.031066,
     "end_time": "2021-05-18T13:20:33.117518",
     "exception": false,
     "start_time": "2021-05-18T13:20:33.086452",
     "status": "completed"
    },
    "tags": []
   },
   "outputs": [],
   "source": [
    "### SAM Optimizer 2020/1/16\n",
    "# https://github.com/davda54/sam/blob/main/sam.py\n",
    "\n",
    "class SAM(torch.optim.Optimizer):\n",
    "    def __init__(self, params, base_optimizer, rho=0.05, **kwargs):\n",
    "        assert rho >= 0.0, f\"Invalid rho, should be non-negative: {rho}\"\n",
    "\n",
    "        defaults = dict(rho=rho, **kwargs)\n",
    "        super(SAM, self).__init__(params, defaults)\n",
    "\n",
    "        self.base_optimizer = base_optimizer(self.param_groups, **kwargs)\n",
    "        self.param_groups = self.base_optimizer.param_groups\n",
    "\n",
    "    @torch.no_grad()\n",
    "    def first_step(self, zero_grad=False):\n",
    "        grad_norm = self._grad_norm()\n",
    "        for group in self.param_groups:\n",
    "            scale = group[\"rho\"] / (grad_norm + 1e-12)\n",
    "\n",
    "            for p in group[\"params\"]:\n",
    "                if p.grad is None: continue\n",
    "                e_w = p.grad * scale.to(p)\n",
    "                p.add_(e_w)  # climb to the local maximum \"w + e(w)\"\n",
    "                self.state[p][\"e_w\"] = e_w\n",
    "\n",
    "        if zero_grad: self.zero_grad()\n",
    "\n",
    "    @torch.no_grad()\n",
    "    def second_step(self, zero_grad=False):\n",
    "        for group in self.param_groups:\n",
    "            for p in group[\"params\"]:\n",
    "                if p.grad is None: continue\n",
    "                p.sub_(self.state[p][\"e_w\"])  # get back to \"w\" from \"w + e(w)\"\n",
    "\n",
    "        self.base_optimizer.step()  # do the actual \"sharpness-aware\" update\n",
    "\n",
    "        if zero_grad: self.zero_grad()\n",
    "\n",
    "    @torch.no_grad()\n",
    "    def step(self, closure=None):\n",
    "        assert closure is not None, \"Sharpness Aware Minimization requires closure, but it was not provided\"\n",
    "        closure = torch.enable_grad()(closure)  # the closure should do a full forward-backward pass\n",
    "\n",
    "        self.first_step(zero_grad=True)\n",
    "        closure()\n",
    "        self.second_step()\n",
    "\n",
    "    def _grad_norm(self):\n",
    "        shared_device = self.param_groups[0][\"params\"][0].device  # put everything on the same device, in case of model parallelism\n",
    "        norm = torch.norm(\n",
    "                    torch.stack([\n",
    "                        p.grad.norm(p=2).to(shared_device)\n",
    "                        for group in self.param_groups for p in group[\"params\"]\n",
    "                        if p.grad is not None\n",
    "                    ]),\n",
    "                    p=2\n",
    "               )\n",
    "        return norm"
   ]
  },
  {
   "cell_type": "code",
   "execution_count": 7,
   "id": "deadly-phrase",
   "metadata": {
    "execution": {
     "iopub.execute_input": "2021-05-18T13:20:33.165611Z",
     "iopub.status.busy": "2021-05-18T13:20:33.164874Z",
     "iopub.status.idle": "2021-05-18T13:20:33.167434Z",
     "shell.execute_reply": "2021-05-18T13:20:33.167030Z"
    },
    "papermill": {
     "duration": 0.03298,
     "end_time": "2021-05-18T13:20:33.167534",
     "exception": false,
     "start_time": "2021-05-18T13:20:33.134554",
     "status": "completed"
    },
    "tags": []
   },
   "outputs": [],
   "source": [
    "### GradualWarmupScheduler\n",
    "# https://github.com/ildoonet/pytorch-gradual-warmup-lr\n",
    "\n",
    "from torch.optim.lr_scheduler import _LRScheduler\n",
    "from torch.optim.lr_scheduler import ReduceLROnPlateau\n",
    "\n",
    "\n",
    "class GradualWarmupScheduler(_LRScheduler):\n",
    "    \"\"\" Gradually warm-up(increasing) learning rate in optimizer.\n",
    "    Proposed in 'Accurate, Large Minibatch SGD: Training ImageNet in 1 Hour'.\n",
    "    Args:\n",
    "        optimizer (Optimizer): Wrapped optimizer.\n",
    "        multiplier: target learning rate = base lr * multiplier if multiplier > 1.0. if multiplier = 1.0, lr starts from 0 and ends up with the base_lr.\n",
    "        total_epoch: target learning rate is reached at total_epoch, gradually\n",
    "        after_scheduler: after target_epoch, use this scheduler(eg. ReduceLROnPlateau)\n",
    "    \"\"\"\n",
    "\n",
    "    def __init__(self, optimizer, multiplier, total_epoch, after_scheduler=None):\n",
    "        self.multiplier = multiplier\n",
    "        if self.multiplier < 1.:\n",
    "            raise ValueError('multiplier should be greater thant or equal to 1.')\n",
    "        self.total_epoch = total_epoch\n",
    "        self.after_scheduler = after_scheduler\n",
    "        self.finished = False\n",
    "        super(GradualWarmupScheduler, self).__init__(optimizer)\n",
    "\n",
    "    def get_lr(self):\n",
    "        if self.last_epoch > self.total_epoch:\n",
    "            if self.after_scheduler:\n",
    "                if not self.finished:\n",
    "                    self.after_scheduler.base_lrs = [base_lr * self.multiplier for base_lr in self.base_lrs]\n",
    "                    self.finished = True\n",
    "                return self.after_scheduler.get_last_lr()\n",
    "            return [base_lr * self.multiplier for base_lr in self.base_lrs]\n",
    "\n",
    "        if self.multiplier == 1.0:\n",
    "            return [base_lr * (float(self.last_epoch) / self.total_epoch) for base_lr in self.base_lrs]\n",
    "        else:\n",
    "            return [base_lr * ((self.multiplier - 1.) * self.last_epoch / self.total_epoch + 1.) for base_lr in self.base_lrs]\n",
    "\n",
    "    def step_ReduceLROnPlateau(self, metrics, epoch=None):\n",
    "        if epoch is None:\n",
    "            epoch = self.last_epoch + 1\n",
    "        self.last_epoch = epoch if epoch != 0 else 1  # ReduceLROnPlateau is called at the end of epoch, whereas others are called at beginning\n",
    "        if self.last_epoch <= self.total_epoch:\n",
    "            warmup_lr = [base_lr * ((self.multiplier - 1.) * self.last_epoch / self.total_epoch + 1.) for base_lr in self.base_lrs]\n",
    "            for param_group, lr in zip(self.optimizer.param_groups, warmup_lr):\n",
    "                param_group['lr'] = lr\n",
    "        else:\n",
    "            if epoch is None:\n",
    "                self.after_scheduler.step(metrics, None)\n",
    "            else:\n",
    "                self.after_scheduler.step(metrics, epoch - self.total_epoch)\n",
    "\n",
    "    def step(self, epoch=None, metrics=None):\n",
    "        if type(self.after_scheduler) != ReduceLROnPlateau:\n",
    "            if self.finished and self.after_scheduler:\n",
    "                if epoch is None:\n",
    "                    self.after_scheduler.step(None)\n",
    "                else:\n",
    "                    self.after_scheduler.step(epoch - self.total_epoch)\n",
    "                self._last_lr = self.after_scheduler.get_last_lr()\n",
    "            else:\n",
    "                return super(GradualWarmupScheduler, self).step(epoch)\n",
    "        else:\n",
    "            self.step_ReduceLROnPlateau(metrics, epoch)"
   ]
  },
  {
   "cell_type": "code",
   "execution_count": 8,
   "id": "hispanic-rogers",
   "metadata": {
    "execution": {
     "iopub.execute_input": "2021-05-18T13:20:33.207907Z",
     "iopub.status.busy": "2021-05-18T13:20:33.207221Z",
     "iopub.status.idle": "2021-05-18T13:20:33.209765Z",
     "shell.execute_reply": "2021-05-18T13:20:33.209334Z"
    },
    "papermill": {
     "duration": 0.025521,
     "end_time": "2021-05-18T13:20:33.209869",
     "exception": false,
     "start_time": "2021-05-18T13:20:33.184348",
     "status": "completed"
    },
    "tags": []
   },
   "outputs": [],
   "source": [
    "### GradualWarmupSchedulerV2\n",
    "\n",
    "class GradualWarmupSchedulerV2(GradualWarmupScheduler):\n",
    "    def __init__(self, optimizer, multiplier, total_epoch, after_scheduler=None):\n",
    "        super(GradualWarmupSchedulerV2, self).__init__(optimizer, multiplier, total_epoch, after_scheduler)\n",
    "    def get_lr(self):\n",
    "        if self.last_epoch > self.total_epoch:\n",
    "            if self.after_scheduler:\n",
    "                if not self.finished:\n",
    "                    self.after_scheduler.base_lrs = [base_lr * self.multiplier for base_lr in self.base_lrs]\n",
    "                    self.finished = True\n",
    "                return self.after_scheduler.get_lr()\n",
    "            return [base_lr * self.multiplier for base_lr in self.base_lrs]\n",
    "        if self.multiplier == 1.0:\n",
    "            return [base_lr * (float(self.last_epoch) / self.total_epoch) for base_lr in self.base_lrs]\n",
    "        else:\n",
    "            return [base_lr * ((self.multiplier - 1.) * self.last_epoch / self.total_epoch + 1.) for base_lr in self.base_lrs]"
   ]
  },
  {
   "cell_type": "code",
   "execution_count": 9,
   "id": "unavailable-coordination",
   "metadata": {
    "execution": {
     "iopub.execute_input": "2021-05-18T13:20:33.256680Z",
     "iopub.status.busy": "2021-05-18T13:20:33.255941Z",
     "iopub.status.idle": "2021-05-18T13:20:33.258560Z",
     "shell.execute_reply": "2021-05-18T13:20:33.258151Z"
    },
    "papermill": {
     "duration": 0.031563,
     "end_time": "2021-05-18T13:20:33.258661",
     "exception": false,
     "start_time": "2021-05-18T13:20:33.227098",
     "status": "completed"
    },
    "tags": []
   },
   "outputs": [],
   "source": [
    "### Train one epoch\n",
    "\n",
    "def train_fn(model, data_loader, optimizer, scheduler, use_sam, accum_iter, epoch, device, use_amp):\n",
    "    model.train()\n",
    "    if use_amp:\n",
    "        scaler = torch.cuda.amp.GradScaler()\n",
    "    fin_loss = 0.0\n",
    "    tk = tqdm(data_loader, desc = \"Training epoch: \" + str(epoch+1), ncols=100)\n",
    "\n",
    "    for t, (texts, labels) in enumerate(tk):\n",
    "        texts = list(texts)\n",
    "\n",
    "        if use_sam:\n",
    "            if use_amp:\n",
    "                with torch.cuda.amp.autocast():\n",
    "                    _, loss = model(texts, labels)\n",
    "                loss.mean().backward()\n",
    "                optimizer.first_step(zero_grad=True)\n",
    "                fin_loss += loss.item() \n",
    "                with torch.cuda.amp.autocast():\n",
    "                     _, loss_second = model(texts, labels)\n",
    "                loss_second.mean().backward()\n",
    "                optimizer.second_step(zero_grad=True)\n",
    "                optimizer.zero_grad()\n",
    "            else:\n",
    "                _, loss = model(texts, labels)\n",
    "                loss.mean().backward()\n",
    "                optimizer.first_step(zero_grad=True)\n",
    "                fin_loss += loss.item() \n",
    "                _, loss_second = model(texts, labels)\n",
    "                loss_second.mean().backward()\n",
    "                optimizer.second_step(zero_grad=True)\n",
    "                optimizer.zero_grad()\n",
    "\n",
    "        else:  # if use_sam == False\n",
    "            if use_amp:\n",
    "                with torch.cuda.amp.autocast():\n",
    "                    _, loss = model(texts, labels)\n",
    "                scaler.scale(loss).backward()\n",
    "                fin_loss += loss.item() \n",
    "                # mini-batch accumulation\n",
    "                if (t + 1) % accum_iter == 0:\n",
    "                    scaler.step(optimizer)\n",
    "                    scaler.update()\n",
    "                    optimizer.zero_grad()\n",
    "            else:\n",
    "                _, loss = model(texts, labels)\n",
    "                loss.backward()\n",
    "                fin_loss += loss.item() \n",
    "                # mini-batch accumulation\n",
    "                if (t + 1) % accum_iter == 0:\n",
    "                    optimizer.step() \n",
    "                    optimizer.zero_grad()\n",
    "                \n",
    "        tk.set_postfix({'loss' : '%.6f' %float(fin_loss/(t+1)), 'LR' : optimizer.param_groups[0]['lr']})\n",
    "\n",
    "    scheduler.step()\n",
    "    return model, fin_loss / len(data_loader)"
   ]
  },
  {
   "cell_type": "code",
   "execution_count": 10,
   "id": "polish-convention",
   "metadata": {
    "execution": {
     "iopub.execute_input": "2021-05-18T13:20:33.304593Z",
     "iopub.status.busy": "2021-05-18T13:20:33.303785Z",
     "iopub.status.idle": "2021-05-18T13:20:33.305934Z",
     "shell.execute_reply": "2021-05-18T13:20:33.306342Z"
    },
    "papermill": {
     "duration": 0.030841,
     "end_time": "2021-05-18T13:20:33.306453",
     "exception": false,
     "start_time": "2021-05-18T13:20:33.275612",
     "status": "completed"
    },
    "tags": []
   },
   "outputs": [],
   "source": [
    "### Validation\n",
    "\n",
    "def getMetric(col):\n",
    "    def f1score(row):\n",
    "        n = len(np.intersect1d(row.target, row[col]))\n",
    "        return 2 * n / (len(row.target) + len(row[col]))\n",
    "    return f1score\n",
    "\n",
    "\n",
    "def get_bert_embeddings(df, column, model, chunk=32):\n",
    "    model.eval()\n",
    "    \n",
    "    bert_embeddings = torch.zeros((df.shape[0], 768)).to(CFG.device)\n",
    "    for i in tqdm(list(range(0, df.shape[0], chunk)) + [df.shape[0]-chunk], desc=\"get_bert_embeddings\", ncols=80):\n",
    "        titles = []\n",
    "        for title in df[column][i : i + chunk].values:\n",
    "            try:\n",
    "                title = title.encode('utf-8').decode(\"unicode_escape\")\n",
    "                title = title.encode('ascii', 'ignore').decode(\"unicode_escape\")\n",
    "            except:\n",
    "                pass\n",
    "            #title = text_punctuation(title)\n",
    "            title = title.lower()\n",
    "            titles.append(title)\n",
    "            \n",
    "        with torch.no_grad():\n",
    "            if CFG.use_amp:\n",
    "                with torch.cuda.amp.autocast():\n",
    "                    model_output = model(titles)\n",
    "            else:\n",
    "                model_output = model(titles)\n",
    "            \n",
    "        bert_embeddings[i : i + chunk] = model_output\n",
    "    \n",
    "    del model, titles, model_output\n",
    "    gc.collect()\n",
    "    torch.cuda.empty_cache()\n",
    "    \n",
    "    return bert_embeddings\n",
    "\n",
    "\n",
    "def get_neighbors(df, embeddings, knn=50, threshold=0.0):\n",
    "\n",
    "    model = NearestNeighbors(n_neighbors=knn, metric='cosine')\n",
    "    model.fit(embeddings)\n",
    "    distances, indices = model.kneighbors(embeddings)\n",
    "    \n",
    "    preds = []\n",
    "    for k in range(embeddings.shape[0]):\n",
    "        idx = np.where(distances[k,] < threshold)[0]\n",
    "        ids = indices[k,idx]\n",
    "        posting_ids = df['posting_id'].iloc[ids].values\n",
    "        preds.append(posting_ids)\n",
    "        \n",
    "    del model, distances, indices\n",
    "    gc.collect()\n",
    "    return preds"
   ]
  },
  {
   "cell_type": "code",
   "execution_count": 11,
   "id": "after-powell",
   "metadata": {
    "execution": {
     "iopub.execute_input": "2021-05-18T13:20:33.351961Z",
     "iopub.status.busy": "2021-05-18T13:20:33.351303Z",
     "iopub.status.idle": "2021-05-18T13:20:33.354005Z",
     "shell.execute_reply": "2021-05-18T13:20:33.353595Z"
    },
    "papermill": {
     "duration": 0.030205,
     "end_time": "2021-05-18T13:20:33.354110",
     "exception": false,
     "start_time": "2021-05-18T13:20:33.323905",
     "status": "completed"
    },
    "tags": []
   },
   "outputs": [],
   "source": [
    "### ArcFace\n",
    "class ArcMarginProduct(nn.Module):\n",
    "    def __init__(self, in_features, out_features, scale=30.0, margin=0.50, easy_margin=False, ls_eps=0.0):\n",
    "        super(ArcMarginProduct, self).__init__()\n",
    "        self.in_features = in_features\n",
    "        self.out_features = out_features\n",
    "        self.scale = scale\n",
    "        self.margin = margin\n",
    "        self.ls_eps = ls_eps  # label smoothing\n",
    "        self.weight = nn.Parameter(torch.FloatTensor(out_features, in_features))\n",
    "        nn.init.xavier_uniform_(self.weight)\n",
    "\n",
    "        self.easy_margin = easy_margin\n",
    "        self.cos_m = math.cos(margin)\n",
    "        self.sin_m = math.sin(margin)\n",
    "        self.th = math.cos(math.pi - margin)\n",
    "        self.mm = math.sin(math.pi - margin) * margin\n",
    "        \n",
    "        self.criterion = nn.CrossEntropyLoss()\n",
    "                \n",
    "    def forward(self, input, label):\n",
    "        # --------------------------- cos(theta) & phi(theta) ---------------------------\n",
    "        if CFG.use_amp:\n",
    "            cosine = F.linear(F.normalize(input), F.normalize(self.weight)).float()  # if CFG.use_amp\n",
    "        else:\n",
    "            cosine = F.linear(F.normalize(input), F.normalize(self.weight))\n",
    "        sine = torch.sqrt(1.0 - torch.pow(cosine, 2))\n",
    "        phi = cosine * self.cos_m - sine * self.sin_m\n",
    "        if self.easy_margin:\n",
    "            phi = torch.where(cosine > 0, phi, cosine)\n",
    "        else:\n",
    "            phi = torch.where(cosine > self.th, phi, cosine - self.mm)\n",
    "        # --------------------------- convert label to one-hot ---------------------------\n",
    "        one_hot = torch.zeros(cosine.size(), device=CFG.device)\n",
    "        one_hot.scatter_(1, label.view(-1, 1).long(), 1)\n",
    "        if self.ls_eps > 0:\n",
    "            one_hot = (1 - self.ls_eps) * one_hot + self.ls_eps / self.out_features\n",
    "\n",
    "        output = (one_hot * phi) + ((1.0 - one_hot) * cosine)\n",
    "        output *= self.scale\n",
    "        return output, self.criterion(output,label)"
   ]
  },
  {
   "cell_type": "code",
   "execution_count": 12,
   "id": "discrete-tobago",
   "metadata": {
    "execution": {
     "iopub.execute_input": "2021-05-18T13:20:33.405594Z",
     "iopub.status.busy": "2021-05-18T13:20:33.404955Z",
     "iopub.status.idle": "2021-05-18T13:20:33.412022Z",
     "shell.execute_reply": "2021-05-18T13:20:33.411595Z"
    },
    "papermill": {
     "duration": 0.040936,
     "end_time": "2021-05-18T13:20:33.412123",
     "exception": false,
     "start_time": "2021-05-18T13:20:33.371187",
     "status": "completed"
    },
    "tags": []
   },
   "outputs": [],
   "source": [
    "### BERT\n",
    "\n",
    "# Mean Pooling - Take attention mask into account for correct averaging\n",
    "def mean_pooling(model_output, attention_mask):\n",
    "    token_embeddings = model_output[0]  # First element of model_output contains all token embeddings\n",
    "    input_mask_expanded = attention_mask.unsqueeze(-1).expand(token_embeddings.size()).float()\n",
    "    sum_embeddings = torch.sum(token_embeddings * input_mask_expanded, 1)\n",
    "    sum_mask = torch.clamp(input_mask_expanded.sum(1), min=1e-9)\n",
    "    return sum_embeddings / sum_mask\n",
    "\n",
    "\n",
    "class ShopeeBertModel(nn.Module):\n",
    "\n",
    "    def __init__(\n",
    "        self,\n",
    "        n_classes = CFG.classes,\n",
    "        model_name = CFG.bert_model_name,\n",
    "        fc_dim = CFG.fc_dim,\n",
    "        margin = CFG.margin,\n",
    "        scale = CFG.scale,\n",
    "        use_fc = True\n",
    "    ):\n",
    "\n",
    "        super(ShopeeBertModel,self).__init__()\n",
    "        print('Building Model Backbone for {} model'.format(model_name))\n",
    "\n",
    "        self.tokenizer = AutoTokenizer.from_pretrained(model_name)\n",
    "        self.backbone = AutoModel.from_pretrained(model_name).to(CFG.device)\n",
    "\n",
    "        in_features = 768\n",
    "        self.use_fc = use_fc\n",
    "        \n",
    "        if use_fc:\n",
    "            self.dropout = nn.Dropout(p=0.0)\n",
    "            self.classifier = nn.Linear(in_features, fc_dim)\n",
    "            self.bn = nn.BatchNorm1d(fc_dim)\n",
    "            self._init_params()\n",
    "            in_features = fc_dim\n",
    "            \n",
    "        self.final = ArcMarginProduct(\n",
    "            in_features,\n",
    "            n_classes,\n",
    "            scale = scale,\n",
    "            margin = margin,\n",
    "            easy_margin = False,\n",
    "            ls_eps = 0.0\n",
    "        )\n",
    "\n",
    "    def _init_params(self):\n",
    "        nn.init.xavier_normal_(self.classifier.weight)\n",
    "        nn.init.constant_(self.classifier.bias, 0)\n",
    "        nn.init.constant_(self.bn.weight, 1)\n",
    "        nn.init.constant_(self.bn.bias, 0)\n",
    "\n",
    "    def forward(self, texts, labels=torch.tensor([0])):\n",
    "        features = self.extract_features(texts)\n",
    "        if self.training:\n",
    "            logits = self.final(features, labels.to(CFG.device))\n",
    "            return logits\n",
    "        else:\n",
    "            return features\n",
    "        \n",
    "    def extract_features(self, texts):\n",
    "        encoding = self.tokenizer(texts, padding=True, truncation=True,\n",
    "                             max_length=CFG.max_length, return_tensors='pt').to(CFG.device)\n",
    "        input_ids = encoding['input_ids']\n",
    "        attention_mask = encoding['attention_mask']\n",
    "        embedding = self.backbone(input_ids, attention_mask=attention_mask)\n",
    "        x = mean_pooling(embedding, attention_mask)\n",
    "        \n",
    "        if self.use_fc and self.training:\n",
    "            x = self.dropout(x)\n",
    "            x = self.classifier(x)\n",
    "            x = self.bn(x)\n",
    "        \n",
    "        return x"
   ]
  },
  {
   "cell_type": "markdown",
   "id": "suited-algorithm",
   "metadata": {
    "papermill": {
     "duration": 0.017329,
     "end_time": "2021-05-18T13:20:33.447575",
     "exception": false,
     "start_time": "2021-05-18T13:20:33.430246",
     "status": "completed"
    },
    "tags": []
   },
   "source": [
    "# Setup"
   ]
  },
  {
   "cell_type": "code",
   "execution_count": 13,
   "id": "suspended-advocacy",
   "metadata": {
    "execution": {
     "iopub.execute_input": "2021-05-18T13:20:33.496215Z",
     "iopub.status.busy": "2021-05-18T13:20:33.495700Z",
     "iopub.status.idle": "2021-05-18T13:20:34.536356Z",
     "shell.execute_reply": "2021-05-18T13:20:34.535474Z"
    },
    "papermill": {
     "duration": 1.071633,
     "end_time": "2021-05-18T13:20:34.536549",
     "exception": false,
     "start_time": "2021-05-18T13:20:33.464916",
     "status": "completed"
    },
    "tags": []
   },
   "outputs": [
    {
     "name": "stdout",
     "output_type": "stream",
     "text": [
      "Compute CV = True\n",
      "train_df length = 20550\n",
      "train_df classes = 6609\n",
      "valid_df length = 6849\n",
      "valid_df classes = 2202\n",
      "test_df length = 6851\n",
      "test_df classes = 2203\n"
     ]
    }
   ],
   "source": [
    "### Create Dataloader\n",
    "\n",
    "print(\"Compute CV =\", CFG.compute_cv)\n",
    "\n",
    "df = pd.read_csv(TRAIN_CSV)\n",
    "df['target'] = df.label_group.map(df.groupby('label_group').posting_id.agg('unique').to_dict())\n",
    "\n",
    "labelencoder= LabelEncoder()\n",
    "df['label_group'] = labelencoder.fit_transform(df['label_group'])\n",
    "\n",
    "gkf = GroupKFold(n_splits=CFG.N_SPLITS)\n",
    "df['fold'] = -1\n",
    "for i, (train_idx, valid_idx) in enumerate(gkf.split(X=df, groups=df['label_group'])):\n",
    "    df.loc[valid_idx, 'fold'] = i\n",
    "\n",
    "train_df = df[df['fold']!=CFG.TEST_FOLD].reset_index(drop=True)\n",
    "train_df = train_df[train_df['fold']!=CFG.VALID_FOLD].reset_index(drop=True)\n",
    "valid_df = df[df['fold']==CFG.VALID_FOLD].reset_index(drop=True)\n",
    "test_df = df[df['fold']==CFG.TEST_FOLD].reset_index(drop=True)\n",
    "\n",
    "# force label_group to be integers from 0 to (n_class - 1)\n",
    "train_df['label_group'] = labelencoder.fit_transform(train_df['label_group'])\n",
    "\n",
    "print(\"train_df length =\", len(train_df))\n",
    "print(\"train_df classes =\", len(train_df['label_group'].unique()))\n",
    "print(\"valid_df length =\", len(valid_df))\n",
    "print(\"valid_df classes =\", len(valid_df['label_group'].unique()))\n",
    "print(\"test_df length =\", len(test_df))\n",
    "print(\"test_df classes =\", len(test_df['label_group'].unique()))\n",
    "\n",
    "train_dataset = TitleDataset(train_df, 'title', 'label_group')\n",
    "train_dataloader = torch.utils.data.DataLoader(\n",
    "    train_dataset,\n",
    "    batch_size = CFG.batch_size,\n",
    "    num_workers = CFG.num_workers,\n",
    "    pin_memory = True,\n",
    "    shuffle = True,\n",
    "    drop_last = True\n",
    ")\n",
    "\n",
    "valid_dataset = TitleDataset(valid_df, 'title', 'label_group')\n",
    "valid_dataloader = torch.utils.data.DataLoader(\n",
    "    valid_dataset,\n",
    "    batch_size = CFG.batch_size,\n",
    "    num_workers = CFG.num_workers,\n",
    "    pin_memory = True,\n",
    "    shuffle = False,\n",
    "    drop_last = False\n",
    ")\n",
    "\n",
    "test_dataset = TitleDataset(test_df, 'title', 'label_group')\n",
    "test_dataloader = torch.utils.data.DataLoader(\n",
    "    test_dataset,\n",
    "    batch_size = CFG.batch_size,\n",
    "    num_workers = CFG.num_workers,\n",
    "    pin_memory = True,\n",
    "    shuffle = False,\n",
    "    drop_last = False\n",
    ")"
   ]
  },
  {
   "cell_type": "code",
   "execution_count": 14,
   "id": "mysterious-metabolism",
   "metadata": {
    "execution": {
     "iopub.execute_input": "2021-05-18T13:20:34.578570Z",
     "iopub.status.busy": "2021-05-18T13:20:34.578019Z",
     "iopub.status.idle": "2021-05-18T13:20:47.498556Z",
     "shell.execute_reply": "2021-05-18T13:20:47.497980Z"
    },
    "papermill": {
     "duration": 12.943014,
     "end_time": "2021-05-18T13:20:47.498694",
     "exception": false,
     "start_time": "2021-05-18T13:20:34.555680",
     "status": "completed"
    },
    "tags": []
   },
   "outputs": [
    {
     "name": "stdout",
     "output_type": "stream",
     "text": [
      "Building Model Backbone for ../input/bert-model-pretrained/bert-base-indonesian-1.5G/bert-base-indonesian-1.5G model\n"
     ]
    }
   ],
   "source": [
    "### Create Model\n",
    "\n",
    "model = ShopeeBertModel()\n",
    "model.to(CFG.device);"
   ]
  },
  {
   "cell_type": "code",
   "execution_count": 15,
   "id": "emotional-choice",
   "metadata": {
    "execution": {
     "iopub.execute_input": "2021-05-18T13:20:47.544679Z",
     "iopub.status.busy": "2021-05-18T13:20:47.544158Z",
     "iopub.status.idle": "2021-05-18T13:20:53.160094Z",
     "shell.execute_reply": "2021-05-18T13:20:53.161133Z"
    },
    "papermill": {
     "duration": 5.642578,
     "end_time": "2021-05-18T13:20:53.161466",
     "exception": false,
     "start_time": "2021-05-18T13:20:47.518888",
     "status": "completed"
    },
    "tags": []
   },
   "outputs": [
    {
     "name": "stdout",
     "output_type": "stream",
     "text": [
      "lr_start\n",
      "------------------------------\n",
      "Parameter Group 0 : 7.5e-06\n",
      "Parameter Group 1 : 1.5e-05\n",
      "Parameter Group 2 : 1.5e-05\n",
      "Parameter Group 3 : 1.5e-05\n"
     ]
    }
   ],
   "source": [
    "### Create Optimizer\n",
    "\n",
    "optimizer_grouped_parameters = [\n",
    "    {'params': model.backbone.parameters(), 'lr': CFG.scheduler_params['lr_start']},\n",
    "    {'params': model.classifier.parameters(), 'lr': CFG.scheduler_params['lr_start'] * 2},\n",
    "    {'params': model.bn.parameters(), 'lr': CFG.scheduler_params['lr_start'] * 2},\n",
    "    {'params': model.final.parameters(), 'lr': CFG.scheduler_params['lr_start'] * 2},\n",
    "]\n",
    "\n",
    "if CFG.use_sam:\n",
    "    from transformers import AdamW\n",
    "    optimizer = AdamW\n",
    "    optimizer = SAM(optimizer_grouped_parameters, optimizer)\n",
    "\n",
    "else:\n",
    "    from transformers import AdamW\n",
    "    optimizer = AdamW(optimizer_grouped_parameters)\n",
    "\n",
    "print(\"lr_start\")\n",
    "print(\"-\" * 30)\n",
    "for i in range(len(optimizer.param_groups)):\n",
    "    print('Parameter Group ' + str(i) + ' :', optimizer.param_groups[i][\"lr\"])"
   ]
  },
  {
   "cell_type": "code",
   "execution_count": 16,
   "id": "located-voice",
   "metadata": {
    "execution": {
     "iopub.execute_input": "2021-05-18T13:20:53.239733Z",
     "iopub.status.busy": "2021-05-18T13:20:53.238989Z",
     "iopub.status.idle": "2021-05-18T13:20:53.242525Z",
     "shell.execute_reply": "2021-05-18T13:20:53.243152Z"
    },
    "papermill": {
     "duration": 0.045736,
     "end_time": "2021-05-18T13:20:53.243346",
     "exception": false,
     "start_time": "2021-05-18T13:20:53.197610",
     "status": "completed"
    },
    "tags": []
   },
   "outputs": [],
   "source": [
    "### Create Scheduler\n",
    "\n",
    "scheduler_cosine = torch.optim.lr_scheduler.CosineAnnealingLR(optimizer, T_max=CFG.cosine_epo-2, eta_min=CFG.eta_min, last_epoch=-1)\n",
    "scheduler = GradualWarmupSchedulerV2(optimizer, multiplier=CFG.multiplier, total_epoch=CFG.warmup_epo,\n",
    "                                     after_scheduler=scheduler_cosine)"
   ]
  },
  {
   "cell_type": "markdown",
   "id": "painted-irrigation",
   "metadata": {
    "papermill": {
     "duration": 0.03319,
     "end_time": "2021-05-18T13:20:53.311117",
     "exception": false,
     "start_time": "2021-05-18T13:20:53.277927",
     "status": "completed"
    },
    "tags": []
   },
   "source": [
    "# Training and Validation"
   ]
  },
  {
   "cell_type": "code",
   "execution_count": 17,
   "id": "breathing-greensboro",
   "metadata": {
    "execution": {
     "iopub.execute_input": "2021-05-18T13:20:53.385518Z",
     "iopub.status.busy": "2021-05-18T13:20:53.384771Z",
     "iopub.status.idle": "2021-05-18T13:20:53.387839Z",
     "shell.execute_reply": "2021-05-18T13:20:53.386124Z"
    },
    "papermill": {
     "duration": 0.042697,
     "end_time": "2021-05-18T13:20:53.387984",
     "exception": false,
     "start_time": "2021-05-18T13:20:53.345287",
     "status": "completed"
    },
    "tags": []
   },
   "outputs": [
    {
     "name": "stdout",
     "output_type": "stream",
     "text": [
      "Training epochs = 8\n"
     ]
    }
   ],
   "source": [
    "print(\"Training epochs =\", CFG.epochs)"
   ]
  },
  {
   "cell_type": "code",
   "execution_count": 18,
   "id": "conventional-footwear",
   "metadata": {
    "execution": {
     "iopub.execute_input": "2021-05-18T13:20:53.447764Z",
     "iopub.status.busy": "2021-05-18T13:20:53.447222Z",
     "iopub.status.idle": "2021-05-18T13:55:11.522312Z",
     "shell.execute_reply": "2021-05-18T13:55:11.523589Z"
    },
    "papermill": {
     "duration": 2058.10441,
     "end_time": "2021-05-18T13:55:11.523839",
     "exception": false,
     "start_time": "2021-05-18T13:20:53.419429",
     "status": "completed"
    },
    "tags": []
   },
   "outputs": [
    {
     "name": "stderr",
     "output_type": "stream",
     "text": [
      "Training epoch: 1: 100%|█████████████| 1284/1284 [03:56<00:00,  5.42it/s, loss=25.487097, LR=7.5e-6]\n",
      "get_bert_embeddings: 100%|████████████████████| 216/216 [00:09<00:00, 23.16it/s]\n",
      "Training epoch: 2:   0%|                                                   | 0/1284 [00:00<?, ?it/s]"
     ]
    },
    {
     "name": "stdout",
     "output_type": "stream",
     "text": [
      "Valid f1 score = 0.1572393496835358\n"
     ]
    },
    {
     "name": "stderr",
     "output_type": "stream",
     "text": [
      "Training epoch: 2: 100%|████████████| 1284/1284 [03:55<00:00,  5.45it/s, loss=22.502510, LR=5.38e-5]\n",
      "get_bert_embeddings: 100%|████████████████████| 216/216 [00:09<00:00, 23.21it/s]\n",
      "Training epoch: 3:   0%|                                                   | 0/1284 [00:00<?, ?it/s]"
     ]
    },
    {
     "name": "stdout",
     "output_type": "stream",
     "text": [
      "Valid f1 score = 0.1808032331477594\n"
     ]
    },
    {
     "name": "stderr",
     "output_type": "stream",
     "text": [
      "Training epoch: 3: 100%|█████████████| 1284/1284 [04:08<00:00,  5.18it/s, loss=18.065593, LR=0.0001]\n",
      "get_bert_embeddings: 100%|████████████████████| 216/216 [00:09<00:00, 22.86it/s]\n"
     ]
    },
    {
     "name": "stdout",
     "output_type": "stream",
     "text": [
      "Valid f1 score = 0.18040569907552695\n",
      "[2021-05-18 13:33:30.511641] Valid f1 score improved. Saving model weights to ./bert-base-indonesian-1.5G_epoch8-bs16x1.pt\n"
     ]
    },
    {
     "name": "stderr",
     "output_type": "stream",
     "text": [
      "Training epoch: 4: 100%|█████████████| 1284/1284 [04:21<00:00,  4.92it/s, loss=13.319436, LR=0.0001]\n",
      "get_bert_embeddings: 100%|████████████████████| 216/216 [00:09<00:00, 23.17it/s]\n"
     ]
    },
    {
     "name": "stdout",
     "output_type": "stream",
     "text": [
      "Valid f1 score = 0.24497955243028108\n",
      "[2021-05-18 13:38:04.831899] Valid f1 score improved. Saving model weights to ./bert-base-indonesian-1.5G_epoch8-bs16x1.pt\n"
     ]
    },
    {
     "name": "stderr",
     "output_type": "stream",
     "text": [
      "Training epoch: 5: 100%|█████████████| 1284/1284 [04:06<00:00,  5.22it/s, loss=9.282748, LR=8.94e-5]\n",
      "get_bert_embeddings: 100%|████████████████████| 216/216 [00:09<00:00, 23.23it/s]\n"
     ]
    },
    {
     "name": "stdout",
     "output_type": "stream",
     "text": [
      "Valid f1 score = 0.5931734175550923\n",
      "[2021-05-18 13:42:24.016596] Valid f1 score improved. Saving model weights to ./bert-base-indonesian-1.5G_epoch8-bs16x1.pt\n"
     ]
    },
    {
     "name": "stderr",
     "output_type": "stream",
     "text": [
      "Training epoch: 6: 100%|█████████████| 1284/1284 [04:03<00:00,  5.27it/s, loss=5.933905, LR=6.37e-5]\n",
      "get_bert_embeddings: 100%|████████████████████| 216/216 [00:09<00:00, 23.20it/s]\n"
     ]
    },
    {
     "name": "stdout",
     "output_type": "stream",
     "text": [
      "Valid f1 score = 0.7086133306504936\n",
      "[2021-05-18 13:46:40.903354] Valid f1 score improved. Saving model weights to ./bert-base-indonesian-1.5G_epoch8-bs16x1.pt\n"
     ]
    },
    {
     "name": "stderr",
     "output_type": "stream",
     "text": [
      "Training epoch: 7: 100%|██████████████| 1284/1284 [04:01<00:00,  5.33it/s, loss=3.653557, LR=3.8e-5]\n",
      "get_bert_embeddings: 100%|████████████████████| 216/216 [00:09<00:00, 23.24it/s]\n"
     ]
    },
    {
     "name": "stdout",
     "output_type": "stream",
     "text": [
      "Valid f1 score = 0.757509142918965\n",
      "[2021-05-18 13:50:55.387381] Valid f1 score improved. Saving model weights to ./bert-base-indonesian-1.5G_epoch8-bs16x1.pt\n"
     ]
    },
    {
     "name": "stderr",
     "output_type": "stream",
     "text": [
      "Training epoch: 8: 100%|█████████████| 1284/1284 [04:01<00:00,  5.32it/s, loss=2.555960, LR=2.74e-5]\n",
      "get_bert_embeddings: 100%|████████████████████| 216/216 [00:09<00:00, 23.23it/s]\n"
     ]
    },
    {
     "name": "stdout",
     "output_type": "stream",
     "text": [
      "Valid f1 score = 0.7718306064243161\n",
      "[2021-05-18 13:55:09.994754] Valid f1 score improved. Saving model weights to ./bert-base-indonesian-1.5G_epoch8-bs16x1.pt\n"
     ]
    }
   ],
   "source": [
    "max_f1_valid = 0.\n",
    "\n",
    "for epoch in range(CFG.epochs):\n",
    "    model, avg_loss_train = train_fn(model, train_dataloader, optimizer, scheduler,\n",
    "                                     CFG.use_sam, CFG.accum_iter, epoch, CFG.device, CFG.use_amp)\n",
    "\n",
    "    valid_embeddings = get_bert_embeddings(valid_df, 'title', model)\n",
    "    valid_predictions = get_neighbors(valid_df, valid_embeddings.detach().cpu().numpy(),\n",
    "                                      knn=CFG.bert_knn if len(df) > 3 else 3, threshold=CFG.bert_knn_threshold)\n",
    "\n",
    "    valid_df['oof'] = valid_predictions\n",
    "    valid_df['f1'] = valid_df.apply(getMetric('oof'), axis=1)\n",
    "    valid_f1 = valid_df.f1.mean()\n",
    "    print('Valid f1 score =', valid_f1)\n",
    "\n",
    "    if (epoch >= CFG.min_save_epoch) and (valid_f1 > max_f1_valid):\n",
    "        print(f\"[{datetime.datetime.now()}] Valid f1 score improved. Saving model weights to {CFG.save_model_path}\")\n",
    "        max_f1_valid = valid_f1\n",
    "        torch.save(model.state_dict(), CFG.save_model_path)\n"
   ]
  },
  {
   "cell_type": "markdown",
   "id": "ongoing-upset",
   "metadata": {
    "papermill": {
     "duration": 5.700133,
     "end_time": "2021-05-18T13:55:22.818130",
     "exception": false,
     "start_time": "2021-05-18T13:55:17.117997",
     "status": "completed"
    },
    "tags": []
   },
   "source": [
    "# Best threshold Search"
   ]
  },
  {
   "cell_type": "code",
   "execution_count": 19,
   "id": "satellite-holiday",
   "metadata": {
    "execution": {
     "iopub.execute_input": "2021-05-18T13:55:34.351447Z",
     "iopub.status.busy": "2021-05-18T13:55:34.350613Z",
     "iopub.status.idle": "2021-05-18T13:57:13.998800Z",
     "shell.execute_reply": "2021-05-18T13:57:13.999516Z"
    },
    "papermill": {
     "duration": 105.712904,
     "end_time": "2021-05-18T13:57:13.999723",
     "exception": false,
     "start_time": "2021-05-18T13:55:28.286819",
     "status": "completed"
    },
    "tags": []
   },
   "outputs": [
    {
     "name": "stdout",
     "output_type": "stream",
     "text": [
      "Searching best threshold...\n"
     ]
    },
    {
     "name": "stderr",
     "output_type": "stream",
     "text": [
      "get_bert_embeddings: 100%|████████████████████| 216/216 [00:09<00:00, 23.20it/s]\n"
     ]
    },
    {
     "name": "stdout",
     "output_type": "stream",
     "text": [
      "threshold = 0.1 -> f1 score = 0.6062647945852675\n",
      "threshold = 0.11 -> f1 score = 0.6185313443257774\n",
      "threshold = 0.12 -> f1 score = 0.6315525496760215\n",
      "threshold = 0.13 -> f1 score = 0.6452734342332095\n",
      "threshold = 0.14 -> f1 score = 0.6561216669840119\n",
      "threshold = 0.15 -> f1 score = 0.6674460580401225\n",
      "threshold = 0.16 -> f1 score = 0.677231079196207\n",
      "threshold = 0.17 -> f1 score = 0.6871751316235984\n",
      "threshold = 0.18 -> f1 score = 0.699333057257373\n",
      "threshold = 0.19 -> f1 score = 0.7097000887834299\n",
      "threshold = 0.2 -> f1 score = 0.7202266142426226\n",
      "threshold = 0.21 -> f1 score = 0.7302983447358685\n",
      "threshold = 0.22 -> f1 score = 0.7379432072445401\n",
      "threshold = 0.23 -> f1 score = 0.7455867981880487\n",
      "threshold = 0.24 -> f1 score = 0.7545194548542349\n",
      "threshold = 0.25 -> f1 score = 0.761978811132891\n",
      "threshold = 0.26 -> f1 score = 0.7681565507961216\n",
      "threshold = 0.27 -> f1 score = 0.7735310382495472\n",
      "threshold = 0.28 -> f1 score = 0.7789074795767977\n",
      "threshold = 0.29 -> f1 score = 0.7828472003474787\n",
      "threshold = 0.3 -> f1 score = 0.7869161379817102\n",
      "threshold = 0.31 -> f1 score = 0.7898886119638397\n",
      "threshold = 0.32 -> f1 score = 0.7919547355374045\n",
      "threshold = 0.33 -> f1 score = 0.7948247716396607\n",
      "threshold = 0.34 -> f1 score = 0.7955535710442739\n",
      "threshold = 0.35 -> f1 score = 0.7952014692796661\n",
      "threshold = 0.36 -> f1 score = 0.7940612072029233\n",
      "threshold = 0.37 -> f1 score = 0.7911209881805088\n",
      "threshold = 0.38 -> f1 score = 0.7868788331375653\n",
      "threshold = 0.39 -> f1 score = 0.7813732861011649\n",
      "threshold = 0.4 -> f1 score = 0.7718306064243161\n",
      "threshold = 0.41 -> f1 score = 0.7614535829120346\n",
      "threshold = 0.42 -> f1 score = 0.7483841462708639\n",
      "threshold = 0.43 -> f1 score = 0.7332986065672407\n",
      "threshold = 0.44 -> f1 score = 0.7131627248779165\n",
      "threshold = 0.45 -> f1 score = 0.6887656707265802\n",
      "threshold = 0.46 -> f1 score = 0.6578440601053167\n",
      "threshold = 0.47 -> f1 score = 0.6223024787995505\n",
      "threshold = 0.48 -> f1 score = 0.5826201995342107\n",
      "threshold = 0.49 -> f1 score = 0.5380987918652927\n",
      "Best threshold = 0.34\n",
      "Best f1 score = 0.7955535710442739\n"
     ]
    }
   ],
   "source": [
    "print(\"Searching best threshold...\")\n",
    "\n",
    "search_space = np.arange(10, 50, 1)\n",
    "\n",
    "model.load_state_dict(torch.load(CFG.save_model_path, map_location=CFG.device))\n",
    "valid_embeddings = get_bert_embeddings(valid_df, 'title', model)\n",
    "\n",
    "best_f1_valid = 0.\n",
    "best_threshold = 0.\n",
    "\n",
    "for i in search_space:\n",
    "    threshold = i / 100\n",
    "    valid_predictions = get_neighbors(valid_df, valid_embeddings.detach().cpu().numpy(),\n",
    "                                      knn=CFG.bert_knn if len(df) > 3 else 3, threshold=threshold)\n",
    "\n",
    "    valid_df['oof'] = valid_predictions\n",
    "    valid_df['f1'] = valid_df.apply(getMetric('oof'), axis=1)\n",
    "    valid_f1 = valid_df.f1.mean()\n",
    "    print(f\"threshold = {threshold} -> f1 score = {valid_f1}\")\n",
    "\n",
    "    if (valid_f1 > best_f1_valid):\n",
    "        best_f1_valid = valid_f1\n",
    "        best_threshold = threshold\n",
    "\n",
    "print(\"Best threshold =\", best_threshold)\n",
    "print(\"Best f1 score =\", best_f1_valid)\n",
    "BEST_THRESHOLD = best_threshold"
   ]
  },
  {
   "cell_type": "code",
   "execution_count": 20,
   "id": "promising-daughter",
   "metadata": {
    "execution": {
     "iopub.execute_input": "2021-05-18T13:57:25.091999Z",
     "iopub.status.busy": "2021-05-18T13:57:25.091057Z",
     "iopub.status.idle": "2021-05-18T13:58:08.557893Z",
     "shell.execute_reply": "2021-05-18T13:58:08.558515Z"
    },
    "papermill": {
     "duration": 49.150605,
     "end_time": "2021-05-18T13:58:08.558706",
     "exception": false,
     "start_time": "2021-05-18T13:57:19.408101",
     "status": "completed"
    },
    "tags": []
   },
   "outputs": [
    {
     "name": "stdout",
     "output_type": "stream",
     "text": [
      "Searching best knn...\n",
      "knn = 40 -> f1 score = 0.7949394703567312\n",
      "knn = 42 -> f1 score = 0.795107722183224\n",
      "knn = 44 -> f1 score = 0.7952660062389761\n",
      "knn = 46 -> f1 score = 0.7953938435826882\n",
      "knn = 48 -> f1 score = 0.7954948403114982\n",
      "knn = 50 -> f1 score = 0.7955535710442739\n",
      "knn = 52 -> f1 score = 0.7955062321233712\n",
      "knn = 54 -> f1 score = 0.7954644029827579\n",
      "knn = 56 -> f1 score = 0.7954644029827579\n",
      "knn = 58 -> f1 score = 0.7954644029827579\n",
      "knn = 60 -> f1 score = 0.7954644029827579\n",
      "knn = 62 -> f1 score = 0.7954644029827579\n",
      "knn = 64 -> f1 score = 0.7954644029827579\n",
      "knn = 66 -> f1 score = 0.7954644029827579\n",
      "knn = 68 -> f1 score = 0.7954644029827579\n",
      "knn = 70 -> f1 score = 0.7954644029827579\n",
      "knn = 72 -> f1 score = 0.7954644029827579\n",
      "knn = 74 -> f1 score = 0.7954644029827579\n",
      "knn = 76 -> f1 score = 0.7954644029827579\n",
      "knn = 78 -> f1 score = 0.7954644029827579\n",
      "Best knn = 50\n",
      "Best f1 score = 0.7955535710442739\n"
     ]
    }
   ],
   "source": [
    "print(\"Searching best knn...\")\n",
    "\n",
    "search_space = np.arange(40, 80, 2)\n",
    "\n",
    "best_f1_valid = 0.\n",
    "best_knn = 0\n",
    "\n",
    "for knn in search_space:\n",
    "\n",
    "    valid_predictions = get_neighbors(valid_df, valid_embeddings.detach().cpu().numpy(),\n",
    "                                      knn=knn, threshold=BEST_THRESHOLD)\n",
    "\n",
    "    valid_df['oof'] = valid_predictions\n",
    "    valid_df['f1'] = valid_df.apply(getMetric('oof'), axis=1)\n",
    "    valid_f1 = valid_df.f1.mean()\n",
    "    print(f\"knn = {knn} -> f1 score = {valid_f1}\")\n",
    "\n",
    "    if (valid_f1 > best_f1_valid):\n",
    "        best_f1_valid = valid_f1\n",
    "        BEST_KNN = knn\n",
    "\n",
    "print(\"Best knn =\", BEST_KNN)\n",
    "print(\"Best f1 score =\", best_f1_valid)"
   ]
  },
  {
   "cell_type": "markdown",
   "id": "satisfactory-recall",
   "metadata": {
    "papermill": {
     "duration": 5.592846,
     "end_time": "2021-05-18T13:58:20.033338",
     "exception": false,
     "start_time": "2021-05-18T13:58:14.440492",
     "status": "completed"
    },
    "tags": []
   },
   "source": [
    "# Find Test F1 Score"
   ]
  },
  {
   "cell_type": "code",
   "execution_count": 21,
   "id": "charged-qatar",
   "metadata": {
    "execution": {
     "iopub.execute_input": "2021-05-18T13:58:31.101374Z",
     "iopub.status.busy": "2021-05-18T13:58:31.100233Z",
     "iopub.status.idle": "2021-05-18T13:58:42.619898Z",
     "shell.execute_reply": "2021-05-18T13:58:42.620633Z"
    },
    "papermill": {
     "duration": 17.175604,
     "end_time": "2021-05-18T13:58:42.620860",
     "exception": false,
     "start_time": "2021-05-18T13:58:25.445256",
     "status": "completed"
    },
    "tags": []
   },
   "outputs": [
    {
     "name": "stderr",
     "output_type": "stream",
     "text": [
      "get_bert_embeddings: 100%|████████████████████| 216/216 [00:09<00:00, 23.56it/s]\n"
     ]
    },
    {
     "name": "stdout",
     "output_type": "stream",
     "text": [
      "Test f1 score = 0.8127319219732315\n"
     ]
    }
   ],
   "source": [
    "test_embeddings = get_bert_embeddings(test_df, 'title', model)\n",
    "test_predictions = get_neighbors(test_df, test_embeddings.detach().cpu().numpy(),\n",
    "                                      knn=BEST_KNN, threshold=BEST_THRESHOLD)\n",
    "\n",
    "test_df['oof'] = test_predictions\n",
    "test_df['f1'] = test_df.apply(getMetric('oof'), axis=1)\n",
    "test_f1 = test_df.f1.mean()\n",
    "print(\"Test f1 score =\", test_f1)"
   ]
  },
  {
   "cell_type": "code",
   "execution_count": 22,
   "id": "orange-fitness",
   "metadata": {
    "execution": {
     "iopub.execute_input": "2021-05-18T13:58:53.996322Z",
     "iopub.status.busy": "2021-05-18T13:58:53.995694Z",
     "iopub.status.idle": "2021-05-18T13:58:53.998996Z",
     "shell.execute_reply": "2021-05-18T13:58:53.998491Z"
    },
    "papermill": {
     "duration": 5.63956,
     "end_time": "2021-05-18T13:58:53.999110",
     "exception": false,
     "start_time": "2021-05-18T13:58:48.359550",
     "status": "completed"
    },
    "tags": []
   },
   "outputs": [
    {
     "name": "stdout",
     "output_type": "stream",
     "text": [
      "Elapsed time: 38 min 24 sec\n",
      "2021-05-18 13:58:53.993660\n"
     ]
    }
   ],
   "source": [
    "time_elapsed = time.time() - start_time\n",
    "print('Elapsed time: {:.0f} min {:.0f} sec'.format(time_elapsed // 60, time_elapsed % 60))\n",
    "print(datetime.datetime.now())"
   ]
  }
 ],
 "metadata": {
  "kernelspec": {
   "display_name": "Python 3",
   "language": "python",
   "name": "python3"
  },
  "language_info": {
   "codemirror_mode": {
    "name": "ipython",
    "version": 3
   },
   "file_extension": ".py",
   "mimetype": "text/x-python",
   "name": "python",
   "nbconvert_exporter": "python",
   "pygments_lexer": "ipython3",
   "version": "3.7.10"
  },
  "papermill": {
   "default_parameters": {},
   "duration": 2319.807397,
   "end_time": "2021-05-18T13:59:02.376554",
   "environment_variables": {},
   "exception": null,
   "input_path": "__notebook__.ipynb",
   "output_path": "__notebook__.ipynb",
   "parameters": {},
   "start_time": "2021-05-18T13:20:22.569157",
   "version": "2.3.3"
  }
 },
 "nbformat": 4,
 "nbformat_minor": 5
}

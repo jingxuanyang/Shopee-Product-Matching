{
 "metadata": {
  "language_info": {
   "codemirror_mode": {
    "name": "ipython",
    "version": 3
   },
   "file_extension": ".py",
   "mimetype": "text/x-python",
   "name": "python",
   "nbconvert_exporter": "python",
   "pygments_lexer": "ipython3",
   "version": "3.8.3"
  },
  "orig_nbformat": 2,
  "kernelspec": {
   "name": "python383jvsc74a57bd00b64f3f517ef2f38123c9b9d844dc7ba7aeffcc4559b7061ceea5f8a66fe5b86",
   "display_name": "Python 3.8.3 64-bit ('base': conda)"
  }
 },
 "nbformat": 4,
 "nbformat_minor": 2,
 "cells": [
  {
   "cell_type": "code",
   "execution_count": 1,
   "metadata": {},
   "outputs": [],
   "source": [
    "import sys\n",
    "sys.path.insert(0,'../input/shopee-competition-utils')\n",
    "\n",
    "from config import CFG\n",
    "from run_ensemble import run_tfidf_resnet_ensemble"
   ]
  },
  {
   "cell_type": "code",
   "execution_count": 2,
   "metadata": {},
   "outputs": [
    {
     "output_type": "stream",
     "name": "stdout",
     "text": [
      "Our title text embedding shape is (6849, 9440)\n",
      "Our title text embedding shape is (6851, 9433)\n",
      "Loading ../input/image-embeddings/resnet50_arc_face_epoch_8_bs_8_margin_0.6_test_embed.csv ...\n",
      "Loading ../input/image-embeddings/resnet50_arc_face_epoch_8_bs_8_margin_0.6_valid_embed.csv ...\n",
      "Searching best threshold...\n",
      "threshold = 0.01 -> f1 score = 0.46397191867511145, recall = 0.32466484977949767, precision = 1.0\n",
      "threshold = 0.02 -> f1 score = 0.4669087621512962, recall = 0.32785975273348966, precision = 1.0\n",
      "threshold = 0.03 -> f1 score = 0.4697470646353446, recall = 0.33091517000422943, precision = 1.0\n",
      "threshold = 0.04 -> f1 score = 0.47329208760217123, recall = 0.33461558201929503, precision = 1.0\n",
      "threshold = 0.05 -> f1 score = 0.4763148372602015, recall = 0.33766234834854786, precision = 1.0\n",
      "threshold = 0.06 -> f1 score = 0.4810278877847895, recall = 0.3426117043059946, precision = 1.0\n",
      "threshold = 0.07 -> f1 score = 0.48613471570183947, recall = 0.34781817150519606, precision = 1.0\n",
      "threshold = 0.08 -> f1 score = 0.4906121746654305, recall = 0.3527681717788272, precision = 1.0\n",
      "threshold = 0.09 -> f1 score = 0.4952961665917013, recall = 0.3581436681620278, precision = 1.0\n",
      "threshold = 0.1 -> f1 score = 0.49984500725101794, recall = 0.3629677198490823, precision = 1.0\n",
      "threshold = 0.11 -> f1 score = 0.505973828483498, recall = 0.36956639936008073, precision = 1.0\n",
      "threshold = 0.12 -> f1 score = 0.5119992779396466, recall = 0.37619761840208554, precision = 1.0\n",
      "threshold = 0.13 -> f1 score = 0.5167627978358178, recall = 0.3813007113135724, precision = 0.9998539932836911\n",
      "threshold = 0.14 -> f1 score = 0.5228712141034022, recall = 0.38802080840366776, precision = 0.9998539932836911\n",
      "threshold = 0.15 -> f1 score = 0.52933824214121, recall = 0.3952976486360407, precision = 0.9998539932836911\n",
      "threshold = 0.16 -> f1 score = 0.5369770347988613, recall = 0.4037188392929126, precision = 0.9996349832092276\n",
      "threshold = 0.17 -> f1 score = 0.5448943293705925, recall = 0.41248612830372977, precision = 0.9996349832092276\n",
      "threshold = 0.18 -> f1 score = 0.5527681082407463, recall = 0.42142391278775126, precision = 0.9996349832092276\n",
      "threshold = 0.19 -> f1 score = 0.5603912982101411, recall = 0.42957134549037984, precision = 0.9994281403611234\n",
      "threshold = 0.2 -> f1 score = 0.5683961909153458, recall = 0.4388681548113319, precision = 0.999233464739378\n",
      "threshold = 0.21 -> f1 score = 0.5765487990379358, recall = 0.44875853369541585, precision = 0.9987954445904513\n",
      "threshold = 0.22 -> f1 score = 0.5856398728615438, recall = 0.45929753908491466, precision = 0.9985034311578334\n",
      "threshold = 0.23 -> f1 score = 0.5945443466437226, recall = 0.46951938720071035, precision = 0.998126247140702\n",
      "threshold = 0.24 -> f1 score = 0.6030098137356685, recall = 0.47971834341692565, precision = 0.9974181145666036\n",
      "threshold = 0.25 -> f1 score = 0.6141917908959973, recall = 0.4928149912744403, precision = 0.997174770039422\n",
      "threshold = 0.26 -> f1 score = 0.6235930927353609, recall = 0.5044106685491765, precision = 0.9965000104290513\n",
      "threshold = 0.27 -> f1 score = 0.6338361412942688, recall = 0.5168529699569385, precision = 0.9956297729622302\n",
      "threshold = 0.28 -> f1 score = 0.6434858274517606, recall = 0.5284289670798258, precision = 0.9952002698717546\n",
      "threshold = 0.29 -> f1 score = 0.6531787167683517, recall = 0.5404595304325184, precision = 0.9944611977792005\n",
      "threshold = 0.3 -> f1 score = 0.6645923439171849, recall = 0.5549092692311987, precision = 0.9939706758256912\n",
      "threshold = 0.31 -> f1 score = 0.6760845246285057, recall = 0.5695740069849897, precision = 0.9934047391504689\n",
      "threshold = 0.32 -> f1 score = 0.6868331022898234, recall = 0.5832580056728257, precision = 0.9927361500620375\n",
      "threshold = 0.33 -> f1 score = 0.6983939582081762, recall = 0.5979928919588886, precision = 0.9920450013638804\n",
      "threshold = 0.34 -> f1 score = 0.708852301829024, recall = 0.6116639412214466, precision = 0.9912168714950145\n",
      "threshold = 0.35 -> f1 score = 0.7193391857703574, recall = 0.6254495183859025, precision = 0.9901723578574215\n",
      "threshold = 0.36 -> f1 score = 0.7305702837955566, recall = 0.6404024458230924, precision = 0.9892054016780258\n",
      "threshold = 0.37 -> f1 score = 0.7415318979349754, recall = 0.6551555015588706, precision = 0.9875745301661927\n",
      "threshold = 0.38 -> f1 score = 0.7514667486785407, recall = 0.6685605592169418, precision = 0.9858032648163028\n",
      "threshold = 0.39 -> f1 score = 0.7611391924128424, recall = 0.6820145872113746, precision = 0.9842840179835496\n",
      "threshold = 0.4 -> f1 score = 0.7694647859343556, recall = 0.6939591421147463, precision = 0.9826537308684768\n",
      "threshold = 0.41 -> f1 score = 0.7783314304233473, recall = 0.7066153792554777, precision = 0.9804403190045698\n",
      "threshold = 0.42 -> f1 score = 0.7879148210897949, recall = 0.7208425777647581, precision = 0.978363295570134\n",
      "threshold = 0.43 -> f1 score = 0.7959511647911931, recall = 0.7331808101201124, precision = 0.9759910612111024\n",
      "threshold = 0.44 -> f1 score = 0.8036902770557619, recall = 0.7449535229510629, precision = 0.97427648519992\n",
      "threshold = 0.45 -> f1 score = 0.8110639494313012, recall = 0.7562891456262609, precision = 0.9716258764282724\n",
      "threshold = 0.46 -> f1 score = 0.8175889618239557, recall = 0.7669594507185232, precision = 0.9690920432456906\n",
      "threshold = 0.47 -> f1 score = 0.8238401275370726, recall = 0.7778254901219714, precision = 0.9658143421784496\n",
      "threshold = 0.48 -> f1 score = 0.8303391558002642, recall = 0.7888967076015961, precision = 0.9632926265401843\n",
      "threshold = 0.49 -> f1 score = 0.8354426618918387, recall = 0.7984339761983673, precision = 0.9593857221657789\n",
      "threshold = 0.5 -> f1 score = 0.8395357670980474, recall = 0.8070279329585524, precision = 0.9553475808337233\n",
      "threshold = 0.51 -> f1 score = 0.845487212028137, recall = 0.8180682475270364, precision = 0.9518904141130357\n",
      "threshold = 0.52 -> f1 score = 0.8496508038307534, recall = 0.8268100791303504, precision = 0.9477691674031726\n",
      "threshold = 0.53 -> f1 score = 0.8528888617863847, recall = 0.834894528401391, precision = 0.9436415100830104\n",
      "threshold = 0.54 -> f1 score = 0.8558211350041004, recall = 0.8433622185638489, precision = 0.938209318918007\n",
      "threshold = 0.55 -> f1 score = 0.8596797188441505, recall = 0.8531940349512153, precision = 0.9334394370930472\n",
      "threshold = 0.56 -> f1 score = 0.8634356767004179, recall = 0.8631520248776742, precision = 0.9285847522810495\n",
      "threshold = 0.57 -> f1 score = 0.863815645152623, recall = 0.8702635739927985, precision = 0.9210527914838079\n",
      "threshold = 0.58 -> f1 score = 0.8651779491038646, recall = 0.8788325068936931, precision = 0.9137747048892768\n",
      "threshold = 0.59 -> f1 score = 0.8646277106887555, recall = 0.8850594333155518, precision = 0.9060629791184157\n",
      "Best threshold = 0.58\n",
      "Best f1 score = 0.8651779491038646\n",
      "________________________________\n",
      "Searching best min2 threshold...\n",
      "min2 threshold = 0.58 -> f1 score = 0.8651779491038646, recall = 0.8788325068936931, precision = 0.9137747048892768\n",
      "min2 threshold = 0.585 -> f1 score = 0.865516545631686, recall = 0.8794530354380059, precision = 0.91333668474035\n",
      "min2 threshold = 0.59 -> f1 score = 0.866052598861563, recall = 0.880431280437276, precision = 0.9128256612332687\n",
      "min2 threshold = 0.595 -> f1 score = 0.8664231956403944, recall = 0.881184431748903, precision = 0.9122416343680328\n",
      "min2 threshold = 0.6 -> f1 score = 0.8669202673945837, recall = 0.8820511765881097, precision = 0.9117306108609515\n",
      "min2 threshold = 0.605 -> f1 score = 0.8674806550771789, recall = 0.8828955820974299, precision = 0.9114385974283337\n",
      "min2 threshold = 0.6099999999999999 -> f1 score = 0.868006163377545, recall = 0.8836756751245665, precision = 0.9110735806375613\n",
      "min2 threshold = 0.6149999999999999 -> f1 score = 0.8686260768752506, recall = 0.8847100595360861, precision = 0.9107085638467889\n",
      "min2 threshold = 0.6199999999999999 -> f1 score = 0.8688997013056862, recall = 0.8852746188391474, precision = 0.9101975403397077\n",
      "min2 threshold = 0.6249999999999999 -> f1 score = 0.8694707708649291, recall = 0.8862277182372753, precision = 0.9098325235489353\n",
      "min2 threshold = 0.6299999999999999 -> f1 score = 0.869806903924473, recall = 0.8868719677607085, precision = 0.9093215000418539\n",
      "min2 threshold = 0.6349999999999999 -> f1 score = 0.8701289090500992, recall = 0.8874616102688793, precision = 0.9088834798929271\n",
      "min2 threshold = 0.6399999999999999 -> f1 score = 0.8704549907165225, recall = 0.8881916438504239, precision = 0.9081534463113823\n",
      "min2 threshold = 0.645 -> f1 score = 0.8706969447035485, recall = 0.888689564190657, precision = 0.9077884295206099\n",
      "min2 threshold = 0.65 -> f1 score = 0.871235768479341, recall = 0.8896897101973733, precision = 0.9071313992972196\n",
      "min2 threshold = 0.655 -> f1 score = 0.8713114265050649, recall = 0.8899598226225448, precision = 0.9066933791482926\n",
      "min2 threshold = 0.66 -> f1 score = 0.8716361176313326, recall = 0.890749756395396, precision = 0.9059633455667478\n",
      "min2 threshold = 0.665 -> f1 score = 0.8718327118518084, recall = 0.8912458315958075, precision = 0.9050873052688941\n",
      "min2 threshold = 0.67 -> f1 score = 0.8719611228869213, recall = 0.8916838517447344, precision = 0.904430275045504\n",
      "min2 threshold = 0.675 -> f1 score = 0.8722868569183055, recall = 0.8923773836472019, precision = 0.9039192515384227\n",
      "min2 threshold = 0.68 -> f1 score = 0.8728656692579587, recall = 0.8933507617559281, precision = 0.9035542347476504\n",
      "min2 threshold = 0.685 -> f1 score = 0.8730262766458985, recall = 0.8937644474521369, precision = 0.903043211240569\n",
      "min2 threshold = 0.69 -> f1 score = 0.873313209258718, recall = 0.8942998054119363, precision = 0.9026781944497967\n",
      "min2 threshold = 0.695 -> f1 score = 0.8735771979589749, recall = 0.8949300677373367, precision = 0.9020211642264065\n",
      "min2 threshold = 0.7 -> f1 score = 0.8739073353675177, recall = 0.895607956063057, precision = 0.9015831440774795\n",
      "min2 threshold = 0.705 -> f1 score = 0.8739808755670093, recall = 0.8959028323724653, precision = 0.9011451239285526\n",
      "min2 threshold = 0.71 -> f1 score = 0.8741734653785214, recall = 0.896316518068674, precision = 0.9007801071377803\n",
      "min2 threshold = 0.715 -> f1 score = 0.8742221342839577, recall = 0.8965355281431374, precision = 0.9004880937051624\n",
      "min2 threshold = 0.72 -> f1 score = 0.8740425353746173, recall = 0.89668640174999, precision = 0.8994660466909997\n",
      "min2 threshold = 0.725 -> f1 score = 0.874085989754471, recall = 0.8969054118244535, precision = 0.8991010299002273\n",
      "min2 threshold = 0.73 -> f1 score = 0.8741103242071893, recall = 0.8970514185407624, precision = 0.898882019825764\n",
      "min2 threshold = 0.735 -> f1 score = 0.8742055762078287, recall = 0.8973190975206623, precision = 0.8985170030349916\n",
      "min2 threshold = 0.74 -> f1 score = 0.8743515829241376, recall = 0.8976597798587165, precision = 0.8981519862442191\n",
      "min2 threshold = 0.745 -> f1 score = 0.8745245992179481, recall = 0.8980247966494889, precision = 0.8977869694534467\n",
      "min2 threshold = 0.75 -> f1 score = 0.8745391998895791, recall = 0.8981343016867205, precision = 0.8975679593789833\n",
      "min2 threshold = 0.755 -> f1 score = 0.8745099985463172, recall = 0.8981829705921569, precision = 0.8973489493045198\n",
      "min2 threshold = 0.76 -> f1 score = 0.8745781350139281, recall = 0.8983776462139021, precision = 0.8971299392300564\n",
      "min2 threshold = 0.765 -> f1 score = 0.8746219370288209, recall = 0.8984993184774931, precision = 0.8969839325137474\n",
      "min2 threshold = 0.77 -> f1 score = 0.8745973833467988, recall = 0.8984993184774931, precision = 0.8968379257974385\n",
      "min2 threshold = 0.775 -> f1 score = 0.8745532336968672, recall = 0.8984993184774931, precision = 0.896618915722975\n",
      "min2 threshold = 0.78 -> f1 score = 0.8745045647914308, recall = 0.8984993184774931, precision = 0.8964729090066661\n",
      "Best min2 threshold = 0.765\n",
      "Best f1 score after min2 = 0.8746219370288209\n",
      "f1 score after voting = 0.8695366805244144, recall = 0.8863254573434584, precision = 0.9129531160860938\n",
      "f1 score after min2 and voting = 0.8786987394755588, recall = 0.9048660352229345, precision = 0.8967511017816127\n"
     ]
    }
   ],
   "source": [
    "result_df = run_tfidf_resnet_ensemble()"
   ]
  },
  {
   "cell_type": "code",
   "execution_count": 3,
   "metadata": {},
   "outputs": [
    {
     "output_type": "execute_result",
     "data": {
      "text/plain": [
       "         f1    recall  precision\n",
       "0  0.869537  0.886325   0.912953\n",
       "1  0.878699  0.904866   0.896751"
      ],
      "text/html": "<div>\n<style scoped>\n    .dataframe tbody tr th:only-of-type {\n        vertical-align: middle;\n    }\n\n    .dataframe tbody tr th {\n        vertical-align: top;\n    }\n\n    .dataframe thead th {\n        text-align: right;\n    }\n</style>\n<table border=\"1\" class=\"dataframe\">\n  <thead>\n    <tr style=\"text-align: right;\">\n      <th></th>\n      <th>f1</th>\n      <th>recall</th>\n      <th>precision</th>\n    </tr>\n  </thead>\n  <tbody>\n    <tr>\n      <th>0</th>\n      <td>0.869537</td>\n      <td>0.886325</td>\n      <td>0.912953</td>\n    </tr>\n    <tr>\n      <th>1</th>\n      <td>0.878699</td>\n      <td>0.904866</td>\n      <td>0.896751</td>\n    </tr>\n  </tbody>\n</table>\n</div>"
     },
     "metadata": {},
     "execution_count": 3
    }
   ],
   "source": [
    "result_df"
   ]
  },
  {
   "cell_type": "code",
   "execution_count": 4,
   "metadata": {},
   "outputs": [],
   "source": [
    "result_df.to_csv('../input/shopee-competition-results/tfidf_resnet_ensemble_df.csv', index = False)"
   ]
  }
 ]
}
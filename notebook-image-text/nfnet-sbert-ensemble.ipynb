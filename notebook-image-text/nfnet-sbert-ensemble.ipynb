{
 "metadata": {
  "language_info": {
   "codemirror_mode": {
    "name": "ipython",
    "version": 3
   },
   "file_extension": ".py",
   "mimetype": "text/x-python",
   "name": "python",
   "nbconvert_exporter": "python",
   "pygments_lexer": "ipython3",
   "version": "3.8.3"
  },
  "orig_nbformat": 2,
  "kernelspec": {
   "name": "python383jvsc74a57bd00b64f3f517ef2f38123c9b9d844dc7ba7aeffcc4559b7061ceea5f8a66fe5b86",
   "display_name": "Python 3.8.3 64-bit ('base': conda)"
  }
 },
 "nbformat": 4,
 "nbformat_minor": 2,
 "cells": [
  {
   "cell_type": "code",
   "execution_count": 1,
   "metadata": {},
   "outputs": [],
   "source": [
    "import sys\n",
    "sys.path.insert(0,'../input/shopee-competition-utils')\n",
    "\n",
    "from config import CFG\n",
    "from run_ensemble import run_nfnet_sbert_ensemble"
   ]
  },
  {
   "cell_type": "code",
   "execution_count": 2,
   "metadata": {},
   "outputs": [
    {
     "output_type": "stream",
     "name": "stdout",
     "text": [
      "Loading ../input/image-embeddings/eca_nfnet_l0_arc_face_epoch_8_bs_8_margin_0.9_test_embed.csv ...\n",
      "Loading ../input/image-embeddings/eca_nfnet_l0_arc_face_epoch_8_bs_8_margin_0.9_valid_embed.csv ...\n",
      "Building Model Backbone for sentence-transformers/paraphrase-xlm-r-multilingual-v1 model, margin = 0.8\n",
      "paraphrase-xlm-r-multilingual-v1_epoch8-bs16x1_margin_0.8.pt\n",
      "get_bert_embeddings: 100%|████████████████████| 216/216 [00:06<00:00, 33.83it/s]\n",
      "get_bert_embeddings: 100%|████████████████████| 216/216 [00:05<00:00, 37.05it/s]\n",
      "Searching best threshold...\n",
      "threshold = 0.01 -> f1 score = 0.4671857927003102, recall = 0.32748192103965373, precision = 1.0\n",
      "threshold = 0.02 -> f1 score = 0.4769055581157969, recall = 0.33740701479793983, precision = 1.0\n",
      "threshold = 0.03 -> f1 score = 0.4867462849761247, recall = 0.347889942859313, precision = 1.0\n",
      "threshold = 0.04 -> f1 score = 0.49520628837468356, recall = 0.3569544481085345, precision = 1.0\n",
      "threshold = 0.05 -> f1 score = 0.5040931135276274, recall = 0.3663538227727465, precision = 1.0\n",
      "threshold = 0.06 -> f1 score = 0.5130527542272905, recall = 0.37598503245257714, precision = 0.9998539932836911\n",
      "threshold = 0.07 -> f1 score = 0.5218347567680168, recall = 0.3853626032691958, precision = 0.9998539932836911\n",
      "threshold = 0.08 -> f1 score = 0.5333608790951362, recall = 0.3986019047106341, precision = 0.9995133109456369\n",
      "threshold = 0.09 -> f1 score = 0.5432404036543811, recall = 0.40964008499386756, precision = 0.999391638682046\n",
      "threshold = 0.1 -> f1 score = 0.5535889378481644, recall = 0.4213585265347373, precision = 0.9990996252494281\n",
      "threshold = 0.11 -> f1 score = 0.5636183160027294, recall = 0.4326379375433109, precision = 0.9988684479486056\n",
      "threshold = 0.12 -> f1 score = 0.575923042045822, recall = 0.4467225315477939, precision = 0.9984571956976688\n",
      "threshold = 0.13 -> f1 score = 0.5877017202777096, recall = 0.46059832857191835, precision = 0.9978439674891714\n",
      "threshold = 0.14 -> f1 score = 0.5999289143474188, recall = 0.47468598703889187, precision = 0.9975154523774762\n",
      "threshold = 0.15 -> f1 score = 0.6114027821871494, recall = 0.4884570996159426, precision = 0.9968153154092712\n",
      "threshold = 0.16 -> f1 score = 0.6233928851761543, recall = 0.5027599155436393, precision = 0.9962330267192296\n",
      "threshold = 0.17 -> f1 score = 0.6369297439887468, recall = 0.5191758471966913, precision = 0.9954925640865201\n",
      "threshold = 0.18 -> f1 score = 0.6508091172316115, recall = 0.5363580836928973, precision = 0.994752912602234\n",
      "threshold = 0.19 -> f1 score = 0.664015902545789, recall = 0.5528510356645496, precision = 0.9940976205540378\n",
      "threshold = 0.2 -> f1 score = 0.6763670943972907, recall = 0.5687163440486708, precision = 0.9930832794499026\n",
      "threshold = 0.21 -> f1 score = 0.6881492535079435, recall = 0.5844072802823165, precision = 0.9916411734304857\n",
      "threshold = 0.22 -> f1 score = 0.7000600171684105, recall = 0.6003684773378473, precision = 0.989987410344397\n",
      "threshold = 0.23 -> f1 score = 0.7106041537737687, recall = 0.614298101657229, precision = 0.9893230745179938\n",
      "threshold = 0.24 -> f1 score = 0.7206485905540861, recall = 0.6281567403273529, precision = 0.9877784741012949\n",
      "threshold = 0.25 -> f1 score = 0.7310603524203991, recall = 0.642567517496441, precision = 0.986743367273372\n",
      "threshold = 0.26 -> f1 score = 0.7423741876495918, recall = 0.6584405845799521, precision = 0.9856333823701323\n",
      "threshold = 0.27 -> f1 score = 0.7517187198400328, recall = 0.6714541976320336, precision = 0.983687024839018\n",
      "threshold = 0.28 -> f1 score = 0.7603006511897515, recall = 0.6832682294156271, precision = 0.9821865957487944\n",
      "threshold = 0.29 -> f1 score = 0.7698914873722231, recall = 0.6972052047732598, precision = 0.9804559884224464\n",
      "threshold = 0.3 -> f1 score = 0.7792243982666717, recall = 0.7103405727368514, precision = 0.9794780857063458\n",
      "threshold = 0.31 -> f1 score = 0.7884182078806201, recall = 0.723617969338414, precision = 0.977694411105568\n",
      "threshold = 0.32 -> f1 score = 0.7957655732042471, recall = 0.7342789070341887, precision = 0.975875277761562\n",
      "threshold = 0.33 -> f1 score = 0.803872416485411, recall = 0.7460082872782088, precision = 0.9742265105892757\n",
      "threshold = 0.34 -> f1 score = 0.8124816894142045, recall = 0.7585978978672545, precision = 0.9728377992935047\n",
      "threshold = 0.35 -> f1 score = 0.8200780423521574, recall = 0.7704421584472048, precision = 0.97055719537683\n",
      "threshold = 0.36 -> f1 score = 0.8280274870297918, recall = 0.7824592534628235, precision = 0.9684412744898281\n",
      "threshold = 0.37 -> f1 score = 0.8362214523942714, recall = 0.7953752392670492, precision = 0.9662718082248359\n",
      "threshold = 0.38 -> f1 score = 0.8412513401784381, recall = 0.8046105345890964, precision = 0.963107791984331\n",
      "threshold = 0.39 -> f1 score = 0.8466475829012095, recall = 0.8151726834951586, precision = 0.9589324159684548\n",
      "threshold = 0.4 -> f1 score = 0.8530356552452819, recall = 0.8258219561865104, precision = 0.9565260614192838\n",
      "threshold = 0.41 -> f1 score = 0.8579960122712549, recall = 0.8356676444141126, precision = 0.953107260022001\n",
      "threshold = 0.42 -> f1 score = 0.8621550804520353, recall = 0.8448949595452843, precision = 0.9488247329114644\n",
      "threshold = 0.43 -> f1 score = 0.8653009103877503, recall = 0.8521608270481169, precision = 0.9450210236174363\n",
      "threshold = 0.44 -> f1 score = 0.8692564956064297, recall = 0.8614798715679733, precision = 0.9408225090699197\n",
      "threshold = 0.45 -> f1 score = 0.8727661683759591, recall = 0.8702874357734481, precision = 0.9365465899771385\n",
      "threshold = 0.46 -> f1 score = 0.8771894754969335, recall = 0.8802184651517956, precision = 0.9328099058733544\n",
      "threshold = 0.47 -> f1 score = 0.8784007725310223, recall = 0.8869570973680843, precision = 0.9268656258729011\n",
      "threshold = 0.48 -> f1 score = 0.8789975864974794, recall = 0.893652134802555, precision = 0.9202919244361989\n",
      "threshold = 0.49 -> f1 score = 0.879600327593906, recall = 0.9005663880543708, precision = 0.9137269213489978\n",
      "threshold = 0.5 -> f1 score = 0.8804335837203237, recall = 0.9083143039609505, precision = 0.9070499771270725\n",
      "threshold = 0.51 -> f1 score = 0.8798027495112746, recall = 0.9140735284087662, precision = 0.8999722689268961\n",
      "threshold = 0.52 -> f1 score = 0.8783640755870789, recall = 0.9206515310185321, precision = 0.8909279868894041\n",
      "threshold = 0.53 -> f1 score = 0.8763265586786482, recall = 0.9269273441976912, precision = 0.8818766662068646\n",
      "threshold = 0.54 -> f1 score = 0.8723840994380293, recall = 0.9314478705421817, precision = 0.871550068992696\n",
      "threshold = 0.55 -> f1 score = 0.868872184349752, recall = 0.9379019548669778, precision = 0.8608739291135532\n",
      "threshold = 0.56 -> f1 score = 0.8639560175998697, recall = 0.9426848794900546, precision = 0.8491447994226607\n",
      "threshold = 0.57 -> f1 score = 0.8569165922752969, recall = 0.9471375504604002, precision = 0.8345462791113927\n",
      "threshold = 0.58 -> f1 score = 0.8490001594468762, recall = 0.9520956510286547, precision = 0.8188344057873376\n",
      "threshold = 0.59 -> f1 score = 0.8399160006523514, recall = 0.9558759333204232, precision = 0.8025317997465868\n",
      "Best threshold = 0.5\n",
      "Best f1 score = 0.8804335837203237\n",
      "________________________________\n",
      "Searching best min2 threshold...\n",
      "min2 threshold = 0.5 -> f1 score = 0.8804335837203237, recall = 0.9083143039609505, precision = 0.9070499771270725\n",
      "min2 threshold = 0.505 -> f1 score = 0.880861048405344, recall = 0.9090054024181463, precision = 0.9067579636944545\n",
      "min2 threshold = 0.51 -> f1 score = 0.881354770474415, recall = 0.9097910576059041, precision = 0.9063929469036821\n",
      "min2 threshold = 0.515 -> f1 score = 0.8821633695747355, recall = 0.9111951555277419, precision = 0.9058089200384464\n",
      "min2 threshold = 0.52 -> f1 score = 0.8826756251932316, recall = 0.9119815877820571, precision = 0.9055169066058284\n",
      "min2 threshold = 0.525 -> f1 score = 0.8831274348653653, recall = 0.912817650050445, precision = 0.9050788864569016\n",
      "min2 threshold = 0.53 -> f1 score = 0.8837536592760837, recall = 0.9139248676491214, precision = 0.9046408663079748\n",
      "min2 threshold = 0.535 -> f1 score = 0.8841775600942025, recall = 0.9146549012306661, precision = 0.9042758495172024\n",
      "min2 threshold = 0.54 -> f1 score = 0.8845586839751074, recall = 0.9152437949864455, precision = 0.904056839442739\n",
      "min2 threshold = 0.545 -> f1 score = 0.8852449155417593, recall = 0.9163145109060444, precision = 0.9038378293682755\n",
      "min2 threshold = 0.55 -> f1 score = 0.8854541918351353, recall = 0.9167768655076893, precision = 0.9034728125775031\n",
      "min2 threshold = 0.555 -> f1 score = 0.8858890030452422, recall = 0.9175068990892341, precision = 0.9031077957867306\n",
      "min2 threshold = 0.56 -> f1 score = 0.8862494203570394, recall = 0.9180471239395774, precision = 0.9029617890704217\n",
      "min2 threshold = 0.565 -> f1 score = 0.8865198804172496, recall = 0.9186311508048132, precision = 0.9025237689214949\n",
      "min2 threshold = 0.57 -> f1 score = 0.8867145560389946, recall = 0.9190691709537401, precision = 0.9022317554888769\n",
      "min2 threshold = 0.575 -> f1 score = 0.8871865000194801, recall = 0.9199019545237687, precision = 0.9018667386981047\n",
      "min2 threshold = 0.58 -> f1 score = 0.8877135147383476, recall = 0.9207390596972733, precision = 0.9016477286236413\n",
      "min2 threshold = 0.585 -> f1 score = 0.8879441021130434, recall = 0.9211152008092881, precision = 0.9014287185491778\n",
      "min2 threshold = 0.59 -> f1 score = 0.8881436446253322, recall = 0.9214680503737016, precision = 0.9012097084747144\n",
      "min2 threshold = 0.595 -> f1 score = 0.8883967229336011, recall = 0.9219060705226285, precision = 0.9010637017584053\n",
      "min2 threshold = 0.6 -> f1 score = 0.8884412202185714, recall = 0.9220812785821992, precision = 0.9007716883257875\n",
      "min2 threshold = 0.605 -> f1 score = 0.8884116712402707, recall = 0.9222272852985082, precision = 0.9003336681768606\n",
      "min2 threshold = 0.61 -> f1 score = 0.888458516446993, recall = 0.9224462953729715, precision = 0.8998956480279338\n",
      "min2 threshold = 0.615 -> f1 score = 0.8885069661231255, recall = 0.922665305447435, precision = 0.8995306312371614\n",
      "min2 threshold = 0.62 -> f1 score = 0.8886673595818106, recall = 0.9230424894645662, precision = 0.8991656144463891\n",
      "min2 threshold = 0.625 -> f1 score = 0.8887890318454015, recall = 0.9233588373499025, precision = 0.8988005976556166\n",
      "min2 threshold = 0.63 -> f1 score = 0.8889001166290867, recall = 0.9237267170174652, precision = 0.8982895741485353\n",
      "min2 threshold = 0.635 -> f1 score = 0.8886762396640795, recall = 0.9237753859229016, precision = 0.8973405304925273\n",
      "min2 threshold = 0.64 -> f1 score = 0.8887589768033212, recall = 0.9239213926392106, precision = 0.8972675271343727\n",
      "min2 threshold = 0.645 -> f1 score = 0.8886373045397303, recall = 0.9239213926392106, precision = 0.8969025103436004\n",
      "min2 threshold = 0.65 -> f1 score = 0.8886762396640794, recall = 0.924140402713674, precision = 0.896537493552828\n",
      "min2 threshold = 0.655 -> f1 score = 0.8885885296787669, recall = 0.924140402713674, precision = 0.8961724767620557\n",
      "min2 threshold = 0.66 -> f1 score = 0.8886177310220286, recall = 0.9243350783354194, precision = 0.8958074599712833\n",
      "min2 threshold = 0.665 -> f1 score = 0.8885787958976794, recall = 0.9243350783354194, precision = 0.8956614532549743\n",
      "min2 threshold = 0.67 -> f1 score = 0.8884327891813706, recall = 0.9243350783354194, precision = 0.8952234331060474\n",
      "min2 threshold = 0.675 -> f1 score = 0.8884522567435451, recall = 0.9243837472408558, precision = 0.8951504297478928\n",
      "min2 threshold = 0.68 -> f1 score = 0.8883792533853905, recall = 0.9243837472408558, precision = 0.8949314196734294\n",
      "min2 threshold = 0.685 -> f1 score = 0.8883236317791776, recall = 0.9243837472408558, precision = 0.894712409598966\n",
      "min2 threshold = 0.69 -> f1 score = 0.8882506284210231, recall = 0.9243837472408558, precision = 0.8944933995245026\n",
      "min2 threshold = 0.695 -> f1 score = 0.8882506284210231, recall = 0.9243837472408558, precision = 0.8944933995245026\n",
      "Best min2 threshold = 0.63\n",
      "Best f1 score after min2 = 0.8889001166290867\n",
      "f1 score after voting = 0.8807109852396745, recall = 0.9138259712157547, precision = 0.9024479123771321\n",
      "f1 score after min2 and voting = 0.8889670208942388, recall = 0.9284424576502244, precision = 0.8931791924822262\n"
     ]
    }
   ],
   "source": [
    "CFG.DEVICE = 'cuda:2'\n",
    "CFG.BATCH_SIZE = 16\n",
    "result_df = run_nfnet_sbert_ensemble()"
   ]
  },
  {
   "cell_type": "code",
   "execution_count": 3,
   "metadata": {},
   "outputs": [
    {
     "output_type": "execute_result",
     "data": {
      "text/plain": [
       "         f1    recall  precision\n",
       "0  0.880711  0.913826   0.902448\n",
       "1  0.888967  0.928442   0.893179"
      ],
      "text/html": "<div>\n<style scoped>\n    .dataframe tbody tr th:only-of-type {\n        vertical-align: middle;\n    }\n\n    .dataframe tbody tr th {\n        vertical-align: top;\n    }\n\n    .dataframe thead th {\n        text-align: right;\n    }\n</style>\n<table border=\"1\" class=\"dataframe\">\n  <thead>\n    <tr style=\"text-align: right;\">\n      <th></th>\n      <th>f1</th>\n      <th>recall</th>\n      <th>precision</th>\n    </tr>\n  </thead>\n  <tbody>\n    <tr>\n      <th>0</th>\n      <td>0.880711</td>\n      <td>0.913826</td>\n      <td>0.902448</td>\n    </tr>\n    <tr>\n      <th>1</th>\n      <td>0.888967</td>\n      <td>0.928442</td>\n      <td>0.893179</td>\n    </tr>\n  </tbody>\n</table>\n</div>"
     },
     "metadata": {},
     "execution_count": 3
    }
   ],
   "source": [
    "result_df"
   ]
  },
  {
   "cell_type": "code",
   "execution_count": 4,
   "metadata": {},
   "outputs": [],
   "source": [
    "result_df.to_csv('../input/shopee-competition-results/nfnet_sbert_ensemble_df.csv', index = False)"
   ]
  }
 ]
}